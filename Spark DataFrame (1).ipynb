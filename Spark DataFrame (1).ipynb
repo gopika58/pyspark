{
 "cells": [
  {
   "cell_type": "code",
   "execution_count": 1,
   "id": "cf81f4d5",
   "metadata": {},
   "outputs": [
    {
     "data": {
      "text/html": [
       "\n",
       "        <div>\n",
       "            <p><b>SparkContext</b></p>\n",
       "\n",
       "            <p><a href=\"http://10.0.2.15:4041\">Spark UI</a></p>\n",
       "\n",
       "            <dl>\n",
       "              <dt>Version</dt>\n",
       "                <dd><code>v2.4.8</code></dd>\n",
       "              <dt>Master</dt>\n",
       "                <dd><code>local[*]</code></dd>\n",
       "              <dt>AppName</dt>\n",
       "                <dd><code>PySparkShell</code></dd>\n",
       "            </dl>\n",
       "        </div>\n",
       "        "
      ],
      "text/plain": [
       "<SparkContext master=local[*] appName=PySparkShell>"
      ]
     },
     "execution_count": 1,
     "metadata": {},
     "output_type": "execute_result"
    }
   ],
   "source": [
    "sc"
   ]
  },
  {
   "cell_type": "code",
   "execution_count": 2,
   "id": "a58503c8",
   "metadata": {
    "collapsed": true
   },
   "outputs": [
    {
     "data": {
      "text/html": [
       "\n",
       "            <div>\n",
       "                <p><b>SparkSession - hive</b></p>\n",
       "                \n",
       "        <div>\n",
       "            <p><b>SparkContext</b></p>\n",
       "\n",
       "            <p><a href=\"http://10.0.2.15:4041\">Spark UI</a></p>\n",
       "\n",
       "            <dl>\n",
       "              <dt>Version</dt>\n",
       "                <dd><code>v2.4.8</code></dd>\n",
       "              <dt>Master</dt>\n",
       "                <dd><code>local[*]</code></dd>\n",
       "              <dt>AppName</dt>\n",
       "                <dd><code>PySparkShell</code></dd>\n",
       "            </dl>\n",
       "        </div>\n",
       "        \n",
       "            </div>\n",
       "        "
      ],
      "text/plain": [
       "<pyspark.sql.session.SparkSession at 0x7ffa382f5b00>"
      ]
     },
     "execution_count": 2,
     "metadata": {},
     "output_type": "execute_result"
    }
   ],
   "source": [
    "spark"
   ]
  },
  {
   "cell_type": "markdown",
   "id": "2f32caac",
   "metadata": {},
   "source": [
    "#### 1. Create a New Spark Session Instance."
   ]
  },
  {
   "cell_type": "code",
   "execution_count": 3,
   "id": "6454f19f",
   "metadata": {},
   "outputs": [],
   "source": [
    "sc.stop()"
   ]
  },
  {
   "cell_type": "code",
   "execution_count": 6,
   "id": "d6821814",
   "metadata": {},
   "outputs": [],
   "source": [
    "from pyspark import SparkConf, SparkContext\n",
    "config = SparkConf().setAppName(\"PysparkSession\").setMaster(\"local[4]\")\n",
    "sc = SparkContext(conf=config)"
   ]
  },
  {
   "cell_type": "code",
   "execution_count": 58,
   "id": "e1e1e1d8",
   "metadata": {},
   "outputs": [
    {
     "data": {
      "text/html": [
       "\n",
       "        <div>\n",
       "            <p><b>SparkContext</b></p>\n",
       "\n",
       "            <p><a href=\"http://10.0.2.15:4041\">Spark UI</a></p>\n",
       "\n",
       "            <dl>\n",
       "              <dt>Version</dt>\n",
       "                <dd><code>v2.4.8</code></dd>\n",
       "              <dt>Master</dt>\n",
       "                <dd><code>local[4]</code></dd>\n",
       "              <dt>AppName</dt>\n",
       "                <dd><code>PysparkSession</code></dd>\n",
       "            </dl>\n",
       "        </div>\n",
       "        "
      ],
      "text/plain": [
       "<SparkContext master=local[4] appName=PysparkSession>"
      ]
     },
     "execution_count": 58,
     "metadata": {},
     "output_type": "execute_result"
    }
   ],
   "source": [
    "sc"
   ]
  },
  {
   "cell_type": "code",
   "execution_count": 8,
   "id": "ed8b39b3",
   "metadata": {},
   "outputs": [],
   "source": [
    "#Spark Session() - \n",
    "from pyspark.sql import SparkSession\n",
    "spark = SparkSession.builder.appName('PySparkSession').getOrCreate()"
   ]
  },
  {
   "cell_type": "code",
   "execution_count": 9,
   "id": "8051b635",
   "metadata": {},
   "outputs": [],
   "source": [
    "!hdfs dfs -mkdir /flights"
   ]
  },
  {
   "cell_type": "code",
   "execution_count": 10,
   "id": "f39c8822",
   "metadata": {},
   "outputs": [],
   "source": [
    "!hdfs dfs -put /home/hadoop/Downloads/raw_flight_data.csv /flights"
   ]
  },
  {
   "cell_type": "code",
   "execution_count": 15,
   "id": "64a60e07",
   "metadata": {},
   "outputs": [],
   "source": [
    "flights_df = spark.read.csv(\"/flights/raw_flight_data.csv\", inferSchema=True, header = True)"
   ]
  },
  {
   "cell_type": "code",
   "execution_count": 16,
   "id": "4e6eeda1",
   "metadata": {},
   "outputs": [
    {
     "data": {
      "text/plain": [
       "[Row(DayofMonth=19, DayOfWeek=5, Carrier='DL', OriginAirportID=11433, DestAirportID=13303, DepDelay=-3, ArrDelay=1),\n",
       " Row(DayofMonth=19, DayOfWeek=5, Carrier='DL', OriginAirportID=14869, DestAirportID=12478, DepDelay=0, ArrDelay=-8),\n",
       " Row(DayofMonth=19, DayOfWeek=5, Carrier='DL', OriginAirportID=14057, DestAirportID=14869, DepDelay=-4, ArrDelay=-15),\n",
       " Row(DayofMonth=19, DayOfWeek=5, Carrier='DL', OriginAirportID=15016, DestAirportID=11433, DepDelay=28, ArrDelay=24),\n",
       " Row(DayofMonth=19, DayOfWeek=5, Carrier='DL', OriginAirportID=11193, DestAirportID=12892, DepDelay=-6, ArrDelay=-11)]"
      ]
     },
     "execution_count": 16,
     "metadata": {},
     "output_type": "execute_result"
    }
   ],
   "source": [
    "flights_df.head(5)"
   ]
  },
  {
   "cell_type": "code",
   "execution_count": 17,
   "id": "c1c36db1",
   "metadata": {},
   "outputs": [
    {
     "name": "stdout",
     "output_type": "stream",
     "text": [
      "+----------+---------+-------+---------------+-------------+--------+--------+\n",
      "|DayofMonth|DayOfWeek|Carrier|OriginAirportID|DestAirportID|DepDelay|ArrDelay|\n",
      "+----------+---------+-------+---------------+-------------+--------+--------+\n",
      "|        19|        5|     DL|          11433|        13303|      -3|       1|\n",
      "|        19|        5|     DL|          14869|        12478|       0|      -8|\n",
      "|        19|        5|     DL|          14057|        14869|      -4|     -15|\n",
      "|        19|        5|     DL|          15016|        11433|      28|      24|\n",
      "|        19|        5|     DL|          11193|        12892|      -6|     -11|\n",
      "|        19|        5|     DL|          10397|        15016|      -1|     -19|\n",
      "|        19|        5|     DL|          15016|        10397|       0|      -1|\n",
      "|        19|        5|     DL|          10397|        14869|      15|      24|\n",
      "|        19|        5|     DL|          10397|        10423|      33|      34|\n",
      "|        19|        5|     DL|          11278|        10397|     323|     322|\n",
      "|        19|        5|     DL|          14107|        13487|      -7|     -13|\n",
      "|        19|        5|     DL|          11433|        11298|      22|      41|\n",
      "|        19|        5|     DL|          11298|        11433|      40|      20|\n",
      "|        19|        5|     DL|          11433|        12892|      -2|      -7|\n",
      "|        19|        5|     DL|          10397|        12451|      71|      75|\n",
      "|        19|        5|     DL|          12451|        10397|      75|      57|\n",
      "|        19|        5|     DL|          12953|        10397|      -1|      10|\n",
      "|        19|        5|     DL|          11433|        12953|      -3|     -10|\n",
      "|        19|        5|     DL|          10397|        14771|      31|      38|\n",
      "|        19|        5|     DL|          13204|        10397|       8|      25|\n",
      "+----------+---------+-------+---------------+-------------+--------+--------+\n",
      "only showing top 20 rows\n",
      "\n"
     ]
    }
   ],
   "source": [
    "flights_df.show()"
   ]
  },
  {
   "cell_type": "markdown",
   "id": "52ad8b78",
   "metadata": {},
   "source": [
    "#### Select\n",
    "    * To select specific column"
   ]
  },
  {
   "cell_type": "code",
   "execution_count": 18,
   "id": "9fdaf96e",
   "metadata": {
    "collapsed": true
   },
   "outputs": [
    {
     "name": "stdout",
     "output_type": "stream",
     "text": [
      "+----------+-------+---------------+--------+\n",
      "|DayofMonth|Carrier|OriginAirportID|DepDelay|\n",
      "+----------+-------+---------------+--------+\n",
      "|        19|     DL|          11433|      -3|\n",
      "|        19|     DL|          14869|       0|\n",
      "|        19|     DL|          14057|      -4|\n",
      "|        19|     DL|          15016|      28|\n",
      "|        19|     DL|          11193|      -6|\n",
      "|        19|     DL|          10397|      -1|\n",
      "|        19|     DL|          15016|       0|\n",
      "|        19|     DL|          10397|      15|\n",
      "|        19|     DL|          10397|      33|\n",
      "|        19|     DL|          11278|     323|\n",
      "|        19|     DL|          14107|      -7|\n",
      "|        19|     DL|          11433|      22|\n",
      "|        19|     DL|          11298|      40|\n",
      "|        19|     DL|          11433|      -2|\n",
      "|        19|     DL|          10397|      71|\n",
      "|        19|     DL|          12451|      75|\n",
      "|        19|     DL|          12953|      -1|\n",
      "|        19|     DL|          11433|      -3|\n",
      "|        19|     DL|          10397|      31|\n",
      "|        19|     DL|          13204|       8|\n",
      "+----------+-------+---------------+--------+\n",
      "only showing top 20 rows\n",
      "\n"
     ]
    }
   ],
   "source": [
    "# .select() - method to select column names\n",
    "# .show() - To show output\n",
    "flights_df.select(['DayofMonth','Carrier','OriginAirportID','DepDelay']).show()"
   ]
  },
  {
   "cell_type": "code",
   "execution_count": 19,
   "id": "d407e686",
   "metadata": {},
   "outputs": [
    {
     "name": "stdout",
     "output_type": "stream",
     "text": [
      "+-------+\n",
      "|Carrier|\n",
      "+-------+\n",
      "|     UA|\n",
      "|     AA|\n",
      "|     EV|\n",
      "|     B6|\n",
      "|     DL|\n",
      "|     OO|\n",
      "|     F9|\n",
      "|     YV|\n",
      "|     US|\n",
      "|     MQ|\n",
      "|     HA|\n",
      "|     AS|\n",
      "|     FL|\n",
      "|     VX|\n",
      "|     WN|\n",
      "|     9E|\n",
      "+-------+\n",
      "\n"
     ]
    }
   ],
   "source": [
    "flights_df.select(['Carrier']).distinct().show()"
   ]
  },
  {
   "cell_type": "markdown",
   "id": "1e766eaa",
   "metadata": {},
   "source": [
    "#### 2. count() - Aggregate method to display count of Carrier"
   ]
  },
  {
   "cell_type": "code",
   "execution_count": 20,
   "id": "e9df12ca",
   "metadata": {},
   "outputs": [
    {
     "data": {
      "text/plain": [
       "16"
      ]
     },
     "execution_count": 20,
     "metadata": {},
     "output_type": "execute_result"
    }
   ],
   "source": [
    "flights_df.select(['Carrier']).distinct().count()"
   ]
  },
  {
   "cell_type": "markdown",
   "id": "da8bc8b6",
   "metadata": {},
   "source": [
    "#### 3. where() :\n",
    "    * It is Just like filter() method of RDD with boolean conditions statements"
   ]
  },
  {
   "cell_type": "code",
   "execution_count": 22,
   "id": "67cdd005",
   "metadata": {
    "collapsed": true
   },
   "outputs": [
    {
     "name": "stdout",
     "output_type": "stream",
     "text": [
      "+----------+---------+-------+---------------+-------------+--------+--------+\n",
      "|DayofMonth|DayOfWeek|Carrier|OriginAirportID|DestAirportID|DepDelay|ArrDelay|\n",
      "+----------+---------+-------+---------------+-------------+--------+--------+\n",
      "|        19|        5|     DL|          15016|        11433|      28|      24|\n",
      "|        19|        5|     DL|          10397|        14869|      15|      24|\n",
      "|        19|        5|     DL|          10397|        10423|      33|      34|\n",
      "|        19|        5|     DL|          11278|        10397|     323|     322|\n",
      "|        19|        5|     DL|          11433|        11298|      22|      41|\n",
      "|        19|        5|     DL|          11298|        11433|      40|      20|\n",
      "|        19|        5|     DL|          10397|        12451|      71|      75|\n",
      "|        19|        5|     DL|          12451|        10397|      75|      57|\n",
      "|        19|        5|     DL|          10397|        14771|      31|      38|\n",
      "|        19|        5|     DL|          13204|        10397|       8|      25|\n",
      "|        19|        5|     DL|          12889|        13487|       7|      16|\n",
      "|        19|        5|     DL|          14027|        10397|      13|      25|\n",
      "|        19|        5|     DL|          13244|        10397|       4|      13|\n",
      "|        19|        5|     DL|          10397|        12892|      15|       7|\n",
      "|        19|        5|     DL|          14747|        14869|      15|      18|\n",
      "|        19|        5|     DL|          10423|        10397|      56|      49|\n",
      "|        20|        6|     DL|          10397|        11278|       2|       1|\n",
      "|        20|        6|     DL|          11278|        10397|      34|      38|\n",
      "|        20|        6|     DL|          11697|        12953|      20|       1|\n",
      "|        20|        6|     DL|          13487|        13198|      35|      26|\n",
      "+----------+---------+-------+---------------+-------------+--------+--------+\n",
      "only showing top 20 rows\n",
      "\n"
     ]
    }
   ],
   "source": [
    "flights_df.where((flights_df.DepDelay > 0) & (flights_df.ArrDelay > 0)).show()"
   ]
  },
  {
   "cell_type": "markdown",
   "id": "85374285",
   "metadata": {},
   "source": [
    "#### 4. Filter()"
   ]
  },
  {
   "cell_type": "code",
   "execution_count": 23,
   "id": "8dc6dfa0",
   "metadata": {
    "collapsed": true
   },
   "outputs": [
    {
     "name": "stdout",
     "output_type": "stream",
     "text": [
      "+----------+---------+-------+---------------+-------------+--------+--------+\n",
      "|DayofMonth|DayOfWeek|Carrier|OriginAirportID|DestAirportID|DepDelay|ArrDelay|\n",
      "+----------+---------+-------+---------------+-------------+--------+--------+\n",
      "|        19|        5|     DL|          15016|        11433|      28|      24|\n",
      "|        19|        5|     DL|          10397|        14869|      15|      24|\n",
      "|        19|        5|     DL|          10397|        10423|      33|      34|\n",
      "|        19|        5|     DL|          11278|        10397|     323|     322|\n",
      "|        19|        5|     DL|          11433|        11298|      22|      41|\n",
      "|        19|        5|     DL|          11298|        11433|      40|      20|\n",
      "|        19|        5|     DL|          10397|        12451|      71|      75|\n",
      "|        19|        5|     DL|          12451|        10397|      75|      57|\n",
      "|        19|        5|     DL|          10397|        14771|      31|      38|\n",
      "|        19|        5|     DL|          13204|        10397|       8|      25|\n",
      "|        19|        5|     DL|          12889|        13487|       7|      16|\n",
      "|        19|        5|     DL|          14027|        10397|      13|      25|\n",
      "|        19|        5|     DL|          13244|        10397|       4|      13|\n",
      "|        19|        5|     DL|          10397|        12892|      15|       7|\n",
      "|        19|        5|     DL|          14747|        14869|      15|      18|\n",
      "|        19|        5|     DL|          10423|        10397|      56|      49|\n",
      "|        20|        6|     DL|          10397|        11278|       2|       1|\n",
      "|        20|        6|     DL|          11278|        10397|      34|      38|\n",
      "|        20|        6|     DL|          11697|        12953|      20|       1|\n",
      "|        20|        6|     DL|          13487|        13198|      35|      26|\n",
      "+----------+---------+-------+---------------+-------------+--------+--------+\n",
      "only showing top 20 rows\n",
      "\n"
     ]
    }
   ],
   "source": [
    "flights_df.filter((flights_df.DepDelay > 0) & (flights_df.ArrDelay > 0)).show()"
   ]
  },
  {
   "cell_type": "markdown",
   "id": "4416ef6b",
   "metadata": {},
   "source": [
    "#### 5. isin()\n",
    "    * Filter values by matching pattern."
   ]
  },
  {
   "cell_type": "code",
   "execution_count": 25,
   "id": "462ca67c",
   "metadata": {},
   "outputs": [
    {
     "name": "stdout",
     "output_type": "stream",
     "text": [
      "+----------+---------+-------+---------------+-------------+--------+--------+\n",
      "|DayofMonth|DayOfWeek|Carrier|OriginAirportID|DestAirportID|DepDelay|ArrDelay|\n",
      "+----------+---------+-------+---------------+-------------+--------+--------+\n",
      "|        19|        5|     DL|          11433|        13303|      -3|       1|\n",
      "|        19|        5|     DL|          14869|        12478|       0|      -8|\n",
      "|        19|        5|     DL|          14057|        14869|      -4|     -15|\n",
      "|        19|        5|     DL|          15016|        11433|      28|      24|\n",
      "|        19|        5|     DL|          11193|        12892|      -6|     -11|\n",
      "|        19|        5|     DL|          10397|        15016|      -1|     -19|\n",
      "|        19|        5|     DL|          15016|        10397|       0|      -1|\n",
      "|        19|        5|     DL|          10397|        14869|      15|      24|\n",
      "|        19|        5|     DL|          10397|        10423|      33|      34|\n",
      "|        19|        5|     DL|          11278|        10397|     323|     322|\n",
      "|        19|        5|     DL|          14107|        13487|      -7|     -13|\n",
      "|        19|        5|     DL|          11433|        11298|      22|      41|\n",
      "|        19|        5|     DL|          11298|        11433|      40|      20|\n",
      "|        19|        5|     DL|          11433|        12892|      -2|      -7|\n",
      "|        19|        5|     DL|          10397|        12451|      71|      75|\n",
      "|        19|        5|     DL|          12451|        10397|      75|      57|\n",
      "|        19|        5|     DL|          12953|        10397|      -1|      10|\n",
      "|        19|        5|     DL|          11433|        12953|      -3|     -10|\n",
      "|        19|        5|     DL|          10397|        14771|      31|      38|\n",
      "|        19|        5|     DL|          13204|        10397|       8|      25|\n",
      "+----------+---------+-------+---------------+-------------+--------+--------+\n",
      "only showing top 20 rows\n",
      "\n"
     ]
    }
   ],
   "source": [
    "flights_df.where(flights_df.Carrier.isin('DL','B6','UA')).show()"
   ]
  },
  {
   "cell_type": "code",
   "execution_count": 28,
   "id": "9025c340",
   "metadata": {},
   "outputs": [],
   "source": [
    "airports_df = spark.read.csv(\"file:///home/hadoop/Downloads/airports.csv\", header = True,\n",
    "                            inferSchema=True)"
   ]
  },
  {
   "cell_type": "markdown",
   "id": "0a25c5bf",
   "metadata": {},
   "source": [
    "#### 7. printSchema() - \n",
    "    * Show column name, Data Types of Each Column and if column is having Null Values."
   ]
  },
  {
   "cell_type": "code",
   "execution_count": 29,
   "id": "09e16ba3",
   "metadata": {},
   "outputs": [
    {
     "name": "stdout",
     "output_type": "stream",
     "text": [
      "root\n",
      " |-- airport_id: integer (nullable = true)\n",
      " |-- city: string (nullable = true)\n",
      " |-- state: string (nullable = true)\n",
      " |-- name: string (nullable = true)\n",
      "\n"
     ]
    }
   ],
   "source": [
    "airports_df.printSchema()"
   ]
  },
  {
   "cell_type": "code",
   "execution_count": 30,
   "id": "bfabf2c9",
   "metadata": {},
   "outputs": [
    {
     "name": "stdout",
     "output_type": "stream",
     "text": [
      "+----------+-----------+-----+--------------------+\n",
      "|airport_id|       city|state|                name|\n",
      "+----------+-----------+-----+--------------------+\n",
      "|     10165|Adak Island|   AK|                Adak|\n",
      "|     10299|  Anchorage|   AK|Ted Stevens Ancho...|\n",
      "|     10304|      Aniak|   AK|       Aniak Airport|\n",
      "|     10754|     Barrow|   AK|Wiley Post/Will R...|\n",
      "|     10551|     Bethel|   AK|      Bethel Airport|\n",
      "|     10926|    Cordova|   AK|Merle K Mudhole S...|\n",
      "|     14709|  Deadhorse|   AK|   Deadhorse Airport|\n",
      "|     11336| Dillingham|   AK|  Dillingham Airport|\n",
      "|     11630|  Fairbanks|   AK|Fairbanks Interna...|\n",
      "|     11997|   Gustavus|   AK|    Gustavus Airport|\n",
      "|     12523|     Juneau|   AK|Juneau International|\n",
      "|     12819|  Ketchikan|   AK|Ketchikan Interna...|\n",
      "|     10245|King Salmon|   AK| King Salmon Airport|\n",
      "|     10170|     Kodiak|   AK|      Kodiak Airport|\n",
      "|     13970|   Kotzebue|   AK| Ralph Wien Memorial|\n",
      "|     13873|       Nome|   AK|        Nome Airport|\n",
      "|     14256| Petersburg|   AK|Petersburg James ...|\n",
      "|     14828|      Sitka|   AK|Sitka Rocky Gutie...|\n",
      "|     12807| St. Mary's|   AK|  St. Mary's Airport|\n",
      "|     11445|   Unalaska|   AK|    Unalaska Airport|\n",
      "+----------+-----------+-----+--------------------+\n",
      "only showing top 20 rows\n",
      "\n"
     ]
    }
   ],
   "source": [
    "airports_df.show()"
   ]
  },
  {
   "cell_type": "markdown",
   "id": "b3c27ddf",
   "metadata": {},
   "source": [
    "#### 8. Join Method()\n",
    "    * To join between two or more than two DataFrames using condition"
   ]
  },
  {
   "cell_type": "code",
   "execution_count": 31,
   "id": "62e4cd20",
   "metadata": {
    "collapsed": true
   },
   "outputs": [
    {
     "name": "stdout",
     "output_type": "stream",
     "text": [
      "+----------+---------+-------+---------------+-------------+--------+--------+----------+-----------------+-----+--------------------+\n",
      "|DayofMonth|DayOfWeek|Carrier|OriginAirportID|DestAirportID|DepDelay|ArrDelay|airport_id|             city|state|                name|\n",
      "+----------+---------+-------+---------------+-------------+--------+--------+----------+-----------------+-----+--------------------+\n",
      "|        19|        5|     DL|          11433|        13303|      -3|       1|     11433|          Detroit|   MI|Detroit Metro Way...|\n",
      "|        19|        5|     DL|          14869|        12478|       0|      -8|     14869|   Salt Lake City|   UT|Salt Lake City In...|\n",
      "|        19|        5|     DL|          14057|        14869|      -4|     -15|     14057|         Portland|   OR|Portland Internat...|\n",
      "|        19|        5|     DL|          15016|        11433|      28|      24|     15016|        St. Louis|   MO|Lambert-St. Louis...|\n",
      "|        19|        5|     DL|          11193|        12892|      -6|     -11|     11193|       Cincinnati|   OH|Cincinnati/Northe...|\n",
      "|        19|        5|     DL|          10397|        15016|      -1|     -19|     10397|          Atlanta|   GA|Hartsfield-Jackso...|\n",
      "|        19|        5|     DL|          15016|        10397|       0|      -1|     15016|        St. Louis|   MO|Lambert-St. Louis...|\n",
      "|        19|        5|     DL|          10397|        14869|      15|      24|     10397|          Atlanta|   GA|Hartsfield-Jackso...|\n",
      "|        19|        5|     DL|          10397|        10423|      33|      34|     10397|          Atlanta|   GA|Hartsfield-Jackso...|\n",
      "|        19|        5|     DL|          11278|        10397|     323|     322|     11278|       Washington|   DC|Ronald Reagan Was...|\n",
      "|        19|        5|     DL|          14107|        13487|      -7|     -13|     14107|          Phoenix|   AZ|Phoenix Sky Harbo...|\n",
      "|        19|        5|     DL|          11433|        11298|      22|      41|     11433|          Detroit|   MI|Detroit Metro Way...|\n",
      "|        19|        5|     DL|          11298|        11433|      40|      20|     11298|Dallas/Fort Worth|   TX|Dallas/Fort Worth...|\n",
      "|        19|        5|     DL|          11433|        12892|      -2|      -7|     11433|          Detroit|   MI|Detroit Metro Way...|\n",
      "|        19|        5|     DL|          10397|        12451|      71|      75|     10397|          Atlanta|   GA|Hartsfield-Jackso...|\n",
      "|        19|        5|     DL|          12451|        10397|      75|      57|     12451|     Jacksonville|   FL|Jacksonville Inte...|\n",
      "|        19|        5|     DL|          12953|        10397|      -1|      10|     12953|         New York|   NY|           LaGuardia|\n",
      "|        19|        5|     DL|          11433|        12953|      -3|     -10|     11433|          Detroit|   MI|Detroit Metro Way...|\n",
      "|        19|        5|     DL|          10397|        14771|      31|      38|     10397|          Atlanta|   GA|Hartsfield-Jackso...|\n",
      "|        19|        5|     DL|          13204|        10397|       8|      25|     13204|          Orlando|   FL|Orlando Internati...|\n",
      "+----------+---------+-------+---------------+-------------+--------+--------+----------+-----------------+-----+--------------------+\n",
      "only showing top 20 rows\n",
      "\n"
     ]
    }
   ],
   "source": [
    "flight_airportDF = flights_df.join(airports_df, flights_df.OriginAirportID == airports_df.airport_id)\n",
    "flight_airportDF.show()"
   ]
  },
  {
   "cell_type": "code",
   "execution_count": 36,
   "id": "c10ab3db",
   "metadata": {
    "collapsed": true
   },
   "outputs": [
    {
     "name": "stdout",
     "output_type": "stream",
     "text": [
      "+----------+---------+-------+---------------+-------------+--------+--------+----------+--------------------+\n",
      "|DayofMonth|DayOfWeek|Carrier|OriginAirportID|DestAirportID|DepDelay|ArrDelay|airport_id|                name|\n",
      "+----------+---------+-------+---------------+-------------+--------+--------+----------+--------------------+\n",
      "|        19|        5|     DL|          11433|        13303|      -3|       1|     11433|Detroit Metro Way...|\n",
      "|        19|        5|     DL|          14869|        12478|       0|      -8|     14869|Salt Lake City In...|\n",
      "|        19|        5|     DL|          14057|        14869|      -4|     -15|     14057|Portland Internat...|\n",
      "|        19|        5|     DL|          15016|        11433|      28|      24|     15016|Lambert-St. Louis...|\n",
      "|        19|        5|     DL|          11193|        12892|      -6|     -11|     11193|Cincinnati/Northe...|\n",
      "|        19|        5|     DL|          10397|        15016|      -1|     -19|     10397|Hartsfield-Jackso...|\n",
      "|        19|        5|     DL|          15016|        10397|       0|      -1|     15016|Lambert-St. Louis...|\n",
      "|        19|        5|     DL|          10397|        14869|      15|      24|     10397|Hartsfield-Jackso...|\n",
      "|        19|        5|     DL|          10397|        10423|      33|      34|     10397|Hartsfield-Jackso...|\n",
      "|        19|        5|     DL|          11278|        10397|     323|     322|     11278|Ronald Reagan Was...|\n",
      "|        19|        5|     DL|          14107|        13487|      -7|     -13|     14107|Phoenix Sky Harbo...|\n",
      "|        19|        5|     DL|          11433|        11298|      22|      41|     11433|Detroit Metro Way...|\n",
      "|        19|        5|     DL|          11298|        11433|      40|      20|     11298|Dallas/Fort Worth...|\n",
      "|        19|        5|     DL|          11433|        12892|      -2|      -7|     11433|Detroit Metro Way...|\n",
      "|        19|        5|     DL|          10397|        12451|      71|      75|     10397|Hartsfield-Jackso...|\n",
      "|        19|        5|     DL|          12451|        10397|      75|      57|     12451|Jacksonville Inte...|\n",
      "|        19|        5|     DL|          12953|        10397|      -1|      10|     12953|           LaGuardia|\n",
      "|        19|        5|     DL|          11433|        12953|      -3|     -10|     11433|Detroit Metro Way...|\n",
      "|        19|        5|     DL|          10397|        14771|      31|      38|     10397|Hartsfield-Jackso...|\n",
      "|        19|        5|     DL|          13204|        10397|       8|      25|     13204|Orlando Internati...|\n",
      "+----------+---------+-------+---------------+-------------+--------+--------+----------+--------------------+\n",
      "only showing top 20 rows\n",
      "\n"
     ]
    }
   ],
   "source": [
    "flights_df.join(airports_df.select(['airport_id','name']), flights_df.OriginAirportID == airports_df.airport_id).show()"
   ]
  },
  {
   "cell_type": "code",
   "execution_count": 39,
   "id": "a272df01",
   "metadata": {
    "collapsed": true
   },
   "outputs": [
    {
     "data": {
      "text/plain": [
       "['DayofMonth',\n",
       " 'DayOfWeek',\n",
       " 'Carrier',\n",
       " 'OriginAirportID',\n",
       " 'DestAirportID',\n",
       " 'DepDelay',\n",
       " 'ArrDelay',\n",
       " 'airport_id',\n",
       " 'city',\n",
       " 'state',\n",
       " 'name']"
      ]
     },
     "execution_count": 39,
     "metadata": {},
     "output_type": "execute_result"
    }
   ],
   "source": [
    "flight_airportDF.columns"
   ]
  },
  {
   "cell_type": "markdown",
   "id": "f112204e",
   "metadata": {},
   "source": [
    "#### isnull()"
   ]
  },
  {
   "cell_type": "code",
   "execution_count": 47,
   "id": "83e63f71",
   "metadata": {},
   "outputs": [
    {
     "name": "stdout",
     "output_type": "stream",
     "text": [
      "+----------+---------+-------+---------------+-------------+--------+--------+\n",
      "|DayofMonth|DayOfWeek|Carrier|OriginAirportID|DestAirportID|DepDelay|ArrDelay|\n",
      "+----------+---------+-------+---------------+-------------+--------+--------+\n",
      "|         0|        0|      0|              0|            0|   27444|   29033|\n",
      "+----------+---------+-------+---------------+-------------+--------+--------+\n",
      "\n"
     ]
    }
   ],
   "source": [
    "from pyspark.sql.functions import *\n",
    "\n",
    "flights_df.select([count(when(isnull(col), col)).alias(col) for col in flights_df.columns]).show()"
   ]
  },
  {
   "cell_type": "code",
   "execution_count": 48,
   "id": "1d364ee1",
   "metadata": {
    "collapsed": true
   },
   "outputs": [
    {
     "ename": "ImportError",
     "evalue": "Pandas >= 0.19.2 must be installed; however, it was not found.",
     "output_type": "error",
     "traceback": [
      "\u001b[0;31m---------------------------------------------------------------------------\u001b[0m",
      "\u001b[0;31mImportError\u001b[0m                               Traceback (most recent call last)",
      "\u001b[0;32m<ipython-input-48-22a38368e822>\u001b[0m in \u001b[0;36m<module>\u001b[0;34m\u001b[0m\n\u001b[0;32m----> 1\u001b[0;31m \u001b[0mflights_df\u001b[0m\u001b[0;34m.\u001b[0m\u001b[0mtoPandas\u001b[0m\u001b[0;34m(\u001b[0m\u001b[0;34m)\u001b[0m\u001b[0;34m\u001b[0m\u001b[0;34m\u001b[0m\u001b[0m\n\u001b[0m",
      "\u001b[0;32m/usr/local/spark/python/pyspark/sql/dataframe.py\u001b[0m in \u001b[0;36mtoPandas\u001b[0;34m(self)\u001b[0m\n\u001b[1;32m   2082\u001b[0m         \"\"\"\n\u001b[1;32m   2083\u001b[0m         \u001b[0;32mfrom\u001b[0m \u001b[0mpyspark\u001b[0m\u001b[0;34m.\u001b[0m\u001b[0msql\u001b[0m\u001b[0;34m.\u001b[0m\u001b[0mutils\u001b[0m \u001b[0;32mimport\u001b[0m \u001b[0mrequire_minimum_pandas_version\u001b[0m\u001b[0;34m\u001b[0m\u001b[0;34m\u001b[0m\u001b[0m\n\u001b[0;32m-> 2084\u001b[0;31m         \u001b[0mrequire_minimum_pandas_version\u001b[0m\u001b[0;34m(\u001b[0m\u001b[0;34m)\u001b[0m\u001b[0;34m\u001b[0m\u001b[0;34m\u001b[0m\u001b[0m\n\u001b[0m\u001b[1;32m   2085\u001b[0m \u001b[0;34m\u001b[0m\u001b[0m\n\u001b[1;32m   2086\u001b[0m         \u001b[0;32mimport\u001b[0m \u001b[0mpandas\u001b[0m \u001b[0;32mas\u001b[0m \u001b[0mpd\u001b[0m\u001b[0;34m\u001b[0m\u001b[0;34m\u001b[0m\u001b[0m\n",
      "\u001b[0;32m/usr/local/spark/python/pyspark/sql/utils.py\u001b[0m in \u001b[0;36mrequire_minimum_pandas_version\u001b[0;34m()\u001b[0m\n\u001b[1;32m    127\u001b[0m     \u001b[0;32mif\u001b[0m \u001b[0;32mnot\u001b[0m \u001b[0mhave_pandas\u001b[0m\u001b[0;34m:\u001b[0m\u001b[0;34m\u001b[0m\u001b[0;34m\u001b[0m\u001b[0m\n\u001b[1;32m    128\u001b[0m         raise ImportError(\"Pandas >= %s must be installed; however, \"\n\u001b[0;32m--> 129\u001b[0;31m                           \"it was not found.\" % minimum_pandas_version)\n\u001b[0m\u001b[1;32m    130\u001b[0m     \u001b[0;32mif\u001b[0m \u001b[0mLooseVersion\u001b[0m\u001b[0;34m(\u001b[0m\u001b[0mpandas\u001b[0m\u001b[0;34m.\u001b[0m\u001b[0m__version__\u001b[0m\u001b[0;34m)\u001b[0m \u001b[0;34m<\u001b[0m \u001b[0mLooseVersion\u001b[0m\u001b[0;34m(\u001b[0m\u001b[0mminimum_pandas_version\u001b[0m\u001b[0;34m)\u001b[0m\u001b[0;34m:\u001b[0m\u001b[0;34m\u001b[0m\u001b[0;34m\u001b[0m\u001b[0m\n\u001b[1;32m    131\u001b[0m         raise ImportError(\"Pandas >= %s must be installed; however, \"\n",
      "\u001b[0;31mImportError\u001b[0m: Pandas >= 0.19.2 must be installed; however, it was not found."
     ]
    }
   ],
   "source": [
    "# flights_df.toPandas() - Typecasting Spark DF to Pandas DF"
   ]
  },
  {
   "cell_type": "markdown",
   "id": "344f466d",
   "metadata": {},
   "source": [
    "#### Drop Duplicates()\n",
    "    * It will drop duplicate records from existing DataFrame."
   ]
  },
  {
   "cell_type": "code",
   "execution_count": 50,
   "id": "55c71bdb",
   "metadata": {},
   "outputs": [],
   "source": [
    "flights_df1 = flights_df.dropDuplicates()"
   ]
  },
  {
   "cell_type": "code",
   "execution_count": 51,
   "id": "59cd8f09",
   "metadata": {},
   "outputs": [
    {
     "data": {
      "text/plain": [
       "2696983"
      ]
     },
     "execution_count": 51,
     "metadata": {},
     "output_type": "execute_result"
    }
   ],
   "source": [
    "flights_df1.count()"
   ]
  },
  {
   "cell_type": "code",
   "execution_count": 52,
   "id": "d07dfaa6",
   "metadata": {},
   "outputs": [
    {
     "data": {
      "text/plain": [
       "2719418"
      ]
     },
     "execution_count": 52,
     "metadata": {},
     "output_type": "execute_result"
    }
   ],
   "source": [
    "flights_df.count()"
   ]
  },
  {
   "cell_type": "markdown",
   "id": "c5dc7fa4",
   "metadata": {},
   "source": [
    "#### Task1: Percentage Data Lost while applying DropDuplicates()"
   ]
  },
  {
   "cell_type": "code",
   "execution_count": 53,
   "id": "95b6354b",
   "metadata": {},
   "outputs": [
    {
     "data": {
      "text/plain": [
       "0.8249927006440348"
      ]
     },
     "execution_count": 53,
     "metadata": {},
     "output_type": "execute_result"
    }
   ],
   "source": [
    "(flights_df.count() - flights_df1.count())/flights_df.count() * 100"
   ]
  },
  {
   "cell_type": "code",
   "execution_count": 54,
   "id": "898a4d72",
   "metadata": {},
   "outputs": [],
   "source": [
    "def calculate_percetange(df1, df2):\n",
    "    return (df1.count() - df2.count())/df1.count() * 100"
   ]
  },
  {
   "cell_type": "code",
   "execution_count": 55,
   "id": "c8667603",
   "metadata": {},
   "outputs": [
    {
     "data": {
      "text/plain": [
       "0.8249927006440348"
      ]
     },
     "execution_count": 55,
     "metadata": {},
     "output_type": "execute_result"
    }
   ],
   "source": [
    "calculate_percetange(flights_df, flights_df1)"
   ]
  },
  {
   "cell_type": "markdown",
   "id": "901decad",
   "metadata": {},
   "source": [
    "#### 10. fillna()\n",
    "    * To replace or fill missing column with central tendancy (mean, median, mode).\n",
    "    * Here will replace missing values by 0s"
   ]
  },
  {
   "cell_type": "code",
   "execution_count": 56,
   "id": "4c712df3",
   "metadata": {},
   "outputs": [],
   "source": [
    "flights_data = flight_airportDF.dropDuplicates().fillna(0, subset=['DepDelay','ArrDelay'])"
   ]
  },
  {
   "cell_type": "code",
   "execution_count": 57,
   "id": "094d9eb5",
   "metadata": {},
   "outputs": [
    {
     "name": "stdout",
     "output_type": "stream",
     "text": [
      "+----------+---------+-------+---------------+-------------+--------+--------+----------+-----------+-----+--------------------+\n",
      "|DayofMonth|DayOfWeek|Carrier|OriginAirportID|DestAirportID|DepDelay|ArrDelay|airport_id|       city|state|                name|\n",
      "+----------+---------+-------+---------------+-------------+--------+--------+----------+-----------+-----+--------------------+\n",
      "|         8|        1|     DL|          10140|        10397|      -3|     -10|     10140|Albuquerque|   NM|Albuquerque Inter...|\n",
      "|        13|        1|     WN|          10140|        11292|      -1|      -2|     10140|Albuquerque|   NM|Albuquerque Inter...|\n",
      "|        25|        4|     WN|          10140|        11292|       7|      -2|     10140|Albuquerque|   NM|Albuquerque Inter...|\n",
      "|         6|        6|     WN|          10140|        11292|       0|      -5|     10140|Albuquerque|   NM|Albuquerque Inter...|\n",
      "|        28|        2|     AA|          10140|        11298|      -9|     -17|     10140|Albuquerque|   NM|Albuquerque Inter...|\n",
      "|        15|        3|     AA|          10140|        11298|      31|      43|     10140|Albuquerque|   NM|Albuquerque Inter...|\n",
      "|        28|        7|     AA|          10140|        11298|      -5|       4|     10140|Albuquerque|   NM|Albuquerque Inter...|\n",
      "|        14|        2|     WN|          10140|        12191|      14|      12|     10140|Albuquerque|   NM|Albuquerque Inter...|\n",
      "|        19|        5|     WN|          10140|        12191|      60|      45|     10140|Albuquerque|   NM|Albuquerque Inter...|\n",
      "|         9|        2|     OO|          10140|        12266|      -8|      -6|     10140|Albuquerque|   NM|Albuquerque Inter...|\n",
      "|        14|        2|     WN|          10140|        12889|      -4|     -13|     10140|Albuquerque|   NM|Albuquerque Inter...|\n",
      "|        29|        1|     WN|          10140|        12892|      25|      10|     10140|Albuquerque|   NM|Albuquerque Inter...|\n",
      "|        23|        4|     OO|          10140|        12892|      -2|      -4|     10140|Albuquerque|   NM|Albuquerque Inter...|\n",
      "|        10|        5|     MQ|          10140|        12892|      -7|     -25|     10140|Albuquerque|   NM|Albuquerque Inter...|\n",
      "|        22|        3|     WN|          10140|        13198|      -2|      35|     10140|Albuquerque|   NM|Albuquerque Inter...|\n",
      "|         9|        2|     WN|          10140|        13232|       0|     -13|     10140|Albuquerque|   NM|Albuquerque Inter...|\n",
      "|         6|        6|     WN|          10140|        13232|      -3|      11|     10140|Albuquerque|   NM|Albuquerque Inter...|\n",
      "|        24|        3|     DL|          10140|        13487|      -6|     -13|     10140|Albuquerque|   NM|Albuquerque Inter...|\n",
      "|         5|        7|     WN|          10140|        14057|      -2|     -16|     10140|Albuquerque|   NM|Albuquerque Inter...|\n",
      "|        18|        6|     WN|          10140|        14107|      19|      25|     10140|Albuquerque|   NM|Albuquerque Inter...|\n",
      "+----------+---------+-------+---------------+-------------+--------+--------+----------+-----------+-----+--------------------+\n",
      "only showing top 20 rows\n",
      "\n"
     ]
    }
   ],
   "source": [
    "flights_data.show()"
   ]
  },
  {
   "cell_type": "code",
   "execution_count": 69,
   "id": "4f39ddd9",
   "metadata": {},
   "outputs": [
    {
     "name": "stdout",
     "output_type": "stream",
     "text": [
      "+----+\n",
      "|mean|\n",
      "+----+\n",
      "|11.0|\n",
      "+----+\n",
      "\n"
     ]
    }
   ],
   "source": [
    "flights_data.select(round(mean(col('DepDelay'))).alias('mean')).show()"
   ]
  },
  {
   "cell_type": "code",
   "execution_count": 72,
   "id": "e4e930fe",
   "metadata": {},
   "outputs": [
    {
     "name": "stdout",
     "output_type": "stream",
     "text": [
      "+-------+\n",
      "|std_dev|\n",
      "+-------+\n",
      "|   36.0|\n",
      "+-------+\n",
      "\n"
     ]
    }
   ],
   "source": [
    "from pyspark.sql.functions import stddev, col\n",
    "\n",
    "flights_data.select(round(stddev(col('DepDelay'))).alias('std_dev')).show()"
   ]
  },
  {
   "cell_type": "code",
   "execution_count": 75,
   "id": "a9942c6c",
   "metadata": {},
   "outputs": [
    {
     "data": {
      "text/plain": [
       "[Row(mean=11.0)]"
      ]
     },
     "execution_count": 75,
     "metadata": {},
     "output_type": "execute_result"
    }
   ],
   "source": [
    "flights_data.select(round(mean(col('DepDelay'))).alias('mean')).collect()[0][0]"
   ]
  },
  {
   "cell_type": "markdown",
   "id": "f3c36854",
   "metadata": {},
   "source": [
    "#### 11. groupBy() and agg()"
   ]
  },
  {
   "cell_type": "code",
   "execution_count": 76,
   "id": "bcc81728",
   "metadata": {},
   "outputs": [
    {
     "data": {
      "text/plain": [
       "<pyspark.sql.group.GroupedData at 0x7ffa14cb60b8>"
      ]
     },
     "execution_count": 76,
     "metadata": {},
     "output_type": "execute_result"
    }
   ],
   "source": [
    "flights_data.groupBy(\"Carrier\")"
   ]
  },
  {
   "cell_type": "code",
   "execution_count": 77,
   "id": "c87d7e61",
   "metadata": {},
   "outputs": [
    {
     "name": "stdout",
     "output_type": "stream",
     "text": [
      "+-------+------------------+\n",
      "|Carrier|         Avg Delay|\n",
      "+-------+------------------+\n",
      "|     UA| 12.56328450054194|\n",
      "|     AA|12.047073483091621|\n",
      "|     EV|14.201382793318832|\n",
      "|     B6| 12.62300717948718|\n",
      "|     DL|  7.44057536536854|\n",
      "|     OO| 7.852680109497053|\n",
      "|     F9|12.124132527423326|\n",
      "|     YV| 9.400170648464163|\n",
      "|     US| 4.982146766542894|\n",
      "|     MQ|15.197729076913472|\n",
      "|     HA|1.5346074380165289|\n",
      "|     AS|0.6593429038281979|\n",
      "|     FL|10.165958089647582|\n",
      "|     VX|14.391637389851985|\n",
      "|     WN|12.860663548314177|\n",
      "|     9E| 9.546332530604055|\n",
      "+-------+------------------+\n",
      "\n"
     ]
    }
   ],
   "source": [
    "flights_data.groupBy(\"Carrier\").agg(mean(\"DepDelay\").alias('Avg Delay')).show()"
   ]
  },
  {
   "cell_type": "markdown",
   "id": "b5df3f29",
   "metadata": {},
   "source": [
    "#### 12. Calculate Median \n",
    "    * By using approxQuantile(), expr()"
   ]
  },
  {
   "cell_type": "code",
   "execution_count": 80,
   "id": "06b2ccca",
   "metadata": {},
   "outputs": [
    {
     "data": {
      "text/plain": [
       "-3.0"
      ]
     },
     "execution_count": 80,
     "metadata": {},
     "output_type": "execute_result"
    }
   ],
   "source": [
    "flights_data.approxQuantile('ArrDelay', [0.5], 0.001)[0]"
   ]
  },
  {
   "cell_type": "code",
   "execution_count": 85,
   "id": "4894cb41",
   "metadata": {},
   "outputs": [
    {
     "data": {
      "text/plain": [
       "-3"
      ]
     },
     "execution_count": 85,
     "metadata": {},
     "output_type": "execute_result"
    }
   ],
   "source": [
    "from pyspark.sql.functions import expr\n",
    "meadian_expr = expr(f\"percentile_approx({'ArrDelay'}, 0.5)\")\n",
    "\n",
    "flights_data.agg(meadian_expr.alias(\"median\")).collect()[0][0]"
   ]
  },
  {
   "cell_type": "markdown",
   "id": "0621da44",
   "metadata": {},
   "source": [
    "#### 13. Spark SQL"
   ]
  },
  {
   "cell_type": "code",
   "execution_count": 86,
   "id": "6186b829",
   "metadata": {},
   "outputs": [],
   "source": [
    "flights_data.createOrReplaceTempView(\"flights\")   # create a temporary table using spark dataframe."
   ]
  },
  {
   "cell_type": "code",
   "execution_count": 87,
   "id": "944c3e07",
   "metadata": {
    "collapsed": true
   },
   "outputs": [
    {
     "name": "stdout",
     "output_type": "stream",
     "text": [
      "+----------+---------+-------+---------------+-------------+--------+--------+----------+-----------+-----+--------------------+\n",
      "|DayofMonth|DayOfWeek|Carrier|OriginAirportID|DestAirportID|DepDelay|ArrDelay|airport_id|       city|state|                name|\n",
      "+----------+---------+-------+---------------+-------------+--------+--------+----------+-----------+-----+--------------------+\n",
      "|         8|        1|     DL|          10140|        10397|      -3|     -10|     10140|Albuquerque|   NM|Albuquerque Inter...|\n",
      "|        13|        1|     WN|          10140|        11292|      -1|      -2|     10140|Albuquerque|   NM|Albuquerque Inter...|\n",
      "|        25|        4|     WN|          10140|        11292|       7|      -2|     10140|Albuquerque|   NM|Albuquerque Inter...|\n",
      "|         6|        6|     WN|          10140|        11292|       0|      -5|     10140|Albuquerque|   NM|Albuquerque Inter...|\n",
      "|        28|        2|     AA|          10140|        11298|      -9|     -17|     10140|Albuquerque|   NM|Albuquerque Inter...|\n",
      "|        15|        3|     AA|          10140|        11298|      31|      43|     10140|Albuquerque|   NM|Albuquerque Inter...|\n",
      "|        28|        7|     AA|          10140|        11298|      -5|       4|     10140|Albuquerque|   NM|Albuquerque Inter...|\n",
      "|        14|        2|     WN|          10140|        12191|      14|      12|     10140|Albuquerque|   NM|Albuquerque Inter...|\n",
      "|        19|        5|     WN|          10140|        12191|      60|      45|     10140|Albuquerque|   NM|Albuquerque Inter...|\n",
      "|         9|        2|     OO|          10140|        12266|      -8|      -6|     10140|Albuquerque|   NM|Albuquerque Inter...|\n",
      "+----------+---------+-------+---------------+-------------+--------+--------+----------+-----------+-----+--------------------+\n",
      "\n"
     ]
    }
   ],
   "source": [
    "spark.sql(\"select * from flights limit 10\").show()"
   ]
  },
  {
   "cell_type": "markdown",
   "id": "5a93c8dc",
   "metadata": {},
   "source": [
    "1. Show top 10 Airlines with most frequent Flights.\n",
    "2. Query to Compute median DepDelay for each Airlines\n",
    "3. Find the most busiest Airport out of all."
   ]
  },
  {
   "cell_type": "code",
   "execution_count": 91,
   "id": "1e1f942d",
   "metadata": {
    "collapsed": true
   },
   "outputs": [
    {
     "name": "stdout",
     "output_type": "stream",
     "text": [
      "+-------+------------+\n",
      "|Carrier|Flight_Count|\n",
      "+-------+------------+\n",
      "|     WN|      575090|\n",
      "|     DL|      381601|\n",
      "|     AA|      288910|\n",
      "|     UA|      286010|\n",
      "|     US|      232955|\n",
      "|     OO|      159639|\n",
      "|     EV|      157218|\n",
      "|     B6|      121875|\n",
      "|     MQ|      112113|\n",
      "|     FL|       92674|\n",
      "|     9E|       79728|\n",
      "|     AS|       68544|\n",
      "|     YV|       52740|\n",
      "|     F9|       35736|\n",
      "|     VX|       34726|\n",
      "|     HA|       17424|\n",
      "+-------+------------+\n",
      "\n"
     ]
    }
   ],
   "source": [
    "spark.sql(\"select Carrier, count(*) as Flight_Count from flights group by Carrier Order By Flight_Count Desc\").show()"
   ]
  },
  {
   "cell_type": "code",
   "execution_count": 93,
   "id": "d09cefe0",
   "metadata": {},
   "outputs": [
    {
     "name": "stdout",
     "output_type": "stream",
     "text": [
      "+-------+------------+\n",
      "|Carrier|median_delay|\n",
      "+-------+------------+\n",
      "|     UA|          12|\n",
      "|     AA|          14|\n",
      "|     EV|          24|\n",
      "|     B6|          21|\n",
      "|     DL|          13|\n",
      "|     OO|          17|\n",
      "|     F9|          14|\n",
      "|     YV|          19|\n",
      "|     US|          12|\n",
      "|     MQ|          24|\n",
      "|     HA|           6|\n",
      "|     AS|           9|\n",
      "|     FL|          13|\n",
      "|     VX|          15|\n",
      "|     WN|          12|\n",
      "|     9E|          22|\n",
      "+-------+------------+\n",
      "\n"
     ]
    }
   ],
   "source": [
    "spark.sql(\"select Carrier, percentile_approx(DepDelay, 0.5) as median_delay from flights where DepDelay > 0 group by Carrier\").show()"
   ]
  },
  {
   "cell_type": "code",
   "execution_count": null,
   "id": "50e748b0",
   "metadata": {},
   "outputs": [],
   "source": []
  }
 ],
 "metadata": {
  "kernelspec": {
   "display_name": "Python 3",
   "language": "python",
   "name": "python3"
  },
  "language_info": {
   "codemirror_mode": {
    "name": "ipython",
    "version": 3
   },
   "file_extension": ".py",
   "mimetype": "text/x-python",
   "name": "python",
   "nbconvert_exporter": "python",
   "pygments_lexer": "ipython3",
   "version": "3.6.9"
  }
 },
 "nbformat": 4,
 "nbformat_minor": 5
}
