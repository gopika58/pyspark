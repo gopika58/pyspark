{
 "cells": [
  {
   "cell_type": "markdown",
   "id": "158fda63",
   "metadata": {},
   "source": [
    "Problem Statement : \n",
    "We have provided with online e-commerce website dataset with various input features - like duration, product related duration, region, month, bounce rates etc.\n",
    "* Target : Revenue (Yes/No)\n",
    "* Goal: To create a well trained supervised model for prediction of Revenue as Yes or No (ie. Binary Classification) using customer features. "
   ]
  },
  {
   "cell_type": "code",
   "execution_count": 43,
   "id": "8857d8ec",
   "metadata": {},
   "outputs": [
    {
     "data": {
      "text/html": [
       "\n",
       "        <div>\n",
       "            <p><b>SparkContext</b></p>\n",
       "\n",
       "            <p><a href=\"http://10.0.2.15:4040\">Spark UI</a></p>\n",
       "\n",
       "            <dl>\n",
       "              <dt>Version</dt>\n",
       "                <dd><code>v2.4.8</code></dd>\n",
       "              <dt>Master</dt>\n",
       "                <dd><code>local[*]</code></dd>\n",
       "              <dt>AppName</dt>\n",
       "                <dd><code>PySparkShell</code></dd>\n",
       "            </dl>\n",
       "        </div>\n",
       "        "
      ],
      "text/plain": [
       "<SparkContext master=local[*] appName=PySparkShell>"
      ]
     },
     "execution_count": 43,
     "metadata": {},
     "output_type": "execute_result"
    }
   ],
   "source": [
    "sc"
   ]
  },
  {
   "cell_type": "code",
   "execution_count": 44,
   "id": "f4d9ec31",
   "metadata": {},
   "outputs": [
    {
     "data": {
      "text/html": [
       "\n",
       "            <div>\n",
       "                <p><b>SparkSession - hive</b></p>\n",
       "                \n",
       "        <div>\n",
       "            <p><b>SparkContext</b></p>\n",
       "\n",
       "            <p><a href=\"http://10.0.2.15:4040\">Spark UI</a></p>\n",
       "\n",
       "            <dl>\n",
       "              <dt>Version</dt>\n",
       "                <dd><code>v2.4.8</code></dd>\n",
       "              <dt>Master</dt>\n",
       "                <dd><code>local[*]</code></dd>\n",
       "              <dt>AppName</dt>\n",
       "                <dd><code>PySparkShell</code></dd>\n",
       "            </dl>\n",
       "        </div>\n",
       "        \n",
       "            </div>\n",
       "        "
      ],
      "text/plain": [
       "<pyspark.sql.session.SparkSession at 0x7fab47f6eb00>"
      ]
     },
     "execution_count": 44,
     "metadata": {},
     "output_type": "execute_result"
    }
   ],
   "source": [
    "spark"
   ]
  },
  {
   "cell_type": "markdown",
   "id": "b296ace0",
   "metadata": {},
   "source": [
    "#### 1. Read Dataset"
   ]
  },
  {
   "cell_type": "code",
   "execution_count": 3,
   "id": "537f2655",
   "metadata": {},
   "outputs": [
    {
     "data": {
      "text/plain": [
       "Row(Administrative=0, Administrative_Duration=0.0, Informational=0, Informational_Duration=0.0, ProductRelated=1, ProductRelated_Duration=0.0, BounceRates=0.2, ExitRates=0.2, PageValues=0.0, SpecialDay=0.0, Month='Feb', OperatingSystems=1, Browser=1, Region=1, TrafficType=1, VisitorType='Returning_Visitor', Weekend=False, Revenue=False)"
      ]
     },
     "execution_count": 3,
     "metadata": {},
     "output_type": "execute_result"
    }
   ],
   "source": [
    "online_shopper = spark.read.csv(\"file:///home/hadoop/Downloads/Online Shoppers Intention.csv\",inferSchema=True,\n",
    "              header=True)\n",
    "online_shopper.head()"
   ]
  },
  {
   "cell_type": "code",
   "execution_count": 4,
   "id": "8de259a7",
   "metadata": {
    "collapsed": true
   },
   "outputs": [
    {
     "name": "stdout",
     "output_type": "stream",
     "text": [
      "+--------------+-----------------------+-------------+----------------------+--------------+-----------------------+-----------+-----------+----------+----------+-----+----------------+-------+------+-----------+-----------------+-------+-------+\n",
      "|Administrative|Administrative_Duration|Informational|Informational_Duration|ProductRelated|ProductRelated_Duration|BounceRates|  ExitRates|PageValues|SpecialDay|Month|OperatingSystems|Browser|Region|TrafficType|      VisitorType|Weekend|Revenue|\n",
      "+--------------+-----------------------+-------------+----------------------+--------------+-----------------------+-----------+-----------+----------+----------+-----+----------------+-------+------+-----------+-----------------+-------+-------+\n",
      "|             0|                    0.0|            0|                   0.0|             1|                    0.0|        0.2|        0.2|       0.0|       0.0|  Feb|               1|      1|     1|          1|Returning_Visitor|  false|  false|\n",
      "|             0|                    0.0|            0|                   0.0|             2|                   64.0|        0.0|        0.1|       0.0|       0.0|  Feb|               2|      2|     1|          2|Returning_Visitor|  false|  false|\n",
      "|             0|                   -1.0|            0|                  -1.0|             1|                   -1.0|        0.2|        0.2|       0.0|       0.0|  Feb|               4|      1|     9|          3|Returning_Visitor|  false|  false|\n",
      "|             0|                    0.0|            0|                   0.0|             2|            2.666666667|       0.05|       0.14|       0.0|       0.0|  Feb|               3|      2|     2|          4|Returning_Visitor|  false|  false|\n",
      "|             0|                    0.0|            0|                   0.0|            10|                  627.5|       0.02|       0.05|       0.0|       0.0|  Feb|               3|      3|     1|          4|Returning_Visitor|   true|  false|\n",
      "|             0|                    0.0|            0|                   0.0|            19|            154.2166667|0.015789474|0.024561404|       0.0|       0.0|  Feb|               2|      2|     1|          3|Returning_Visitor|  false|  false|\n",
      "|             0|                   -1.0|            0|                  -1.0|             1|                   -1.0|        0.2|        0.2|       0.0|       0.4|  Feb|               2|      4|     3|          3|Returning_Visitor|  false|  false|\n",
      "|             1|                   -1.0|            0|                  -1.0|             1|                   -1.0|        0.2|        0.2|       0.0|       0.0|  Feb|               1|      2|     1|          5|Returning_Visitor|   true|  false|\n",
      "|             0|                    0.0|            0|                   0.0|             2|                   37.0|        0.0|        0.1|       0.0|       0.8|  Feb|               2|      2|     2|          3|Returning_Visitor|  false|  false|\n",
      "|             0|                    0.0|            0|                   0.0|             3|                  738.0|        0.0|0.022222222|       0.0|       0.4|  Feb|               2|      4|     1|          2|Returning_Visitor|  false|  false|\n",
      "|             0|                    0.0|            0|                   0.0|             3|                  395.0|        0.0|0.066666667|       0.0|       0.0|  Feb|               1|      1|     3|          3|Returning_Visitor|  false|  false|\n",
      "|             0|                    0.0|            0|                   0.0|            16|                 407.75|    0.01875|0.025833333|       0.0|       0.4|  Feb|               1|      1|     4|          3|Returning_Visitor|  false|  false|\n",
      "|             0|                    0.0|            0|                   0.0|             7|                  280.5|        0.0|0.028571429|       0.0|       0.0|  Feb|               1|      1|     1|          3|Returning_Visitor|  false|  false|\n",
      "|             0|                    0.0|            0|                   0.0|             6|                   98.0|        0.0|0.066666667|       0.0|       0.0|  Feb|               2|      5|     1|          3|Returning_Visitor|  false|  false|\n",
      "|             0|                    0.0|            0|                   0.0|             2|                   68.0|        0.0|        0.1|       0.0|       0.0|  Feb|               3|      2|     3|          3|Returning_Visitor|  false|  false|\n",
      "|             2|                   53.0|            0|                   0.0|            23|            1668.285119|0.008333333|0.016312636|       0.0|       0.0|  Feb|               1|      1|     9|          3|Returning_Visitor|  false|  false|\n",
      "|             0|                   -1.0|            0|                  -1.0|             1|                   -1.0|        0.2|        0.2|       0.0|       0.0|  Feb|               1|      1|     4|          3|Returning_Visitor|  false|  false|\n",
      "|             0|                    0.0|            0|                   0.0|            13|            334.9666667|        0.0|0.007692308|       0.0|       0.0|  Feb|               1|      1|     1|          4|Returning_Visitor|   true|  false|\n",
      "|             0|                    0.0|            0|                   0.0|             2|                   32.0|        0.0|        0.1|       0.0|       0.0|  Feb|               2|      2|     1|          3|Returning_Visitor|  false|  false|\n",
      "|             0|                    0.0|            0|                   0.0|            20|            2981.166667|        0.0|       0.01|       0.0|       0.0|  Feb|               2|      4|     4|          4|Returning_Visitor|  false|  false|\n",
      "+--------------+-----------------------+-------------+----------------------+--------------+-----------------------+-----------+-----------+----------+----------+-----+----------------+-------+------+-----------+-----------------+-------+-------+\n",
      "only showing top 20 rows\n",
      "\n"
     ]
    }
   ],
   "source": [
    "online_shopper.show()"
   ]
  },
  {
   "cell_type": "markdown",
   "id": "f7b1f315",
   "metadata": {},
   "source": [
    "#### 2. Show Schema of DataFrame"
   ]
  },
  {
   "cell_type": "code",
   "execution_count": 5,
   "id": "09822392",
   "metadata": {
    "collapsed": true
   },
   "outputs": [
    {
     "data": {
      "text/plain": [
       "DataFrame[Administrative: int, Administrative_Duration: double, Informational: int, Informational_Duration: double, ProductRelated: int, ProductRelated_Duration: double, BounceRates: double, ExitRates: double, PageValues: double, SpecialDay: double, Month: string, OperatingSystems: int, Browser: int, Region: int, TrafficType: int, VisitorType: string, Weekend: boolean, Revenue: boolean]"
      ]
     },
     "execution_count": 5,
     "metadata": {},
     "output_type": "execute_result"
    }
   ],
   "source": [
    "online_shopper.cache()"
   ]
  },
  {
   "cell_type": "code",
   "execution_count": 6,
   "id": "4aeade1e",
   "metadata": {},
   "outputs": [
    {
     "name": "stdout",
     "output_type": "stream",
     "text": [
      "root\n",
      " |-- Administrative: integer (nullable = true)\n",
      " |-- Administrative_Duration: double (nullable = true)\n",
      " |-- Informational: integer (nullable = true)\n",
      " |-- Informational_Duration: double (nullable = true)\n",
      " |-- ProductRelated: integer (nullable = true)\n",
      " |-- ProductRelated_Duration: double (nullable = true)\n",
      " |-- BounceRates: double (nullable = true)\n",
      " |-- ExitRates: double (nullable = true)\n",
      " |-- PageValues: double (nullable = true)\n",
      " |-- SpecialDay: double (nullable = true)\n",
      " |-- Month: string (nullable = true)\n",
      " |-- OperatingSystems: integer (nullable = true)\n",
      " |-- Browser: integer (nullable = true)\n",
      " |-- Region: integer (nullable = true)\n",
      " |-- TrafficType: integer (nullable = true)\n",
      " |-- VisitorType: string (nullable = true)\n",
      " |-- Weekend: boolean (nullable = true)\n",
      " |-- Revenue: boolean (nullable = true)\n",
      "\n"
     ]
    }
   ],
   "source": [
    "online_shopper.printSchema()"
   ]
  },
  {
   "cell_type": "markdown",
   "id": "dd3ded6c",
   "metadata": {},
   "source": [
    "#### 3. Data Wrangling\n",
    "    * Is there any missing values ?"
   ]
  },
  {
   "cell_type": "code",
   "execution_count": 7,
   "id": "507d3f95",
   "metadata": {},
   "outputs": [],
   "source": [
    "from pyspark.sql.functions import *"
   ]
  },
  {
   "cell_type": "code",
   "execution_count": 8,
   "id": "c8ea7b85",
   "metadata": {},
   "outputs": [
    {
     "name": "stdout",
     "output_type": "stream",
     "text": [
      "+--------------+-----------------------+-------------+----------------------+--------------+-----------------------+-----------+---------+----------+----------+-----+----------------+-------+------+-----------+-----------+-------+-------+\n",
      "|Administrative|Administrative_Duration|Informational|Informational_Duration|ProductRelated|ProductRelated_Duration|BounceRates|ExitRates|PageValues|SpecialDay|Month|OperatingSystems|Browser|Region|TrafficType|VisitorType|Weekend|Revenue|\n",
      "+--------------+-----------------------+-------------+----------------------+--------------+-----------------------+-----------+---------+----------+----------+-----+----------------+-------+------+-----------+-----------+-------+-------+\n",
      "|            14|                     14|           14|                    14|            14|                     14|         14|       14|         0|         0|    0|               0|      0|     0|          0|          0|      0|      0|\n",
      "+--------------+-----------------------+-------------+----------------------+--------------+-----------------------+-----------+---------+----------+----------+-----+----------------+-------+------+-----------+-----------+-------+-------+\n",
      "\n"
     ]
    }
   ],
   "source": [
    "online_shopper.select([count(when(isnull(col), col)).alias(col) for col in online_shopper.columns]).show()"
   ]
  },
  {
   "cell_type": "code",
   "execution_count": 11,
   "id": "e7329ed4",
   "metadata": {},
   "outputs": [],
   "source": [
    "# Drop rows with any null values in any column\n",
    "shoppers_df = online_shopper.na.drop()"
   ]
  },
  {
   "cell_type": "code",
   "execution_count": 12,
   "id": "44388b7e",
   "metadata": {},
   "outputs": [
    {
     "data": {
      "text/plain": [
       "12316"
      ]
     },
     "execution_count": 12,
     "metadata": {},
     "output_type": "execute_result"
    }
   ],
   "source": [
    "shoppers_df.count()"
   ]
  },
  {
   "cell_type": "code",
   "execution_count": 19,
   "id": "f5cc8e59",
   "metadata": {
    "collapsed": true
   },
   "outputs": [
    {
     "name": "stdout",
     "output_type": "stream",
     "text": [
      "Defaulting to user installation because normal site-packages is not writeable\n",
      "Requirement already satisfied: numpy in ./.local/lib/python3.6/site-packages (1.19.5)\n",
      "Requirement already satisfied: pandas in ./.local/lib/python3.6/site-packages (1.1.5)\n",
      "Requirement already satisfied: matplotlib in ./.local/lib/python3.6/site-packages (3.3.4)\n",
      "Requirement already satisfied: seaborn in ./.local/lib/python3.6/site-packages (0.11.2)\n",
      "Requirement already satisfied: pytz>=2017.2 in /usr/lib/python3/dist-packages (from pandas) (2018.3)\n",
      "Requirement already satisfied: python-dateutil>=2.7.3 in ./.local/lib/python3.6/site-packages (from pandas) (2.9.0.post0)\n",
      "Requirement already satisfied: cycler>=0.10 in ./.local/lib/python3.6/site-packages (from matplotlib) (0.11.0)\n",
      "Requirement already satisfied: kiwisolver>=1.0.1 in ./.local/lib/python3.6/site-packages (from matplotlib) (1.3.1)\n",
      "Requirement already satisfied: pyparsing!=2.0.4,!=2.1.2,!=2.1.6,>=2.0.3 in ./.local/lib/python3.6/site-packages (from matplotlib) (3.0.9)\n",
      "Requirement already satisfied: pillow>=6.2.0 in ./.local/lib/python3.6/site-packages (from matplotlib) (8.4.0)\n",
      "Requirement already satisfied: scipy>=1.0 in ./.local/lib/python3.6/site-packages (from seaborn) (1.5.4)\n",
      "Requirement already satisfied: six>=1.5 in /usr/lib/python3/dist-packages (from python-dateutil>=2.7.3->pandas) (1.11.0)\n"
     ]
    }
   ],
   "source": [
    "!pip install numpy pandas matplotlib seaborn"
   ]
  },
  {
   "cell_type": "code",
   "execution_count": 18,
   "id": "5fba5a41",
   "metadata": {
    "collapsed": true
   },
   "outputs": [
    {
     "data": {
      "text/html": [
       "<div>\n",
       "<style scoped>\n",
       "    .dataframe tbody tr th:only-of-type {\n",
       "        vertical-align: middle;\n",
       "    }\n",
       "\n",
       "    .dataframe tbody tr th {\n",
       "        vertical-align: top;\n",
       "    }\n",
       "\n",
       "    .dataframe thead th {\n",
       "        text-align: right;\n",
       "    }\n",
       "</style>\n",
       "<table border=\"1\" class=\"dataframe\">\n",
       "  <thead>\n",
       "    <tr style=\"text-align: right;\">\n",
       "      <th></th>\n",
       "      <th>Administrative</th>\n",
       "      <th>Administrative_Duration</th>\n",
       "      <th>Informational</th>\n",
       "      <th>Informational_Duration</th>\n",
       "      <th>ProductRelated</th>\n",
       "      <th>ProductRelated_Duration</th>\n",
       "      <th>BounceRates</th>\n",
       "      <th>ExitRates</th>\n",
       "      <th>PageValues</th>\n",
       "      <th>SpecialDay</th>\n",
       "      <th>Month</th>\n",
       "      <th>OperatingSystems</th>\n",
       "      <th>Browser</th>\n",
       "      <th>Region</th>\n",
       "      <th>TrafficType</th>\n",
       "      <th>VisitorType</th>\n",
       "      <th>Weekend</th>\n",
       "      <th>Revenue</th>\n",
       "    </tr>\n",
       "  </thead>\n",
       "  <tbody>\n",
       "    <tr>\n",
       "      <th>0</th>\n",
       "      <td>0</td>\n",
       "      <td>0.0</td>\n",
       "      <td>0</td>\n",
       "      <td>0.0</td>\n",
       "      <td>1</td>\n",
       "      <td>0.000000</td>\n",
       "      <td>0.20</td>\n",
       "      <td>0.20</td>\n",
       "      <td>0.0</td>\n",
       "      <td>0.0</td>\n",
       "      <td>Feb</td>\n",
       "      <td>1</td>\n",
       "      <td>1</td>\n",
       "      <td>1</td>\n",
       "      <td>1</td>\n",
       "      <td>Returning_Visitor</td>\n",
       "      <td>False</td>\n",
       "      <td>False</td>\n",
       "    </tr>\n",
       "    <tr>\n",
       "      <th>1</th>\n",
       "      <td>0</td>\n",
       "      <td>0.0</td>\n",
       "      <td>0</td>\n",
       "      <td>0.0</td>\n",
       "      <td>2</td>\n",
       "      <td>64.000000</td>\n",
       "      <td>0.00</td>\n",
       "      <td>0.10</td>\n",
       "      <td>0.0</td>\n",
       "      <td>0.0</td>\n",
       "      <td>Feb</td>\n",
       "      <td>2</td>\n",
       "      <td>2</td>\n",
       "      <td>1</td>\n",
       "      <td>2</td>\n",
       "      <td>Returning_Visitor</td>\n",
       "      <td>False</td>\n",
       "      <td>False</td>\n",
       "    </tr>\n",
       "    <tr>\n",
       "      <th>2</th>\n",
       "      <td>0</td>\n",
       "      <td>-1.0</td>\n",
       "      <td>0</td>\n",
       "      <td>-1.0</td>\n",
       "      <td>1</td>\n",
       "      <td>-1.000000</td>\n",
       "      <td>0.20</td>\n",
       "      <td>0.20</td>\n",
       "      <td>0.0</td>\n",
       "      <td>0.0</td>\n",
       "      <td>Feb</td>\n",
       "      <td>4</td>\n",
       "      <td>1</td>\n",
       "      <td>9</td>\n",
       "      <td>3</td>\n",
       "      <td>Returning_Visitor</td>\n",
       "      <td>False</td>\n",
       "      <td>False</td>\n",
       "    </tr>\n",
       "    <tr>\n",
       "      <th>3</th>\n",
       "      <td>0</td>\n",
       "      <td>0.0</td>\n",
       "      <td>0</td>\n",
       "      <td>0.0</td>\n",
       "      <td>2</td>\n",
       "      <td>2.666667</td>\n",
       "      <td>0.05</td>\n",
       "      <td>0.14</td>\n",
       "      <td>0.0</td>\n",
       "      <td>0.0</td>\n",
       "      <td>Feb</td>\n",
       "      <td>3</td>\n",
       "      <td>2</td>\n",
       "      <td>2</td>\n",
       "      <td>4</td>\n",
       "      <td>Returning_Visitor</td>\n",
       "      <td>False</td>\n",
       "      <td>False</td>\n",
       "    </tr>\n",
       "    <tr>\n",
       "      <th>4</th>\n",
       "      <td>0</td>\n",
       "      <td>0.0</td>\n",
       "      <td>0</td>\n",
       "      <td>0.0</td>\n",
       "      <td>10</td>\n",
       "      <td>627.500000</td>\n",
       "      <td>0.02</td>\n",
       "      <td>0.05</td>\n",
       "      <td>0.0</td>\n",
       "      <td>0.0</td>\n",
       "      <td>Feb</td>\n",
       "      <td>3</td>\n",
       "      <td>3</td>\n",
       "      <td>1</td>\n",
       "      <td>4</td>\n",
       "      <td>Returning_Visitor</td>\n",
       "      <td>True</td>\n",
       "      <td>False</td>\n",
       "    </tr>\n",
       "  </tbody>\n",
       "</table>\n",
       "</div>"
      ],
      "text/plain": [
       "   Administrative  Administrative_Duration  Informational  \\\n",
       "0               0                      0.0              0   \n",
       "1               0                      0.0              0   \n",
       "2               0                     -1.0              0   \n",
       "3               0                      0.0              0   \n",
       "4               0                      0.0              0   \n",
       "\n",
       "   Informational_Duration  ProductRelated  ProductRelated_Duration  \\\n",
       "0                     0.0               1                 0.000000   \n",
       "1                     0.0               2                64.000000   \n",
       "2                    -1.0               1                -1.000000   \n",
       "3                     0.0               2                 2.666667   \n",
       "4                     0.0              10               627.500000   \n",
       "\n",
       "   BounceRates  ExitRates  PageValues  SpecialDay Month  OperatingSystems  \\\n",
       "0         0.20       0.20         0.0         0.0   Feb                 1   \n",
       "1         0.00       0.10         0.0         0.0   Feb                 2   \n",
       "2         0.20       0.20         0.0         0.0   Feb                 4   \n",
       "3         0.05       0.14         0.0         0.0   Feb                 3   \n",
       "4         0.02       0.05         0.0         0.0   Feb                 3   \n",
       "\n",
       "   Browser  Region  TrafficType        VisitorType  Weekend  Revenue  \n",
       "0        1       1            1  Returning_Visitor    False    False  \n",
       "1        2       1            2  Returning_Visitor    False    False  \n",
       "2        1       9            3  Returning_Visitor    False    False  \n",
       "3        2       2            4  Returning_Visitor    False    False  \n",
       "4        3       1            4  Returning_Visitor     True    False  "
      ]
     },
     "execution_count": 18,
     "metadata": {},
     "output_type": "execute_result"
    }
   ],
   "source": [
    "shoppers_df.toPandas().head()"
   ]
  },
  {
   "cell_type": "markdown",
   "id": "7ff82a9d",
   "metadata": {},
   "source": [
    "#### 4. Data Preprocesing\n",
    "    * Transformation of categorical values into numerical dataframe."
   ]
  },
  {
   "cell_type": "code",
   "execution_count": 23,
   "id": "c7b0b9d4",
   "metadata": {},
   "outputs": [
    {
     "name": "stdout",
     "output_type": "stream",
     "text": [
      "+-----------------+\n",
      "|      VisitorType|\n",
      "+-----------------+\n",
      "|      New_Visitor|\n",
      "|            Other|\n",
      "|Returning_Visitor|\n",
      "+-----------------+\n",
      "\n"
     ]
    }
   ],
   "source": [
    "shoppers_df.select('VisitorType').distinct().show()"
   ]
  },
  {
   "cell_type": "code",
   "execution_count": 25,
   "id": "4d43bebc",
   "metadata": {},
   "outputs": [],
   "source": [
    "shoppers_df = shoppers_df.withColumn('VisitorType',regexp_replace('VisitorType',\n",
    "                                                                  'New_Visitor',\"0\"))\n",
    "shoppers_df = shoppers_df.withColumn('VisitorType',regexp_replace('VisitorType',\n",
    "                                                                  'Other',\"1\"))\n",
    "shoppers_df = shoppers_df.withColumn('VisitorType',regexp_replace('VisitorType',\n",
    "                                                                  'Returning_Visitor',\"2\"))"
   ]
  },
  {
   "cell_type": "markdown",
   "id": "14537d1f",
   "metadata": {},
   "source": [
    "    * StringIndexer() - Encode categorical values into numerical labels as '0','1','2'.."
   ]
  },
  {
   "cell_type": "code",
   "execution_count": 26,
   "id": "7903275d",
   "metadata": {},
   "outputs": [],
   "source": [
    "from pyspark.ml.feature import StringIndexer, OneHotEncoder"
   ]
  },
  {
   "cell_type": "code",
   "execution_count": 28,
   "id": "3aacba2e",
   "metadata": {
    "collapsed": true
   },
   "outputs": [
    {
     "name": "stdout",
     "output_type": "stream",
     "text": [
      "+--------------+-----------------------+-------------+----------------------+--------------+-----------------------+-----------+-----------+----------+----------+-----+----------------+-------+------+-----------+-----------+-------+-------+-----------+\n",
      "|Administrative|Administrative_Duration|Informational|Informational_Duration|ProductRelated|ProductRelated_Duration|BounceRates|  ExitRates|PageValues|SpecialDay|Month|OperatingSystems|Browser|Region|TrafficType|VisitorType|Weekend|Revenue|Month_index|\n",
      "+--------------+-----------------------+-------------+----------------------+--------------+-----------------------+-----------+-----------+----------+----------+-----+----------------+-------+------+-----------+-----------+-------+-------+-----------+\n",
      "|             0|                    0.0|            0|                   0.0|             1|                    0.0|        0.2|        0.2|       0.0|       0.0|  Feb|               1|      1|     1|          1|          2|  false|  false|        9.0|\n",
      "|             0|                    0.0|            0|                   0.0|             2|                   64.0|        0.0|        0.1|       0.0|       0.0|  Feb|               2|      2|     1|          2|          2|  false|  false|        9.0|\n",
      "|             0|                   -1.0|            0|                  -1.0|             1|                   -1.0|        0.2|        0.2|       0.0|       0.0|  Feb|               4|      1|     9|          3|          2|  false|  false|        9.0|\n",
      "|             0|                    0.0|            0|                   0.0|             2|            2.666666667|       0.05|       0.14|       0.0|       0.0|  Feb|               3|      2|     2|          4|          2|  false|  false|        9.0|\n",
      "|             0|                    0.0|            0|                   0.0|            10|                  627.5|       0.02|       0.05|       0.0|       0.0|  Feb|               3|      3|     1|          4|          2|   true|  false|        9.0|\n",
      "|             0|                    0.0|            0|                   0.0|            19|            154.2166667|0.015789474|0.024561404|       0.0|       0.0|  Feb|               2|      2|     1|          3|          2|  false|  false|        9.0|\n",
      "|             0|                   -1.0|            0|                  -1.0|             1|                   -1.0|        0.2|        0.2|       0.0|       0.4|  Feb|               2|      4|     3|          3|          2|  false|  false|        9.0|\n",
      "|             1|                   -1.0|            0|                  -1.0|             1|                   -1.0|        0.2|        0.2|       0.0|       0.0|  Feb|               1|      2|     1|          5|          2|   true|  false|        9.0|\n",
      "|             0|                    0.0|            0|                   0.0|             2|                   37.0|        0.0|        0.1|       0.0|       0.8|  Feb|               2|      2|     2|          3|          2|  false|  false|        9.0|\n",
      "|             0|                    0.0|            0|                   0.0|             3|                  738.0|        0.0|0.022222222|       0.0|       0.4|  Feb|               2|      4|     1|          2|          2|  false|  false|        9.0|\n",
      "|             0|                    0.0|            0|                   0.0|             3|                  395.0|        0.0|0.066666667|       0.0|       0.0|  Feb|               1|      1|     3|          3|          2|  false|  false|        9.0|\n",
      "|             0|                    0.0|            0|                   0.0|            16|                 407.75|    0.01875|0.025833333|       0.0|       0.4|  Feb|               1|      1|     4|          3|          2|  false|  false|        9.0|\n",
      "|             0|                    0.0|            0|                   0.0|             7|                  280.5|        0.0|0.028571429|       0.0|       0.0|  Feb|               1|      1|     1|          3|          2|  false|  false|        9.0|\n",
      "|             0|                    0.0|            0|                   0.0|             6|                   98.0|        0.0|0.066666667|       0.0|       0.0|  Feb|               2|      5|     1|          3|          2|  false|  false|        9.0|\n",
      "|             0|                    0.0|            0|                   0.0|             2|                   68.0|        0.0|        0.1|       0.0|       0.0|  Feb|               3|      2|     3|          3|          2|  false|  false|        9.0|\n",
      "|             2|                   53.0|            0|                   0.0|            23|            1668.285119|0.008333333|0.016312636|       0.0|       0.0|  Feb|               1|      1|     9|          3|          2|  false|  false|        9.0|\n",
      "|             0|                   -1.0|            0|                  -1.0|             1|                   -1.0|        0.2|        0.2|       0.0|       0.0|  Feb|               1|      1|     4|          3|          2|  false|  false|        9.0|\n",
      "|             0|                    0.0|            0|                   0.0|            13|            334.9666667|        0.0|0.007692308|       0.0|       0.0|  Feb|               1|      1|     1|          4|          2|   true|  false|        9.0|\n",
      "|             0|                    0.0|            0|                   0.0|             2|                   32.0|        0.0|        0.1|       0.0|       0.0|  Feb|               2|      2|     1|          3|          2|  false|  false|        9.0|\n",
      "|             0|                    0.0|            0|                   0.0|            20|            2981.166667|        0.0|       0.01|       0.0|       0.0|  Feb|               2|      4|     4|          4|          2|  false|  false|        9.0|\n",
      "+--------------+-----------------------+-------------+----------------------+--------------+-----------------------+-----------+-----------+----------+----------+-----+----------------+-------+------+-----------+-----------+-------+-------+-----------+\n",
      "only showing top 20 rows\n",
      "\n"
     ]
    }
   ],
   "source": [
    "indexer = StringIndexer(inputCol='Month',outputCol='Month_index')\n",
    "# Fit StringIndexer() model on the DataFrame\n",
    "shoppers_df1 = indexer.fit(shoppers_df).transform(shoppers_df)\n",
    "shoppers_df1.show()"
   ]
  },
  {
   "cell_type": "code",
   "execution_count": 34,
   "id": "fb6e83fd",
   "metadata": {
    "collapsed": true
   },
   "outputs": [
    {
     "name": "stdout",
     "output_type": "stream",
     "text": [
      "root\n",
      " |-- Administrative: integer (nullable = true)\n",
      " |-- Administrative_Duration: double (nullable = true)\n",
      " |-- Informational: integer (nullable = true)\n",
      " |-- Informational_Duration: double (nullable = true)\n",
      " |-- ProductRelated: integer (nullable = true)\n",
      " |-- ProductRelated_Duration: double (nullable = true)\n",
      " |-- BounceRates: double (nullable = true)\n",
      " |-- ExitRates: double (nullable = true)\n",
      " |-- PageValues: double (nullable = true)\n",
      " |-- SpecialDay: double (nullable = true)\n",
      " |-- Month: string (nullable = true)\n",
      " |-- OperatingSystems: integer (nullable = true)\n",
      " |-- Browser: integer (nullable = true)\n",
      " |-- Region: integer (nullable = true)\n",
      " |-- TrafficType: integer (nullable = true)\n",
      " |-- VisitorType: string (nullable = true)\n",
      " |-- Weekend: boolean (nullable = true)\n",
      " |-- Revenue: boolean (nullable = true)\n",
      " |-- Month_index: double (nullable = false)\n",
      "\n"
     ]
    }
   ],
   "source": [
    "shoppers_df1.printSchema()"
   ]
  },
  {
   "cell_type": "code",
   "execution_count": 35,
   "id": "fb6d594b",
   "metadata": {},
   "outputs": [],
   "source": [
    "shoppers_df2 = shoppers_df1.drop('Month')"
   ]
  },
  {
   "cell_type": "code",
   "execution_count": 37,
   "id": "34381788",
   "metadata": {},
   "outputs": [],
   "source": [
    "from pyspark.sql.types import IntegerType\n",
    "shoppers_df2 = shoppers_df2.withColumn('VisitorType', col('VisitorType').cast(IntegerType()))"
   ]
  },
  {
   "cell_type": "markdown",
   "id": "b0384309",
   "metadata": {},
   "source": [
    "#### 5. Features Vector"
   ]
  },
  {
   "cell_type": "code",
   "execution_count": 38,
   "id": "b63c5784",
   "metadata": {},
   "outputs": [],
   "source": [
    "from pyspark.ml.feature import VectorAssembler"
   ]
  },
  {
   "cell_type": "code",
   "execution_count": 41,
   "id": "ad5e0fb5",
   "metadata": {},
   "outputs": [
    {
     "name": "stdout",
     "output_type": "stream",
     "text": [
      "['Administrative', 'Administrative_Duration', 'Informational', 'Informational_Duration', 'ProductRelated', 'ProductRelated_Duration', 'BounceRates', 'ExitRates', 'PageValues', 'SpecialDay', 'OperatingSystems', 'Browser', 'Region', 'TrafficType', 'VisitorType', 'Weekend', 'Revenue', 'Month_index']\n"
     ]
    }
   ],
   "source": [
    "print(shoppers_df2.columns)"
   ]
  },
  {
   "cell_type": "code",
   "execution_count": 42,
   "id": "10c15238",
   "metadata": {},
   "outputs": [],
   "source": [
    "vector_assembler = VectorAssembler(inputCols=['Administrative','Administrative_Duration','Informational',\n",
    "                'Informational_Duration','ProductRelated','ProductRelated_Duration',\n",
    "                'BounceRates','ExitRates', 'PageValues', 'SpecialDay', 'OperatingSystems',\n",
    "                'Browser','Region','TrafficType','VisitorType','Weekend','Month_index'], \n",
    "                                   outputCol='feature')"
   ]
  },
  {
   "cell_type": "code",
   "execution_count": 49,
   "id": "eac9ed34",
   "metadata": {
    "collapsed": true
   },
   "outputs": [
    {
     "name": "stdout",
     "output_type": "stream",
     "text": [
      "+---------------------------------------------------------------------------------------------------+\n",
      "|feature                                                                                            |\n",
      "+---------------------------------------------------------------------------------------------------+\n",
      "|(17,[4,6,7,10,11,12,13,14,16],[1.0,0.2,0.2,1.0,1.0,1.0,1.0,2.0,9.0])                               |\n",
      "|(17,[4,5,7,10,11,12,13,14,16],[2.0,64.0,0.1,2.0,2.0,1.0,2.0,2.0,9.0])                              |\n",
      "|[0.0,-1.0,0.0,-1.0,1.0,-1.0,0.2,0.2,0.0,0.0,4.0,1.0,9.0,3.0,2.0,0.0,9.0]                           |\n",
      "|(17,[4,5,6,7,10,11,12,13,14,16],[2.0,2.666666667,0.05,0.14,3.0,2.0,2.0,4.0,2.0,9.0])               |\n",
      "|[0.0,0.0,0.0,0.0,10.0,627.5,0.02,0.05,0.0,0.0,3.0,3.0,1.0,4.0,2.0,1.0,9.0]                         |\n",
      "|(17,[4,5,6,7,10,11,12,13,14,16],[19.0,154.2166667,0.015789474,0.024561404,2.0,2.0,1.0,3.0,2.0,9.0])|\n",
      "|[0.0,-1.0,0.0,-1.0,1.0,-1.0,0.2,0.2,0.0,0.4,2.0,4.0,3.0,3.0,2.0,0.0,9.0]                           |\n",
      "|[1.0,-1.0,0.0,-1.0,1.0,-1.0,0.2,0.2,0.0,0.0,1.0,2.0,1.0,5.0,2.0,1.0,9.0]                           |\n",
      "|(17,[4,5,7,9,10,11,12,13,14,16],[2.0,37.0,0.1,0.8,2.0,2.0,2.0,3.0,2.0,9.0])                        |\n",
      "|(17,[4,5,7,9,10,11,12,13,14,16],[3.0,738.0,0.022222222,0.4,2.0,4.0,1.0,2.0,2.0,9.0])               |\n",
      "|(17,[4,5,7,10,11,12,13,14,16],[3.0,395.0,0.066666667,1.0,1.0,3.0,3.0,2.0,9.0])                     |\n",
      "|[0.0,0.0,0.0,0.0,16.0,407.75,0.01875,0.025833333,0.0,0.4,1.0,1.0,4.0,3.0,2.0,0.0,9.0]              |\n",
      "|(17,[4,5,7,10,11,12,13,14,16],[7.0,280.5,0.028571429,1.0,1.0,1.0,3.0,2.0,9.0])                     |\n",
      "|(17,[4,5,7,10,11,12,13,14,16],[6.0,98.0,0.066666667,2.0,5.0,1.0,3.0,2.0,9.0])                      |\n",
      "|(17,[4,5,7,10,11,12,13,14,16],[2.0,68.0,0.1,3.0,2.0,3.0,3.0,2.0,9.0])                              |\n",
      "|[2.0,53.0,0.0,0.0,23.0,1668.285119,0.008333333,0.016312636,0.0,0.0,1.0,1.0,9.0,3.0,2.0,0.0,9.0]    |\n",
      "|[0.0,-1.0,0.0,-1.0,1.0,-1.0,0.2,0.2,0.0,0.0,1.0,1.0,4.0,3.0,2.0,0.0,9.0]                           |\n",
      "|(17,[4,5,7,10,11,12,13,14,15,16],[13.0,334.9666667,0.007692308,1.0,1.0,1.0,4.0,2.0,1.0,9.0])       |\n",
      "|(17,[4,5,7,10,11,12,13,14,16],[2.0,32.0,0.1,2.0,2.0,1.0,3.0,2.0,9.0])                              |\n",
      "|(17,[4,5,7,10,11,12,13,14,16],[20.0,2981.166667,0.01,2.0,4.0,4.0,4.0,2.0,9.0])                     |\n",
      "+---------------------------------------------------------------------------------------------------+\n",
      "only showing top 20 rows\n",
      "\n"
     ]
    }
   ],
   "source": [
    "shoppers_df3 = vector_assembler.transform(shoppers_df2)\n",
    "shoppers_df3.select(['feature']).show(truncate=False)"
   ]
  },
  {
   "cell_type": "code",
   "execution_count": 55,
   "id": "17ca8e47",
   "metadata": {},
   "outputs": [],
   "source": [
    "shoppers_df3 = shoppers_df3.withColumn('Revenue', col('Revenue').cast(IntegerType()))"
   ]
  },
  {
   "cell_type": "markdown",
   "id": "53e5cadd",
   "metadata": {},
   "source": [
    "#### 6. Split Dataset into Train & Test\n",
    "    * randomSplit()"
   ]
  },
  {
   "cell_type": "code",
   "execution_count": 56,
   "id": "611cadac",
   "metadata": {},
   "outputs": [],
   "source": [
    "train, test = shoppers_df3.randomSplit([0.8, 0.2], seed = 2)"
   ]
  },
  {
   "cell_type": "code",
   "execution_count": 57,
   "id": "2e2fd65d",
   "metadata": {
    "collapsed": true
   },
   "outputs": [
    {
     "name": "stdout",
     "output_type": "stream",
     "text": [
      "+--------------+-----------------------+-------------+----------------------+--------------+-----------------------+-----------+-----------+----------+----------+----------------+-------+------+-----------+-----------+-------+-------+-----------+--------------------+\n",
      "|Administrative|Administrative_Duration|Informational|Informational_Duration|ProductRelated|ProductRelated_Duration|BounceRates|  ExitRates|PageValues|SpecialDay|OperatingSystems|Browser|Region|TrafficType|VisitorType|Weekend|Revenue|Month_index|             feature|\n",
      "+--------------+-----------------------+-------------+----------------------+--------------+-----------------------+-----------+-----------+----------+----------+----------------+-------+------+-----------+-----------+-------+-------+-----------+--------------------+\n",
      "|             0|                   -1.0|            0|                  -1.0|             1|                   -1.0|        0.0|0.066666667|       0.0|       0.0|               2|      2|     7|          1|          2|  false|      0|        2.0|[0.0,-1.0,0.0,-1....|\n",
      "|             0|                   -1.0|            0|                  -1.0|             1|                   -1.0|        0.0|        0.1|       0.0|       0.0|               2|      2|     2|          6|          2|  false|      0|        2.0|[0.0,-1.0,0.0,-1....|\n",
      "|             0|                   -1.0|            0|                  -1.0|             1|                   -1.0|        0.2|        0.2|       0.0|       0.0|               1|      1|     1|          1|          2|  false|      0|        2.0|[0.0,-1.0,0.0,-1....|\n",
      "|             0|                   -1.0|            0|                  -1.0|             1|                   -1.0|        0.2|        0.2|       0.0|       0.0|               1|      1|     1|         20|          2|  false|      0|        0.0|[0.0,-1.0,0.0,-1....|\n",
      "|             0|                   -1.0|            0|                  -1.0|             1|                   -1.0|        0.2|        0.2|       0.0|       0.0|               1|      1|     3|          1|          2|  false|      0|        7.0|[0.0,-1.0,0.0,-1....|\n",
      "|             0|                   -1.0|            0|                  -1.0|             1|                   -1.0|        0.2|        0.2|       0.0|       0.0|               1|      1|     3|          3|          2|  false|      0|        2.0|[0.0,-1.0,0.0,-1....|\n",
      "|             0|                   -1.0|            0|                  -1.0|             1|                   -1.0|        0.2|        0.2|       0.0|       0.0|               1|      1|     4|          3|          2|  false|      0|        9.0|[0.0,-1.0,0.0,-1....|\n",
      "|             0|                   -1.0|            0|                  -1.0|             1|                   -1.0|        0.2|        0.2|       0.0|       0.0|               1|      1|     9|          2|          2|  false|      0|        1.0|[0.0,-1.0,0.0,-1....|\n",
      "|             0|                   -1.0|            0|                  -1.0|             1|                   -1.0|        0.2|        0.2|       0.0|       0.0|               1|      8|     2|          1|          2|  false|      0|        1.0|[0.0,-1.0,0.0,-1....|\n",
      "|             0|                   -1.0|            0|                  -1.0|             1|                   -1.0|        0.2|        0.2|       0.0|       0.0|               2|      2|     1|         13|          2|  false|      0|        1.0|[0.0,-1.0,0.0,-1....|\n",
      "|             0|                   -1.0|            0|                  -1.0|             1|                   -1.0|        0.2|        0.2|       0.0|       0.0|               2|      2|     4|          1|          2|   true|      0|        9.0|[0.0,-1.0,0.0,-1....|\n",
      "|             0|                   -1.0|            0|                  -1.0|             1|                   -1.0|        0.2|        0.2|       0.0|       0.0|               2|      2|     4|          3|          2|  false|      0|        9.0|[0.0,-1.0,0.0,-1....|\n",
      "|             0|                   -1.0|            0|                  -1.0|             1|                   -1.0|        0.2|        0.2|       0.0|       0.0|               2|      2|     7|          3|          2|  false|      0|        9.0|[0.0,-1.0,0.0,-1....|\n",
      "|             0|                   -1.0|            0|                  -1.0|             1|                   -1.0|        0.2|        0.2|       0.0|       0.0|               2|      2|     9|          3|          2|  false|      0|        0.0|[0.0,-1.0,0.0,-1....|\n",
      "|             0|                   -1.0|            0|                  -1.0|             1|                   -1.0|        0.2|        0.2|       0.0|       0.0|               2|      4|     1|          1|          2|  false|      0|        9.0|[0.0,-1.0,0.0,-1....|\n",
      "|             0|                   -1.0|            0|                  -1.0|             1|                   -1.0|        0.2|        0.2|       0.0|       0.0|               2|      4|     4|          3|          2|  false|      0|        0.0|[0.0,-1.0,0.0,-1....|\n",
      "|             0|                   -1.0|            0|                  -1.0|             1|                   -1.0|        0.2|        0.2|       0.0|       0.0|               2|      5|     1|          3|          2|  false|      0|        2.0|[0.0,-1.0,0.0,-1....|\n",
      "|             0|                   -1.0|            0|                  -1.0|             1|                   -1.0|        0.2|        0.2|       0.0|       0.0|               2|      5|     2|          3|          2|  false|      0|        2.0|[0.0,-1.0,0.0,-1....|\n",
      "|             0|                   -1.0|            0|                  -1.0|             1|                   -1.0|        0.2|        0.2|       0.0|       0.0|               3|      2|     3|          1|          2|  false|      0|        2.0|[0.0,-1.0,0.0,-1....|\n",
      "|             0|                   -1.0|            0|                  -1.0|             1|                   -1.0|        0.2|        0.2|       0.0|       0.0|               3|      2|     3|          3|          2|  false|      0|        2.0|[0.0,-1.0,0.0,-1....|\n",
      "+--------------+-----------------------+-------------+----------------------+--------------+-----------------------+-----------+-----------+----------+----------+----------------+-------+------+-----------+-----------+-------+-------+-----------+--------------------+\n",
      "only showing top 20 rows\n",
      "\n"
     ]
    }
   ],
   "source": [
    "train.show()"
   ]
  },
  {
   "cell_type": "code",
   "execution_count": 58,
   "id": "8253fea4",
   "metadata": {},
   "outputs": [
    {
     "data": {
      "text/plain": [
       "DataFrame[feature: vector, Revenue: int]"
      ]
     },
     "execution_count": 58,
     "metadata": {},
     "output_type": "execute_result"
    }
   ],
   "source": [
    "train.select(['feature','Revenue'])"
   ]
  },
  {
   "cell_type": "markdown",
   "id": "12c50924",
   "metadata": {},
   "source": [
    "#### 7. Decision Tree Classifier"
   ]
  },
  {
   "cell_type": "code",
   "execution_count": 59,
   "id": "920ec82c",
   "metadata": {},
   "outputs": [],
   "source": [
    "from pyspark.ml.classification import DecisionTreeClassifier\n",
    "tree = DecisionTreeClassifier(featuresCol='feature', labelCol='Revenue')\n",
    "decision_model = tree.fit(train)"
   ]
  },
  {
   "cell_type": "code",
   "execution_count": 60,
   "id": "1dd49e1a",
   "metadata": {},
   "outputs": [],
   "source": [
    "# predictions on test dataset\n",
    "predictions = decision_model.transform(test)"
   ]
  },
  {
   "cell_type": "code",
   "execution_count": 61,
   "id": "b8b2adfc",
   "metadata": {
    "collapsed": true
   },
   "outputs": [
    {
     "name": "stdout",
     "output_type": "stream",
     "text": [
      "+--------------------+-------+----------+\n",
      "|             feature|Revenue|prediction|\n",
      "+--------------------+-------+----------+\n",
      "|[0.0,-1.0,0.0,-1....|      0|       0.0|\n",
      "|[0.0,-1.0,0.0,-1....|      0|       0.0|\n",
      "|[0.0,-1.0,0.0,-1....|      0|       0.0|\n",
      "|[0.0,-1.0,0.0,-1....|      0|       0.0|\n",
      "|[0.0,-1.0,0.0,-1....|      0|       0.0|\n",
      "|(17,[6,7,10,11,12...|      0|       0.0|\n",
      "|(17,[4,7,9,10,11,...|      0|       0.0|\n",
      "|(17,[4,6,7,10,11,...|      0|       0.0|\n",
      "|(17,[4,6,7,10,11,...|      0|       0.0|\n",
      "|(17,[4,6,7,10,11,...|      0|       0.0|\n",
      "|(17,[4,6,7,10,11,...|      0|       0.0|\n",
      "|(17,[4,6,7,10,11,...|      0|       0.0|\n",
      "|(17,[4,6,7,10,11,...|      0|       0.0|\n",
      "|(17,[4,6,7,10,11,...|      0|       0.0|\n",
      "|(17,[4,6,7,10,11,...|      0|       0.0|\n",
      "|(17,[4,6,7,10,11,...|      0|       0.0|\n",
      "|(17,[4,6,7,10,11,...|      0|       0.0|\n",
      "|(17,[4,6,7,10,11,...|      0|       0.0|\n",
      "|(17,[4,6,7,10,11,...|      0|       0.0|\n",
      "|(17,[4,6,7,10,11,...|      0|       0.0|\n",
      "+--------------------+-------+----------+\n",
      "only showing top 20 rows\n",
      "\n"
     ]
    }
   ],
   "source": [
    "predictions.select(['feature','Revenue','prediction']).show()"
   ]
  },
  {
   "cell_type": "markdown",
   "id": "b425fe91",
   "metadata": {},
   "source": [
    "#### 8. Classification Metrics"
   ]
  },
  {
   "cell_type": "code",
   "execution_count": 63,
   "id": "4fd6f140",
   "metadata": {},
   "outputs": [],
   "source": [
    "from pyspark.ml.evaluation import MulticlassClassificationEvaluator\n",
    "evaluator = MulticlassClassificationEvaluator(labelCol=\"Revenue\",predictionCol=\"prediction\",\n",
    "                                 metricName='accuracy')\n",
    "accuracy = evaluator.evaluate(predictions)"
   ]
  },
  {
   "cell_type": "code",
   "execution_count": 66,
   "id": "e711d1c0",
   "metadata": {},
   "outputs": [
    {
     "data": {
      "text/plain": [
       "0.883921246923708"
      ]
     },
     "execution_count": 66,
     "metadata": {},
     "output_type": "execute_result"
    }
   ],
   "source": [
    "accuracy"
   ]
  },
  {
   "cell_type": "code",
   "execution_count": null,
   "id": "98a2876b",
   "metadata": {},
   "outputs": [],
   "source": []
  }
 ],
 "metadata": {
  "kernelspec": {
   "display_name": "Python 3",
   "language": "python",
   "name": "python3"
  },
  "language_info": {
   "codemirror_mode": {
    "name": "ipython",
    "version": 3
   },
   "file_extension": ".py",
   "mimetype": "text/x-python",
   "name": "python",
   "nbconvert_exporter": "python",
   "pygments_lexer": "ipython3",
   "version": "3.6.9"
  }
 },
 "nbformat": 4,
 "nbformat_minor": 5
}
