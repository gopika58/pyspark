{
 "cells": [
  {
   "cell_type": "code",
   "execution_count": 1,
   "id": "b5e07ade",
   "metadata": {},
   "outputs": [
    {
     "data": {
      "text/html": [
       "\n",
       "        <div>\n",
       "            <p><b>SparkContext</b></p>\n",
       "\n",
       "            <p><a href=\"http://10.0.2.15:4040\">Spark UI</a></p>\n",
       "\n",
       "            <dl>\n",
       "              <dt>Version</dt>\n",
       "                <dd><code>v2.4.8</code></dd>\n",
       "              <dt>Master</dt>\n",
       "                <dd><code>local[*]</code></dd>\n",
       "              <dt>AppName</dt>\n",
       "                <dd><code>PySparkShell</code></dd>\n",
       "            </dl>\n",
       "        </div>\n",
       "        "
      ],
      "text/plain": [
       "<SparkContext master=local[*] appName=PySparkShell>"
      ]
     },
     "execution_count": 1,
     "metadata": {},
     "output_type": "execute_result"
    }
   ],
   "source": [
    "sc"
   ]
  },
  {
   "cell_type": "code",
   "execution_count": 2,
   "id": "a7787821",
   "metadata": {},
   "outputs": [
    {
     "data": {
      "text/html": [
       "\n",
       "            <div>\n",
       "                <p><b>SparkSession - hive</b></p>\n",
       "                \n",
       "        <div>\n",
       "            <p><b>SparkContext</b></p>\n",
       "\n",
       "            <p><a href=\"http://10.0.2.15:4040\">Spark UI</a></p>\n",
       "\n",
       "            <dl>\n",
       "              <dt>Version</dt>\n",
       "                <dd><code>v2.4.8</code></dd>\n",
       "              <dt>Master</dt>\n",
       "                <dd><code>local[*]</code></dd>\n",
       "              <dt>AppName</dt>\n",
       "                <dd><code>PySparkShell</code></dd>\n",
       "            </dl>\n",
       "        </div>\n",
       "        \n",
       "            </div>\n",
       "        "
      ],
      "text/plain": [
       "<pyspark.sql.session.SparkSession at 0x7fab3d907b00>"
      ]
     },
     "execution_count": 2,
     "metadata": {},
     "output_type": "execute_result"
    }
   ],
   "source": [
    "spark"
   ]
  },
  {
   "cell_type": "code",
   "execution_count": 3,
   "id": "62b51819",
   "metadata": {},
   "outputs": [],
   "source": [
    "bank_customer_data = spark.read.json(\"file:///home/hadoop/Downloads/bank_edited.json\", multiLine=True)"
   ]
  },
  {
   "cell_type": "code",
   "execution_count": 4,
   "id": "88a214ef",
   "metadata": {},
   "outputs": [
    {
     "name": "stdout",
     "output_type": "stream",
     "text": [
      "+---+-------+--------+-------+---+-------+--------+---------+-------+------------+----+--------+-----+-----+--------+--------+---+\n",
      "|age|balance|campaign|contact|day|default|duration|education|housing|         job|loan| marital|month|pdays|poutcome|previous|  y|\n",
      "+---+-------+--------+-------+---+-------+--------+---------+-------+------------+----+--------+-----+-----+--------+--------+---+\n",
      "| 58|   2143|       1|unknown|  5|     no|     261| tertiary|    yes|  management|  no| married|  may|   -1| unknown|       0| no|\n",
      "| 44|     29|       1|unknown|  5|     no|     151|secondary|    yes|  technician|  no|  single|  may|   -1| unknown|       0| no|\n",
      "| 33|      2|       1|unknown|  5|     no|      76|secondary|    yes|entrepreneur| yes| married|  may|   -1| unknown|       0| no|\n",
      "| 47|   1506|       1|unknown|  5|     no|      92|  unknown|    yes| blue-collar|  no| married|  may|   -1| unknown|       0| no|\n",
      "| 33|      1|       1|unknown|  5|     no|     198|  unknown|     no|     unknown|  no|  single|  may|   -1| unknown|       0| no|\n",
      "| 35|    231|       1|unknown|  5|     no|     139| tertiary|    yes|  management|  no| married|  may|   -1| unknown|       0| no|\n",
      "| 28|    447|       1|unknown|  5|     no|     217| tertiary|    yes|  management| yes|  single|  may|   -1| unknown|       0| no|\n",
      "| 42|      2|       1|unknown|  5|    yes|     380| tertiary|    yes|entrepreneur|  no|divorced|  may|   -1| unknown|       0| no|\n",
      "| 58|    121|       1|unknown|  5|     no|      50|  primary|    yes|     retired|  no| married|  may|   -1| unknown|       0| no|\n",
      "| 43|    593|       1|unknown|  5|     no|      55|secondary|    yes|  technician|  no|  single|  may|   -1| unknown|       0| no|\n",
      "| 41|    270|       1|unknown|  5|     no|     222|secondary|    yes|      admin.|  no|divorced|  may|   -1| unknown|       0| no|\n",
      "| 29|    390|       1|unknown|  5|     no|     137|secondary|    yes|      admin.|  no|  single|  may|   -1| unknown|       0| no|\n",
      "| 53|      6|       1|unknown|  5|     no|     517|secondary|    yes|  technician|  no| married|  may|   -1| unknown|       0| no|\n",
      "| 58|     71|       1|unknown|  5|     no|      71|  unknown|    yes|  technician|  no| married|  may|   -1| unknown|       0| no|\n",
      "| 57|    162|       1|unknown|  5|     no|     174|secondary|    yes|    services|  no| married|  may|   -1| unknown|       0| no|\n",
      "| 51|    229|       1|unknown|  5|     no|     353|  primary|    yes|     retired|  no| married|  may|   -1| unknown|       0| no|\n",
      "| 45|     13|       1|unknown|  5|     no|      98|  unknown|    yes|      admin.|  no|  single|  may|   -1| unknown|       0| no|\n",
      "| 57|     52|       1|unknown|  5|     no|      38|  primary|    yes| blue-collar|  no| married|  may|   -1| unknown|       0| no|\n",
      "| 60|     60|       1|unknown|  5|     no|     219|  primary|    yes|     retired|  no| married|  may|   -1| unknown|       0| no|\n",
      "| 33|      0|       1|unknown|  5|     no|      54|secondary|    yes|    services|  no| married|  may|   -1| unknown|       0| no|\n",
      "+---+-------+--------+-------+---+-------+--------+---------+-------+------------+----+--------+-----+-----+--------+--------+---+\n",
      "only showing top 20 rows\n",
      "\n"
     ]
    }
   ],
   "source": [
    "bank_customer_data.show()"
   ]
  },
  {
   "cell_type": "code",
   "execution_count": 5,
   "id": "9e7489e7",
   "metadata": {},
   "outputs": [
    {
     "name": "stdout",
     "output_type": "stream",
     "text": [
      "root\n",
      " |-- age: long (nullable = true)\n",
      " |-- balance: long (nullable = true)\n",
      " |-- campaign: long (nullable = true)\n",
      " |-- contact: string (nullable = true)\n",
      " |-- day: long (nullable = true)\n",
      " |-- default: string (nullable = true)\n",
      " |-- duration: long (nullable = true)\n",
      " |-- education: string (nullable = true)\n",
      " |-- housing: string (nullable = true)\n",
      " |-- job: string (nullable = true)\n",
      " |-- loan: string (nullable = true)\n",
      " |-- marital: string (nullable = true)\n",
      " |-- month: string (nullable = true)\n",
      " |-- pdays: long (nullable = true)\n",
      " |-- poutcome: string (nullable = true)\n",
      " |-- previous: long (nullable = true)\n",
      " |-- y: string (nullable = true)\n",
      "\n"
     ]
    }
   ],
   "source": [
    "bank_customer_data.printSchema()"
   ]
  },
  {
   "cell_type": "markdown",
   "id": "2d65e8a8",
   "metadata": {},
   "source": [
    "#### 1. Display Max, Min and Mean Age of the targeted Customers"
   ]
  },
  {
   "cell_type": "code",
   "execution_count": 6,
   "id": "f9eba19f",
   "metadata": {},
   "outputs": [],
   "source": [
    "bank_customer_data.createOrReplaceTempView(\"banktable\")"
   ]
  },
  {
   "cell_type": "code",
   "execution_count": 7,
   "id": "89131a18",
   "metadata": {},
   "outputs": [],
   "source": [
    "from pyspark.sql.types import *\n",
    "from pyspark.sql.functions import *"
   ]
  },
  {
   "cell_type": "code",
   "execution_count": 8,
   "id": "6d08170d",
   "metadata": {},
   "outputs": [
    {
     "name": "stdout",
     "output_type": "stream",
     "text": [
      "+--------+\n",
      "|max(age)|\n",
      "+--------+\n",
      "|      95|\n",
      "+--------+\n",
      "\n",
      "+--------+\n",
      "|min(age)|\n",
      "+--------+\n",
      "|      18|\n",
      "+--------+\n",
      "\n",
      "+------------------+\n",
      "|round(avg(age), 0)|\n",
      "+------------------+\n",
      "|              41.0|\n",
      "+------------------+\n",
      "\n"
     ]
    }
   ],
   "source": [
    "bank_customer_data.select(max(\"age\")).show()\n",
    "bank_customer_data.select(min(\"age\")).show()\n",
    "bank_customer_data.select(round(mean(\"age\"))).show()"
   ]
  },
  {
   "cell_type": "code",
   "execution_count": 9,
   "id": "19d62c22",
   "metadata": {},
   "outputs": [
    {
     "name": "stdout",
     "output_type": "stream",
     "text": [
      "+--------+--------+-----------------+\n",
      "|max(age)|min(age)|         avg(age)|\n",
      "+--------+--------+-----------------+\n",
      "|      95|      18|40.93621021432837|\n",
      "+--------+--------+-----------------+\n",
      "\n"
     ]
    }
   ],
   "source": [
    "# spark sql - alternative method\n",
    "spark.sql(\"select max(age), min(age), mean(age) from banktable\").show()"
   ]
  },
  {
   "cell_type": "markdown",
   "id": "5cbd28a0",
   "metadata": {
    "collapsed": true
   },
   "source": [
    "#### 2. Check the quality of Customers by analyzing targeted customer's min, max, mean, median balance."
   ]
  },
  {
   "cell_type": "code",
   "execution_count": 15,
   "id": "b68480cc",
   "metadata": {},
   "outputs": [
    {
     "name": "stdout",
     "output_type": "stream",
     "text": [
      "+-----------------+------------+------------------+--------------+\n",
      "|min(abs(balance))|max(balance)|      avg(balance)|median_balance|\n",
      "+-----------------+------------+------------------+--------------+\n",
      "|                0|      102127|1362.2720576850766|           448|\n",
      "+-----------------+------------+------------------+--------------+\n",
      "\n"
     ]
    }
   ],
   "source": [
    "spark.sql(\"select min(abs(balance)), max(balance), mean(balance), \\\n",
    "          percentile_approx(balance, 0.5) as median_balance from banktable\").show()"
   ]
  },
  {
   "cell_type": "markdown",
   "id": "17252776",
   "metadata": {},
   "source": [
    "#### 3. Check if age matters in marketing subscription for Term Deposit Scheme."
   ]
  },
  {
   "cell_type": "code",
   "execution_count": 17,
   "id": "45a9919b",
   "metadata": {
    "scrolled": false
   },
   "outputs": [
    {
     "name": "stdout",
     "output_type": "stream",
     "text": [
      "+---+--------------+\n",
      "|age|customer_count|\n",
      "+---+--------------+\n",
      "| 32|           221|\n",
      "| 30|           217|\n",
      "| 33|           210|\n",
      "| 35|           209|\n",
      "| 31|           206|\n",
      "| 34|           198|\n",
      "| 36|           195|\n",
      "| 29|           171|\n",
      "| 37|           170|\n",
      "| 28|           162|\n",
      "| 38|           144|\n",
      "| 39|           143|\n",
      "| 27|           141|\n",
      "| 26|           134|\n",
      "| 41|           120|\n",
      "| 46|           118|\n",
      "| 40|           116|\n",
      "| 25|           113|\n",
      "| 47|           113|\n",
      "| 42|           111|\n",
      "+---+--------------+\n",
      "only showing top 20 rows\n",
      "\n"
     ]
    }
   ],
   "source": [
    "spark.sql(\"select age, count(*) as customer_count from banktable where y = 'yes' \\\n",
    "          group by age order by customer_count desc\").show()"
   ]
  },
  {
   "cell_type": "markdown",
   "id": "962a92a9",
   "metadata": {},
   "source": [
    "#### 4. Calculate Marketing Success Rate."
   ]
  },
  {
   "cell_type": "code",
   "execution_count": 24,
   "id": "f4b7a8b9",
   "metadata": {
    "scrolled": true
   },
   "outputs": [
    {
     "name": "stdout",
     "output_type": "stream",
     "text": [
      "+------------+\n",
      "|success_rate|\n",
      "+------------+\n",
      "|      11.698|\n",
      "+------------+\n",
      "\n"
     ]
    }
   ],
   "source": [
    "spark.sql(\"select round((select count(*) from banktable where y = 'yes')*100/(count(*)), 3) \\\n",
    "as success_rate from banktable\").show()"
   ]
  },
  {
   "cell_type": "code",
   "execution_count": 26,
   "id": "d4696315",
   "metadata": {
    "scrolled": true
   },
   "outputs": [
    {
     "name": "stdout",
     "output_type": "stream",
     "text": [
      "+-----------+\n",
      "|failre_rate|\n",
      "+-----------+\n",
      "|     88.302|\n",
      "+-----------+\n",
      "\n"
     ]
    }
   ],
   "source": [
    "spark.sql(\"select round((select count(*) from banktable where y = 'no')*100/(count(*)), 3) \\\n",
    "as failre_rate from banktable\").show()"
   ]
  },
  {
   "cell_type": "code",
   "execution_count": 27,
   "id": "86c9455c",
   "metadata": {},
   "outputs": [
    {
     "name": "stdout",
     "output_type": "stream",
     "text": [
      "+------------------+\n",
      "|total_success_rate|\n",
      "+------------------+\n",
      "|11.698480458295547|\n",
      "+------------------+\n",
      "\n"
     ]
    }
   ],
   "source": [
    "spark.sql(\"\"\"\n",
    "            SELECT\n",
    "                 COUNT(CASE WHEN y = 'yes' THEN 1 ELSE NULL END)*100/COUNT(*) as total_success_rate\n",
    "            FROM\n",
    "                banktable\n",
    "                 \"\"\").show()"
   ]
  },
  {
   "cell_type": "markdown",
   "id": "67d25010",
   "metadata": {},
   "source": [
    "#### 6. Check if marital status matters  in marketing subscription for term desposit scheme "
   ]
  },
  {
   "cell_type": "code",
   "execution_count": 30,
   "id": "3dcaaf09",
   "metadata": {},
   "outputs": [
    {
     "name": "stdout",
     "output_type": "stream",
     "text": [
      "+--------+---------------+\n",
      "| marital|marital_success|\n",
      "+--------+---------------+\n",
      "| married|           2755|\n",
      "|  single|           1912|\n",
      "|divorced|            622|\n",
      "+--------+---------------+\n",
      "\n"
     ]
    }
   ],
   "source": [
    "spark.sql(\"\"\"\n",
    "select marital, count(*) as marital_success from banktable where y = 'yes' group by marital\n",
    "order by marital_success desc\n",
    "\"\"\").show()"
   ]
  },
  {
   "cell_type": "markdown",
   "id": "4b3827a7",
   "metadata": {},
   "source": [
    "#### 8. Check if age and marital status together mattered for subscription to term deposit scheme. "
   ]
  },
  {
   "cell_type": "code",
   "execution_count": 33,
   "id": "b76b360b",
   "metadata": {},
   "outputs": [
    {
     "name": "stdout",
     "output_type": "stream",
     "text": [
      "+---+-------+--------+\n",
      "|age|marital|_success|\n",
      "+---+-------+--------+\n",
      "| 30| single|     151|\n",
      "| 28| single|     138|\n",
      "| 29| single|     133|\n",
      "| 32| single|     124|\n",
      "| 26| single|     121|\n",
      "| 34|married|     118|\n",
      "| 31| single|     111|\n",
      "| 27| single|     110|\n",
      "| 35|married|     101|\n",
      "| 36|married|     100|\n",
      "| 25| single|      99|\n",
      "| 37|married|      98|\n",
      "| 33|married|      97|\n",
      "| 33| single|      97|\n",
      "| 32|married|      87|\n",
      "| 39|married|      87|\n",
      "| 38|married|      86|\n",
      "| 35| single|      84|\n",
      "| 47|married|      83|\n",
      "| 31|married|      80|\n",
      "+---+-------+--------+\n",
      "only showing top 20 rows\n",
      "\n"
     ]
    }
   ],
   "source": [
    "spark.sql(\"\"\"\n",
    "select age, marital, count(*) as _success from banktable where y = 'yes' group by age, marital\n",
    "order by _success desc\n",
    "\"\"\").show()"
   ]
  },
  {
   "cell_type": "markdown",
   "id": "fe81e043",
   "metadata": {},
   "source": [
    "#### 9. Compute Success rate of each age and marital status category."
   ]
  },
  {
   "cell_type": "code",
   "execution_count": 40,
   "id": "d02a3b3c",
   "metadata": {
    "collapsed": true
   },
   "outputs": [
    {
     "name": "stdout",
     "output_type": "stream",
     "text": [
      "+---+--------+-------------+------------+------------------+\n",
      "|age| marital|total_records|count_sucess|success_percentage|\n",
      "+---+--------+-------------+------------+------------------+\n",
      "| 93| married|            2|           2|             100.0|\n",
      "| 95|divorced|            1|           1|             100.0|\n",
      "| 68|divorced|            6|           6|             100.0|\n",
      "| 92| married|            2|           2|             100.0|\n",
      "| 85|divorced|            1|           1|             100.0|\n",
      "| 90|divorced|            2|           2|             100.0|\n",
      "| 87|divorced|            1|           1|             100.0|\n",
      "| 86|  single|            1|           1|             100.0|\n",
      "| 67|divorced|            8|           7|              87.5|\n",
      "| 62|divorced|            6|           5| 83.33333333333333|\n",
      "| 76|divorced|            8|           6|              75.0|\n",
      "| 85| married|            4|           3|              75.0|\n",
      "| 71|divorced|           11|           8| 72.72727272727273|\n",
      "| 87| married|            3|           2| 66.66666666666667|\n",
      "| 84| married|            6|           4| 66.66666666666667|\n",
      "| 73|divorced|            6|           4| 66.66666666666667|\n",
      "| 77|divorced|            5|           3|              60.0|\n",
      "| 18|  single|           12|           7|58.333333333333336|\n",
      "| 63|divorced|            7|           4|57.142857142857146|\n",
      "| 73| married|           36|          19| 52.77777777777778|\n",
      "+---+--------+-------------+------------+------------------+\n",
      "only showing top 20 rows\n",
      "\n"
     ]
    }
   ],
   "source": [
    "#success rate of each age a\n",
    "spark.sql(\"\"\"\n",
    "    select age, marital, count(*) as total_records,\n",
    "        SUM(case when y = 'yes' then 1 else 0 end) AS count_sucess,\n",
    "        (SUM(case when y = 'yes' then 1 else 0 end)*100/COUNT(*)) as success_percentage\n",
    "    from banktable group by age, marital order by success_percentage desc\n",
    "\"\"\").show()"
   ]
  },
  {
   "cell_type": "markdown",
   "id": "7308814f",
   "metadata": {},
   "source": [
    "#### 10. Do features engineering for Bank Investment Scheme and find Effect of Age on the Campaign."
   ]
  },
  {
   "cell_type": "code",
   "execution_count": 45,
   "id": "5db4c8ed",
   "metadata": {},
   "outputs": [
    {
     "name": "stdout",
     "output_type": "stream",
     "text": [
      "+------------+-------------+\n",
      "|age_category|success_count|\n",
      "+------------+-------------+\n",
      "| Middle Aged|         2194|\n",
      "|       Adult|         1982|\n",
      "|         old|          906|\n",
      "|    Teenager|          207|\n",
      "+------------+-------------+\n",
      "\n"
     ]
    }
   ],
   "source": [
    "spark.sql(\"\"\"\n",
    "select age_category, count(*) as success_count from (select case when age < 25 then 'Teenager'\n",
    "            when age >= 25 and age <= 35 then 'Adult'\n",
    "            when age > 35 and age <= 55 then 'Middle Aged'\n",
    "            else 'old'\n",
    "        end as age_category\n",
    "        from banktable where y = 'yes') group by age_category \n",
    "order by success_count desc\n",
    "\"\"\").show()"
   ]
  },
  {
   "cell_type": "markdown",
   "id": "f68b3a5b",
   "metadata": {},
   "source": [
    "#### Alternative Method : Create UDF"
   ]
  },
  {
   "cell_type": "code",
   "execution_count": 47,
   "id": "08156939",
   "metadata": {},
   "outputs": [],
   "source": [
    "from pyspark.sql.functions import udf"
   ]
  },
  {
   "cell_type": "code",
   "execution_count": 48,
   "id": "e5cb2f58",
   "metadata": {},
   "outputs": [],
   "source": [
    "age_range = udf(lambda age : 'Teenager' if age < 25 else\n",
    "                             'Adult' if (age >= 25 and age < 35) else\n",
    "                             'Middle Aged' if (age >= 35 and age < 55) else\n",
    "                             'Old'\n",
    "                )"
   ]
  },
  {
   "cell_type": "code",
   "execution_count": 52,
   "id": "a78e6469",
   "metadata": {},
   "outputs": [],
   "source": [
    "bank_customer_DF = bank_customer_data.withColumn('age_category', \n",
    "                                                 age_range(bank_customer_data.age))"
   ]
  },
  {
   "cell_type": "code",
   "execution_count": 53,
   "id": "4bb9d115",
   "metadata": {
    "collapsed": true
   },
   "outputs": [
    {
     "name": "stdout",
     "output_type": "stream",
     "text": [
      "+---+-------+--------+-------+---+-------+--------+---------+-------+------------+----+--------+-----+-----+--------+--------+---+------------+\n",
      "|age|balance|campaign|contact|day|default|duration|education|housing|         job|loan| marital|month|pdays|poutcome|previous|  y|age_category|\n",
      "+---+-------+--------+-------+---+-------+--------+---------+-------+------------+----+--------+-----+-----+--------+--------+---+------------+\n",
      "| 58|   2143|       1|unknown|  5|     no|     261| tertiary|    yes|  management|  no| married|  may|   -1| unknown|       0| no|         Old|\n",
      "| 44|     29|       1|unknown|  5|     no|     151|secondary|    yes|  technician|  no|  single|  may|   -1| unknown|       0| no| Middle Aged|\n",
      "| 33|      2|       1|unknown|  5|     no|      76|secondary|    yes|entrepreneur| yes| married|  may|   -1| unknown|       0| no|       Adult|\n",
      "| 47|   1506|       1|unknown|  5|     no|      92|  unknown|    yes| blue-collar|  no| married|  may|   -1| unknown|       0| no| Middle Aged|\n",
      "| 33|      1|       1|unknown|  5|     no|     198|  unknown|     no|     unknown|  no|  single|  may|   -1| unknown|       0| no|       Adult|\n",
      "| 35|    231|       1|unknown|  5|     no|     139| tertiary|    yes|  management|  no| married|  may|   -1| unknown|       0| no| Middle Aged|\n",
      "| 28|    447|       1|unknown|  5|     no|     217| tertiary|    yes|  management| yes|  single|  may|   -1| unknown|       0| no|       Adult|\n",
      "| 42|      2|       1|unknown|  5|    yes|     380| tertiary|    yes|entrepreneur|  no|divorced|  may|   -1| unknown|       0| no| Middle Aged|\n",
      "| 58|    121|       1|unknown|  5|     no|      50|  primary|    yes|     retired|  no| married|  may|   -1| unknown|       0| no|         Old|\n",
      "| 43|    593|       1|unknown|  5|     no|      55|secondary|    yes|  technician|  no|  single|  may|   -1| unknown|       0| no| Middle Aged|\n",
      "| 41|    270|       1|unknown|  5|     no|     222|secondary|    yes|      admin.|  no|divorced|  may|   -1| unknown|       0| no| Middle Aged|\n",
      "| 29|    390|       1|unknown|  5|     no|     137|secondary|    yes|      admin.|  no|  single|  may|   -1| unknown|       0| no|       Adult|\n",
      "| 53|      6|       1|unknown|  5|     no|     517|secondary|    yes|  technician|  no| married|  may|   -1| unknown|       0| no| Middle Aged|\n",
      "| 58|     71|       1|unknown|  5|     no|      71|  unknown|    yes|  technician|  no| married|  may|   -1| unknown|       0| no|         Old|\n",
      "| 57|    162|       1|unknown|  5|     no|     174|secondary|    yes|    services|  no| married|  may|   -1| unknown|       0| no|         Old|\n",
      "| 51|    229|       1|unknown|  5|     no|     353|  primary|    yes|     retired|  no| married|  may|   -1| unknown|       0| no| Middle Aged|\n",
      "| 45|     13|       1|unknown|  5|     no|      98|  unknown|    yes|      admin.|  no|  single|  may|   -1| unknown|       0| no| Middle Aged|\n",
      "| 57|     52|       1|unknown|  5|     no|      38|  primary|    yes| blue-collar|  no| married|  may|   -1| unknown|       0| no|         Old|\n",
      "| 60|     60|       1|unknown|  5|     no|     219|  primary|    yes|     retired|  no| married|  may|   -1| unknown|       0| no|         Old|\n",
      "| 33|      0|       1|unknown|  5|     no|      54|secondary|    yes|    services|  no| married|  may|   -1| unknown|       0| no|       Adult|\n",
      "+---+-------+--------+-------+---+-------+--------+---------+-------+------------+----+--------+-----+-----+--------+--------+---+------------+\n",
      "only showing top 20 rows\n",
      "\n"
     ]
    }
   ],
   "source": [
    "bank_customer_DF.show()"
   ]
  },
  {
   "cell_type": "code",
   "execution_count": 60,
   "id": "e6d51300",
   "metadata": {},
   "outputs": [],
   "source": [
    "bank_customer_DF.createOrReplaceTempView('newBankTable')"
   ]
  },
  {
   "cell_type": "code",
   "execution_count": 63,
   "id": "77aa99ab",
   "metadata": {
    "collapsed": true
   },
   "outputs": [
    {
     "name": "stdout",
     "output_type": "stream",
     "text": [
      "+------------+-------------+\n",
      "|age_category|success_count|\n",
      "+------------+-------------+\n",
      "| Middle Aged|        24492|\n",
      "|       Adult|        14204|\n",
      "|         Old|         5706|\n",
      "|    Teenager|          809|\n",
      "+------------+-------------+\n",
      "\n"
     ]
    }
   ],
   "source": [
    "spark.sql(\"\"\"\n",
    "select age_category, count(*) as success_count from newBankTable group by age_category\n",
    "order by success_count DESC\n",
    "\"\"\").show()"
   ]
  },
  {
   "cell_type": "code",
   "execution_count": 55,
   "id": "7c6f80ae",
   "metadata": {},
   "outputs": [
    {
     "name": "stdout",
     "output_type": "stream",
     "text": [
      "+------------+\n",
      "|databaseName|\n",
      "+------------+\n",
      "|     default|\n",
      "+------------+\n",
      "\n"
     ]
    }
   ],
   "source": [
    "spark.sql('show databases').show()"
   ]
  },
  {
   "cell_type": "markdown",
   "id": "96c15a25",
   "metadata": {},
   "source": [
    "#### 11. Write a Query to show distributed probability rate for each age category"
   ]
  },
  {
   "cell_type": "code",
   "execution_count": null,
   "id": "c81bc83b",
   "metadata": {},
   "outputs": [],
   "source": []
  }
 ],
 "metadata": {
  "kernelspec": {
   "display_name": "Python 3",
   "language": "python",
   "name": "python3"
  },
  "language_info": {
   "codemirror_mode": {
    "name": "ipython",
    "version": 3
   },
   "file_extension": ".py",
   "mimetype": "text/x-python",
   "name": "python",
   "nbconvert_exporter": "python",
   "pygments_lexer": "ipython3",
   "version": "3.6.9"
  }
 },
 "nbformat": 4,
 "nbformat_minor": 5
}
