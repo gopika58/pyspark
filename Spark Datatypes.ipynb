{
 "cells": [
  {
   "cell_type": "code",
   "execution_count": 0,
   "metadata": {
    "application/vnd.databricks.v1+cell": {
     "cellMetadata": {
      "byteLimit": 2048000,
      "rowLimit": 10000
     },
     "inputWidgets": {},
     "nuid": "2643fcb2-fda7-473a-9eee-adc9ea338847",
     "showTitle": false,
     "title": ""
    }
   },
   "outputs": [
    {
     "output_type": "stream",
     "name": "stdout",
     "output_type": "stream",
     "text": [
      "Out[53]: [FileInfo(path='dbfs:/FileStore/shared_uploads/', name='shared_uploads/', size=0, modificationTime=0)]"
     ]
    }
   ],
   "source": [
    "dbutils.fs.ls(\"/FileStore\")\n"
   ]
  },
  {
   "cell_type": "code",
   "execution_count": 0,
   "metadata": {
    "application/vnd.databricks.v1+cell": {
     "cellMetadata": {
      "byteLimit": 2048000,
      "rowLimit": 10000
     },
     "inputWidgets": {},
     "nuid": "30dfaba8-1d90-41a7-8cc9-e2e8e18a7d0e",
     "showTitle": false,
     "title": ""
    }
   },
   "outputs": [],
   "source": [
    "df1 = spark.read.format(\"csv\").option(\"header\", \"true\").load(\"dbfs:/FileStore/shared_uploads/adarshp2077@outlook.com/sales_data_sample.csv\")"
   ]
  },
  {
   "cell_type": "code",
   "execution_count": 0,
   "metadata": {
    "application/vnd.databricks.v1+cell": {
     "cellMetadata": {
      "byteLimit": 2048000,
      "rowLimit": 10000
     },
     "inputWidgets": {},
     "nuid": "0a230d94-c461-4d38-88b1-48fba82ff036",
     "showTitle": false,
     "title": ""
    }
   },
   "outputs": [
    {
     "output_type": "stream",
     "name": "stdout",
     "output_type": "stream",
     "text": [
      "+-----------+---------------+---------+---------------+-------+---------------+-------+------+--------+-------+-----------+----+-----------+--------------------+----------------+--------------------+------------+-------------+-----+----------+-------+---------+---------------+----------------+--------+\n|ORDERNUMBER|QUANTITYORDERED|PRICEEACH|ORDERLINENUMBER|  SALES|      ORDERDATE| STATUS|QTR_ID|MONTH_ID|YEAR_ID|PRODUCTLINE|MSRP|PRODUCTCODE|        CUSTOMERNAME|           PHONE|        ADDRESSLINE1|ADDRESSLINE2|         CITY|STATE|POSTALCODE|COUNTRY|TERRITORY|CONTACTLASTNAME|CONTACTFIRSTNAME|DEALSIZE|\n+-----------+---------------+---------+---------------+-------+---------------+-------+------+--------+-------+-----------+----+-----------+--------------------+----------------+--------------------+------------+-------------+-----+----------+-------+---------+---------------+----------------+--------+\n|      10107|             30|     95.7|              2|   2871| 2/24/2003 0:00|Shipped|     1|       2|   2003|Motorcycles|  95|   S10_1678|   Land of Toys Inc.|      2125557818|897 Long Airport ...|        null|          NYC|   NY|     10022|    USA|       NA|             Yu|            Kwai|   Small|\n|      10121|             34|    81.35|              5| 2765.9|  5/7/2003 0:00|Shipped|     2|       5|   2003|Motorcycles|  95|   S10_1678|  Reims Collectables|      26.47.1555|  59 rue de l'Abbaye|        null|        Reims| null|     51100| France|     EMEA|        Henriot|            Paul|   Small|\n|      10134|             41|    94.74|              2|3884.34|  7/1/2003 0:00|Shipped|     3|       7|   2003|Motorcycles|  95|   S10_1678|     Lyon Souveniers|+33 1 46 62 7555|27 rue du Colonel...|        null|        Paris| null|     75508| France|     EMEA|       Da Cunha|          Daniel|  Medium|\n|      10145|             45|    83.26|              6| 3746.7| 8/25/2003 0:00|Shipped|     3|       8|   2003|Motorcycles|  95|   S10_1678|   Toys4GrownUps.com|      6265557265|  78934 Hillside Dr.|        null|     Pasadena|   CA|     90003|    USA|       NA|          Young|           Julie|  Medium|\n|      10159|             49|      100|             14|5205.27|10/10/2003 0:00|Shipped|     4|      10|   2003|Motorcycles|  95|   S10_1678|Corporate Gift Id...|      6505551386|     7734 Strong St.|        null|San Francisco|   CA|      null|    USA|       NA|          Brown|           Julie|  Medium|\n+-----------+---------------+---------+---------------+-------+---------------+-------+------+--------+-------+-----------+----+-----------+--------------------+----------------+--------------------+------------+-------------+-----+----------+-------+---------+---------------+----------------+--------+\nonly showing top 5 rows\n\n"
     ]
    }
   ],
   "source": [
    "df1.show(5)"
   ]
  },
  {
   "cell_type": "markdown",
   "metadata": {
    "application/vnd.databricks.v1+cell": {
     "cellMetadata": {
      "byteLimit": 2048000,
      "rowLimit": 10000
     },
     "inputWidgets": {},
     "nuid": "4ff99437-b83c-4afb-a51c-2d7c4aa9370b",
     "showTitle": false,
     "title": ""
    }
   },
   "source": [
    "Customer Sales Contribuition"
   ]
  },
  {
   "cell_type": "code",
   "execution_count": 0,
   "metadata": {
    "application/vnd.databricks.v1+cell": {
     "cellMetadata": {
      "byteLimit": 2048000,
      "rowLimit": 10000
     },
     "inputWidgets": {},
     "nuid": "cc7a5cdb-77c3-4563-a09f-9030a940875d",
     "showTitle": false,
     "title": ""
    }
   },
   "outputs": [
    {
     "output_type": "stream",
     "name": "stdout",
     "output_type": "stream",
     "text": [
      "root\n |-- ORDERNUMBER: string (nullable = true)\n |-- QUANTITYORDERED: string (nullable = true)\n |-- PRICEEACH: string (nullable = true)\n |-- ORDERLINENUMBER: string (nullable = true)\n |-- SALES: string (nullable = true)\n |-- ORDERDATE: string (nullable = true)\n |-- STATUS: string (nullable = true)\n |-- QTR_ID: string (nullable = true)\n |-- MONTH_ID: string (nullable = true)\n |-- YEAR_ID: string (nullable = true)\n |-- PRODUCTLINE: string (nullable = true)\n |-- MSRP: string (nullable = true)\n |-- PRODUCTCODE: string (nullable = true)\n |-- CUSTOMERNAME: string (nullable = true)\n |-- PHONE: string (nullable = true)\n |-- ADDRESSLINE1: string (nullable = true)\n |-- ADDRESSLINE2: string (nullable = true)\n |-- CITY: string (nullable = true)\n |-- STATE: string (nullable = true)\n |-- POSTALCODE: string (nullable = true)\n |-- COUNTRY: string (nullable = true)\n |-- TERRITORY: string (nullable = true)\n |-- CONTACTLASTNAME: string (nullable = true)\n |-- CONTACTFIRSTNAME: string (nullable = true)\n |-- DEALSIZE: string (nullable = true)\n\n"
     ]
    }
   ],
   "source": [
    "df1.printSchema()"
   ]
  },
  {
   "cell_type": "code",
   "execution_count": 0,
   "metadata": {
    "application/vnd.databricks.v1+cell": {
     "cellMetadata": {
      "byteLimit": 2048000,
      "rowLimit": 10000
     },
     "inputWidgets": {},
     "nuid": "892ea4d7-1cbe-44ca-851c-f9fdd015e059",
     "showTitle": false,
     "title": ""
    }
   },
   "outputs": [],
   "source": [
    "df1.createOrReplaceTempView(\"productsales\")"
   ]
  },
  {
   "cell_type": "code",
   "execution_count": 0,
   "metadata": {
    "application/vnd.databricks.v1+cell": {
     "cellMetadata": {
      "byteLimit": 2048000,
      "rowLimit": 10000
     },
     "inputWidgets": {},
     "nuid": "2e77adea-06fa-4b80-b708-d67990863b9b",
     "showTitle": false,
     "title": ""
    }
   },
   "outputs": [
    {
     "output_type": "stream",
     "name": "stdout",
     "output_type": "stream",
     "text": [
      "+--------------------+------------------+------------------------+\n|        customername|         sum_sales|contribuition_percentage|\n+--------------------+------------------+------------------------+\n|Euro Shopping Cha...| 912294.1100000002|     0.09093270803095634|\n|Mini Gifts Distri...|         654858.06|     0.06527282826773756|\n|Australian Collec...|200995.40999999997|    0.020034171801341955|\n|  Muscle Machine Inc|197736.93999999997|    0.019709384544809486|\n|   La Rochelle Gifts|          180124.9|    0.017953908461389938|\n|Dragon Souveniers...|172989.68000000008|    0.017242707029872822|\n|   Land of Toys Inc.|164069.44000000003|    0.016353584135627607|\n|The Sharp Gifts W...|160010.26999999996|     0.01594898728861078|\n|      AV Stores, Co.|157807.80999999997|     0.01572945758877543|\n|Anna's Decoration...|153996.13000000003|    0.015349529251249026|\n+--------------------+------------------+------------------------+\nonly showing top 10 rows\n\n"
     ]
    }
   ],
   "source": [
    "spark.sql('select customername,sum(sales) as sum_sales,sum(sales)/(select sum(sales) from productsales) as contribuition_percentage from productsales group by customername order by sum_sales desc').show(10)"
   ]
  },
  {
   "cell_type": "code",
   "execution_count": 0,
   "metadata": {
    "application/vnd.databricks.v1+cell": {
     "cellMetadata": {
      "byteLimit": 2048000,
      "rowLimit": 10000
     },
     "inputWidgets": {},
     "nuid": "359f7182-387c-4d8c-9c2a-4c41af6e9eb7",
     "showTitle": false,
     "title": ""
    }
   },
   "outputs": [],
   "source": [
    "#sesonal sales trend"
   ]
  },
  {
   "cell_type": "code",
   "execution_count": 0,
   "metadata": {
    "application/vnd.databricks.v1+cell": {
     "cellMetadata": {
      "byteLimit": 2048000,
      "implicitDf": true,
      "rowLimit": 10000
     },
     "inputWidgets": {},
     "nuid": "d7004f4e-a455-42d8-97f1-ca1509695abe",
     "showTitle": false,
     "title": ""
    }
   },
   "outputs": [
    {
     "output_type": "display_data",
     "data": {
      "text/html": [
       "<style scoped>\n",
       "  .table-result-container {\n",
       "    max-height: 300px;\n",
       "    overflow: auto;\n",
       "  }\n",
       "  table, th, td {\n",
       "    border: 1px solid black;\n",
       "    border-collapse: collapse;\n",
       "  }\n",
       "  th, td {\n",
       "    padding: 5px;\n",
       "  }\n",
       "  th {\n",
       "    text-align: left;\n",
       "  }\n",
       "</style><div class='table-result-container'><table class='table-result'><thead style='background-color: white'><tr><th>year_id</th><th>qtr_id</th><th>sum_sales</th><th>contribuition_percentage</th></tr></thead><tbody><tr><td>2003</td><td>1</td><td>445094.6900000002</td><td>0.04436471204653401</td></tr><tr><td>2005</td><td>1</td><td>1071992.3600000003</td><td>0.10685059479699573</td></tr><tr><td>2004</td><td>1</td><td>833730.6800000005</td><td>0.08310191600479665</td></tr><tr><td>2003</td><td>2</td><td>562365.22</td><td>0.05605362546627043</td></tr><tr><td>2005</td><td>2</td><td>719494.3500000001</td><td>0.07171543578032386</td></tr><tr><td>2004</td><td>2</td><td>766260.7299999996</td><td>0.07637686407585972</td></tr><tr><td>2003</td><td>3</td><td>649514.5399999999</td><td>0.06474021412643001</td></tr><tr><td>2004</td><td>3</td><td>1109396.2700000005</td><td>0.11057882102356445</td></tr><tr><td>2004</td><td>4</td><td>2014774.9199999995</td><td>0.20082223215104755</td></tr><tr><td>2003</td><td>4</td><td>1860005.0899999987</td><td>0.18539558452817645</td></tr></tbody></table></div>"
      ]
     },
     "metadata": {
      "application/vnd.databricks.v1+output": {
       "addedWidgets": {},
       "aggData": [],
       "aggError": "",
       "aggOverflow": false,
       "aggSchema": [],
       "aggSeriesLimitReached": false,
       "aggType": "",
       "arguments": {},
       "columnCustomDisplayInfos": {},
       "data": [
        [
         "2003",
         "1",
         445094.6900000002,
         0.04436471204653401
        ],
        [
         "2005",
         "1",
         1071992.3600000003,
         0.10685059479699573
        ],
        [
         "2004",
         "1",
         833730.6800000005,
         0.08310191600479665
        ],
        [
         "2003",
         "2",
         562365.22,
         0.05605362546627043
        ],
        [
         "2005",
         "2",
         719494.3500000001,
         0.07171543578032386
        ],
        [
         "2004",
         "2",
         766260.7299999996,
         0.07637686407585972
        ],
        [
         "2003",
         "3",
         649514.5399999999,
         0.06474021412643001
        ],
        [
         "2004",
         "3",
         1109396.2700000005,
         0.11057882102356445
        ],
        [
         "2004",
         "4",
         2014774.9199999995,
         0.20082223215104755
        ],
        [
         "2003",
         "4",
         1860005.0899999987,
         0.18539558452817645
        ]
       ],
       "datasetInfos": [],
       "dbfsResultPath": null,
       "isJsonSchema": true,
       "metadata": {},
       "overflow": false,
       "plotOptions": {
        "customPlotOptions": {},
        "displayType": "table",
        "pivotAggregation": null,
        "pivotColumns": null,
        "xColumns": null,
        "yColumns": null
       },
       "removedWidgets": [],
       "schema": [
        {
         "metadata": "{}",
         "name": "year_id",
         "type": "\"string\""
        },
        {
         "metadata": "{}",
         "name": "qtr_id",
         "type": "\"string\""
        },
        {
         "metadata": "{}",
         "name": "sum_sales",
         "type": "\"double\""
        },
        {
         "metadata": "{}",
         "name": "contribuition_percentage",
         "type": "\"double\""
        }
       ],
       "type": "table"
      }
     },
     "output_type": "display_data"
    },
    {
     "output_type": "display_data",
     "data": {
      "text/plain": [
       "Databricks visualization. Run in Databricks to view."
      ]
     },
     "metadata": {
      "application/vnd.databricks.v1.subcommand+json": {
       "baseErrorDetails": null,
       "bindings": {},
       "collapsed": false,
       "command": "%sql WITH q AS (select year_id,qtr_id, sum(sales) as sum_sales,sum(sales)/(select sum(sales)from productsales) as contribuition_percentage from productsales group by qtr_id,year_id order by qtr_id) SELECT COUNT(DISTINCT `contribuition_percentage`) `column_a8bd4a804`,`year_id` FROM q GROUP BY `year_id`",
       "commandTitle": "Visualization 1",
       "commandType": "auto",
       "commandVersion": 0,
       "commentThread": [],
       "commentsVisible": false,
       "contentSha256Hex": null,
       "customPlotOptions": {
        "redashChart": [
         {
          "key": "type",
          "value": "CHART"
         },
         {
          "key": "options",
          "value": {
           "alignYAxesAtZero": true,
           "coefficient": 1,
           "columnConfigurationMap": {
            "x": {
             "column": "year_id",
             "id": "column_a8bd4a801"
            },
            "y": [
             {
              "column": "contribuition_percentage",
              "id": "column_a8bd4a804",
              "transform": "COUNT_DISTINCT"
             }
            ]
           },
           "dateTimeFormat": "DD/MM/YYYY HH:mm",
           "direction": {
            "type": "counterclockwise"
           },
           "error_y": {
            "type": "data",
            "visible": true
           },
           "globalSeriesType": "line",
           "isAggregationOn": true,
           "legend": {
            "traceorder": "normal"
           },
           "missingValuesAsZero": true,
           "numberFormat": "0,0.[00000]",
           "percentFormat": "0[.]00%",
           "series": {
            "error_y": {
             "type": "data",
             "visible": true
            },
            "stacking": null
           },
           "seriesOptions": {
            "column_a8bd4a804": {
             "type": "line",
             "yAxis": 0
            }
           },
           "showDataLabels": false,
           "sizemode": "diameter",
           "sortX": true,
           "sortY": true,
           "swappedAxes": false,
           "textFormat": "",
           "useAggregationsUi": true,
           "valuesOptions": {},
           "version": 2,
           "xAxis": {
            "labels": {
             "enabled": true
            },
            "title": {
             "text": "year_id"
            },
            "type": "-"
           },
           "yAxis": [
            {
             "title": {
              "text": "qtr_id"
             },
             "type": "-"
            },
            {
             "opposite": true,
             "type": "-"
            }
           ]
          }
         }
        ]
       },
       "datasetPreviewNameToCmdIdMap": {},
       "diffDeletes": [],
       "diffInserts": [],
       "displayType": "redashChart",
       "error": null,
       "errorDetails": null,
       "errorSummary": null,
       "errorTraceType": null,
       "finishTime": 0,
       "globalVars": {},
       "guid": "",
       "height": "auto",
       "hideCommandCode": false,
       "hideCommandResult": false,
       "iPythonMetadata": null,
       "inputWidgets": {},
       "isLockedInExamMode": false,
       "latestUser": "a user",
       "latestUserId": null,
       "listResultMetadata": null,
       "metadata": {
        "byteLimit": 2048000,
        "implicitDf": true,
        "rowLimit": 10000
       },
       "nuid": "0c7a878b-0ac7-4a60-be7c-ee0d13b080de",
       "origId": 0,
       "parentHierarchy": [],
       "pivotAggregation": null,
       "pivotColumns": null,
       "position": 9.0,
       "resultDbfsErrorMessage": null,
       "resultDbfsStatus": "INLINED_IN_TREE",
       "results": null,
       "showCommandTitle": false,
       "startTime": 0,
       "state": "finished",
       "streamStates": {},
       "subcommandOptions": {
        "queryPlan": {
         "groups": [
          {
           "column": "year_id",
           "type": "column"
          }
         ],
         "selects": [
          {
           "alias": "column_a8bd4a804",
           "args": [
            {
             "column": "contribuition_percentage",
             "type": "column"
            }
           ],
           "function": "COUNT_DISTINCT",
           "type": "function"
          },
          {
           "column": "year_id",
           "type": "column"
          }
         ]
        }
       },
       "submitTime": 0,
       "subtype": "tableResultSubCmd.visualization",
       "tableResultIndex": 0,
       "useConsistentColors": false,
       "version": "CommandV1",
       "width": "auto",
       "workflows": [],
       "xColumns": null,
       "yColumns": null
      }
     },
     "output_type": "display_data"
    }
   ],
   "source": [
    "\n",
    "%sql\n",
    "select year_id,qtr_id, sum(sales) as sum_sales,sum(sales)/(select sum(sales)from productsales) as contribuition_percentage from productsales group by qtr_id,year_id order by qtr_id \n"
   ]
  },
  {
   "cell_type": "code",
   "execution_count": 0,
   "metadata": {
    "application/vnd.databricks.v1+cell": {
     "cellMetadata": {
      "byteLimit": 2048000,
      "implicitDf": true,
      "rowLimit": 10000
     },
     "inputWidgets": {},
     "nuid": "2c1b7352-3f4f-453d-8230-18050e8bd518",
     "showTitle": false,
     "title": ""
    }
   },
   "outputs": [
    {
     "output_type": "display_data",
     "data": {
      "text/html": [
       "<style scoped>\n",
       "  .table-result-container {\n",
       "    max-height: 300px;\n",
       "    overflow: auto;\n",
       "  }\n",
       "  table, th, td {\n",
       "    border: 1px solid black;\n",
       "    border-collapse: collapse;\n",
       "  }\n",
       "  th, td {\n",
       "    padding: 5px;\n",
       "  }\n",
       "  th {\n",
       "    text-align: left;\n",
       "  }\n",
       "</style><div class='table-result-container'><table class='table-result'><thead style='background-color: white'><tr><th>month_id</th><th>season</th><th>sum_sales</th></tr></thead><tbody><tr><td>1</td><td>Winter</td><td>785874.4400000008</td></tr><tr><td>10</td><td>Fall</td><td>1121215.2199999997</td></tr><tr><td>11</td><td>Fall</td><td>2118885.67</td></tr><tr><td>12</td><td>Fall</td><td>634679.1199999998</td></tr><tr><td>2</td><td>Winter</td><td>810441.9</td></tr><tr><td>3</td><td>Winter</td><td>754501.3900000001</td></tr><tr><td>4</td><td>Summer</td><td>669390.9600000003</td></tr><tr><td>5</td><td>Summer</td><td>923972.56</td></tr><tr><td>6</td><td>Summer</td><td>454756.77999999985</td></tr><tr><td>7</td><td>Spring</td><td>514875.9700000001</td></tr><tr><td>8</td><td>Spring</td><td>659310.5699999998</td></tr><tr><td>9</td><td>Spring</td><td>584724.2699999999</td></tr></tbody></table></div>"
      ]
     },
     "metadata": {
      "application/vnd.databricks.v1+output": {
       "addedWidgets": {},
       "aggData": [],
       "aggError": "",
       "aggOverflow": false,
       "aggSchema": [],
       "aggSeriesLimitReached": false,
       "aggType": "",
       "arguments": {},
       "columnCustomDisplayInfos": {},
       "data": [
        [
         "1",
         "Winter",
         785874.4400000008
        ],
        [
         "10",
         "Fall",
         1121215.2199999997
        ],
        [
         "11",
         "Fall",
         2118885.67
        ],
        [
         "12",
         "Fall",
         634679.1199999998
        ],
        [
         "2",
         "Winter",
         810441.9
        ],
        [
         "3",
         "Winter",
         754501.3900000001
        ],
        [
         "4",
         "Summer",
         669390.9600000003
        ],
        [
         "5",
         "Summer",
         923972.56
        ],
        [
         "6",
         "Summer",
         454756.77999999985
        ],
        [
         "7",
         "Spring",
         514875.9700000001
        ],
        [
         "8",
         "Spring",
         659310.5699999998
        ],
        [
         "9",
         "Spring",
         584724.2699999999
        ]
       ],
       "datasetInfos": [],
       "dbfsResultPath": null,
       "isJsonSchema": true,
       "metadata": {},
       "overflow": false,
       "plotOptions": {
        "customPlotOptions": {},
        "displayType": "table",
        "pivotAggregation": null,
        "pivotColumns": null,
        "xColumns": null,
        "yColumns": null
       },
       "removedWidgets": [],
       "schema": [
        {
         "metadata": "{}",
         "name": "month_id",
         "type": "\"string\""
        },
        {
         "metadata": "{}",
         "name": "season",
         "type": "\"string\""
        },
        {
         "metadata": "{}",
         "name": "sum_sales",
         "type": "\"double\""
        }
       ],
       "type": "table"
      }
     },
     "output_type": "display_data"
    },
    {
     "output_type": "display_data",
     "data": {
      "text/plain": [
       "Databricks visualization. Run in Databricks to view."
      ]
     },
     "metadata": {
      "application/vnd.databricks.v1.subcommand+json": {
       "baseErrorDetails": null,
       "bindings": {},
       "collapsed": false,
       "command": "%sql WITH q AS (select month_id,\ncase when qtr_id==1 then \"Winter\"\n\n when qtr_id==2 then \"Summer\"\n when qtr_id==3 then \"Spring\"\n when qtr_id==4 then \"Fall\" end as season, sum(sales) as sum_sales from productsales group by month_id,qtr_id order by month_id ASC) SELECT `month_id`,SUM(`sum_sales`) `column_a8bd4a8021` FROM q GROUP BY `month_id`",
       "commandTitle": "Visualization 1",
       "commandType": "auto",
       "commandVersion": 0,
       "commentThread": [],
       "commentsVisible": false,
       "contentSha256Hex": null,
       "customPlotOptions": {
        "redashChart": [
         {
          "key": "type",
          "value": "CHART"
         },
         {
          "key": "options",
          "value": {
           "alignYAxesAtZero": true,
           "coefficient": 1,
           "columnConfigurationMap": {
            "x": {
             "column": "month_id",
             "id": "column_a8bd4a8033"
            },
            "y": [
             {
              "column": "sum_sales",
              "id": "column_a8bd4a8021",
              "transform": "SUM"
             }
            ]
           },
           "dateTimeFormat": "DD/MM/YYYY HH:mm",
           "direction": {
            "type": "counterclockwise"
           },
           "error_y": {
            "type": "data",
            "visible": true
           },
           "globalSeriesType": "line",
           "isAggregationOn": true,
           "legend": {
            "traceorder": "normal"
           },
           "missingValuesAsZero": true,
           "numberFormat": "0,0.[00000]",
           "percentFormat": "0[.]00%",
           "series": {
            "error_y": {
             "type": "data",
             "visible": true
            },
            "stacking": null
           },
           "seriesOptions": {
            "column_a8bd4a8021": {
             "name": "sum_sales",
             "type": "line",
             "yAxis": 0
            },
            "column_a8bd4a8036": {
             "type": "line",
             "yAxis": 0
            }
           },
           "showDataLabels": false,
           "sizemode": "diameter",
           "sortX": false,
           "sortY": true,
           "swappedAxes": false,
           "textFormat": "",
           "useAggregationsUi": true,
           "valuesOptions": {},
           "version": 2,
           "xAxis": {
            "labels": {
             "enabled": true
            },
            "title": {
             "text": "Months"
            },
            "type": "-"
           },
           "yAxis": [
            {
             "type": "-"
            },
            {
             "opposite": true,
             "type": "-"
            }
           ]
          }
         }
        ]
       },
       "datasetPreviewNameToCmdIdMap": {},
       "diffDeletes": [],
       "diffInserts": [],
       "displayType": "redashChart",
       "error": null,
       "errorDetails": null,
       "errorSummary": null,
       "errorTraceType": null,
       "finishTime": 0,
       "globalVars": {},
       "guid": "",
       "height": "auto",
       "hideCommandCode": false,
       "hideCommandResult": false,
       "iPythonMetadata": null,
       "inputWidgets": {},
       "isLockedInExamMode": false,
       "latestUser": "a user",
       "latestUserId": null,
       "listResultMetadata": null,
       "metadata": {
        "byteLimit": 2048000,
        "implicitDf": true,
        "rowLimit": 10000
       },
       "nuid": "1157f9d6-2a82-4345-b161-4a478f0b0490",
       "origId": 0,
       "parentHierarchy": [],
       "pivotAggregation": null,
       "pivotColumns": null,
       "position": 10.0,
       "resultDbfsErrorMessage": null,
       "resultDbfsStatus": "INLINED_IN_TREE",
       "results": null,
       "showCommandTitle": false,
       "startTime": 0,
       "state": "finished",
       "streamStates": {},
       "subcommandOptions": {
        "queryPlan": {
         "groups": [
          {
           "column": "month_id",
           "type": "column"
          }
         ],
         "selects": [
          {
           "column": "month_id",
           "type": "column"
          },
          {
           "alias": "column_a8bd4a8021",
           "args": [
            {
             "column": "sum_sales",
             "type": "column"
            }
           ],
           "function": "SUM",
           "type": "function"
          }
         ]
        }
       },
       "submitTime": 0,
       "subtype": "tableResultSubCmd.visualization",
       "tableResultIndex": 0,
       "useConsistentColors": false,
       "version": "CommandV1",
       "width": "auto",
       "workflows": [],
       "xColumns": null,
       "yColumns": null
      }
     },
     "output_type": "display_data"
    }
   ],
   "source": [
    "%sql\n",
    "select month_id,\n",
    "case when qtr_id==1 then \"Winter\"\n",
    "\n",
    " when qtr_id==2 then \"Summer\"\n",
    " when qtr_id==3 then \"Spring\"\n",
    " when qtr_id==4 then \"Fall\" end as season, sum(sales) as sum_sales from productsales group by month_id,qtr_id order by month_id ASC"
   ]
  },
  {
   "cell_type": "code",
   "execution_count": 0,
   "metadata": {
    "application/vnd.databricks.v1+cell": {
     "cellMetadata": {
      "byteLimit": 2048000,
      "implicitDf": true,
      "rowLimit": 10000
     },
     "inputWidgets": {},
     "nuid": "fd3f870f-7e6b-41da-bec7-711ba412c889",
     "showTitle": false,
     "title": ""
    }
   },
   "outputs": [
    {
     "output_type": "display_data",
     "data": {
      "text/html": [
       "<style scoped>\n",
       "  .table-result-container {\n",
       "    max-height: 300px;\n",
       "    overflow: auto;\n",
       "  }\n",
       "  table, th, td {\n",
       "    border: 1px solid black;\n",
       "    border-collapse: collapse;\n",
       "  }\n",
       "  th, td {\n",
       "    padding: 5px;\n",
       "  }\n",
       "  th {\n",
       "    text-align: left;\n",
       "  }\n",
       "</style><div class='table-result-container'><table class='table-result'><thead style='background-color: white'><tr><th>Total_Sales</th></tr></thead><tbody><tr><td>1.003262885000001E7</td></tr></tbody></table></div>"
      ]
     },
     "metadata": {
      "application/vnd.databricks.v1+output": {
       "addedWidgets": {},
       "aggData": [],
       "aggError": "",
       "aggOverflow": false,
       "aggSchema": [],
       "aggSeriesLimitReached": false,
       "aggType": "",
       "arguments": {},
       "columnCustomDisplayInfos": {},
       "data": [
        [
         1.003262885000001E7
        ]
       ],
       "datasetInfos": [],
       "dbfsResultPath": null,
       "isJsonSchema": true,
       "metadata": {},
       "overflow": false,
       "plotOptions": {
        "customPlotOptions": {},
        "displayType": "table",
        "pivotAggregation": null,
        "pivotColumns": null,
        "xColumns": null,
        "yColumns": null
       },
       "removedWidgets": [],
       "schema": [
        {
         "metadata": "{}",
         "name": "Total_Sales",
         "type": "\"double\""
        }
       ],
       "type": "table"
      }
     },
     "output_type": "display_data"
    }
   ],
   "source": [
    "%sql\n",
    "select sum(sales) as Total_Sales from productsales\n"
   ]
  },
  {
   "cell_type": "code",
   "execution_count": 0,
   "metadata": {
    "application/vnd.databricks.v1+cell": {
     "cellMetadata": {
      "byteLimit": 2048000,
      "implicitDf": true,
      "rowLimit": 10000
     },
     "inputWidgets": {},
     "nuid": "e357254a-58f6-44b4-8c4c-19d58bbdecc8",
     "showTitle": false,
     "title": ""
    }
   },
   "outputs": [
    {
     "output_type": "display_data",
     "data": {
      "text/html": [
       "<style scoped>\n",
       "  .table-result-container {\n",
       "    max-height: 300px;\n",
       "    overflow: auto;\n",
       "  }\n",
       "  table, th, td {\n",
       "    border: 1px solid black;\n",
       "    border-collapse: collapse;\n",
       "  }\n",
       "  th, td {\n",
       "    padding: 5px;\n",
       "  }\n",
       "  th {\n",
       "    text-align: left;\n",
       "  }\n",
       "</style><div class='table-result-container'><table class='table-result'><thead style='background-color: white'><tr><th>Total_Customers</th></tr></thead><tbody><tr><td>2823</td></tr></tbody></table></div>"
      ]
     },
     "metadata": {
      "application/vnd.databricks.v1+output": {
       "addedWidgets": {},
       "aggData": [],
       "aggError": "",
       "aggOverflow": false,
       "aggSchema": [],
       "aggSeriesLimitReached": false,
       "aggType": "",
       "arguments": {},
       "columnCustomDisplayInfos": {},
       "data": [
        [
         2823
        ]
       ],
       "datasetInfos": [],
       "dbfsResultPath": null,
       "isJsonSchema": true,
       "metadata": {},
       "overflow": false,
       "plotOptions": {
        "customPlotOptions": {},
        "displayType": "table",
        "pivotAggregation": null,
        "pivotColumns": null,
        "xColumns": null,
        "yColumns": null
       },
       "removedWidgets": [],
       "schema": [
        {
         "metadata": "{}",
         "name": "Total_Customers",
         "type": "\"long\""
        }
       ],
       "type": "table"
      }
     },
     "output_type": "display_data"
    }
   ],
   "source": [
    "%sql\n",
    "select count(customername) as Total_Customers  from productsales"
   ]
  },
  {
   "cell_type": "code",
   "execution_count": 0,
   "metadata": {
    "application/vnd.databricks.v1+cell": {
     "cellMetadata": {
      "byteLimit": 2048000,
      "implicitDf": true,
      "rowLimit": 10000
     },
     "inputWidgets": {},
     "nuid": "a7f4b103-1ae0-48a2-a7d4-79bd4fd113d6",
     "showTitle": false,
     "title": ""
    }
   },
   "outputs": [
    {
     "output_type": "display_data",
     "data": {
      "text/plain": [
       "\u001B[0;31m---------------------------------------------------------------------------\u001B[0m\n",
       "\u001B[0;31mAnalysisException\u001B[0m                         Traceback (most recent call last)\n",
       "File \u001B[0;32m<command-2020487724883787>:7\u001B[0m\n",
       "\u001B[1;32m      5\u001B[0m     display(df)\n",
       "\u001B[1;32m      6\u001B[0m     \u001B[38;5;28;01mreturn\u001B[39;00m df\n",
       "\u001B[0;32m----> 7\u001B[0m   _sqldf \u001B[38;5;241m=\u001B[39m \u001B[43m____databricks_percent_sql\u001B[49m\u001B[43m(\u001B[49m\u001B[43m)\u001B[49m\n",
       "\u001B[1;32m      8\u001B[0m \u001B[38;5;28;01mfinally\u001B[39;00m:\n",
       "\u001B[1;32m      9\u001B[0m   \u001B[38;5;28;01mdel\u001B[39;00m ____databricks_percent_sql\n",
       "\n",
       "File \u001B[0;32m<command-2020487724883787>:4\u001B[0m, in \u001B[0;36m____databricks_percent_sql\u001B[0;34m()\u001B[0m\n",
       "\u001B[1;32m      2\u001B[0m \u001B[38;5;28;01mdef\u001B[39;00m \u001B[38;5;21m____databricks_percent_sql\u001B[39m():\n",
       "\u001B[1;32m      3\u001B[0m   \u001B[38;5;28;01mimport\u001B[39;00m \u001B[38;5;21;01mbase64\u001B[39;00m\n",
       "\u001B[0;32m----> 4\u001B[0m   df \u001B[38;5;241m=\u001B[39m \u001B[43mspark\u001B[49m\u001B[38;5;241;43m.\u001B[39;49m\u001B[43msql\u001B[49m\u001B[43m(\u001B[49m\u001B[43mbase64\u001B[49m\u001B[38;5;241;43m.\u001B[39;49m\u001B[43mstandard_b64decode\u001B[49m\u001B[43m(\u001B[49m\u001B[38;5;124;43m\"\u001B[39;49m\u001B[38;5;124;43mc2VsZWN0IHByaWNlYWNoLHF1YW50aXR5b3JkZXJlZCxtc3JwIGZyb20gcHJvZHVjdHNhbGVz\u001B[39;49m\u001B[38;5;124;43m\"\u001B[39;49m\u001B[43m)\u001B[49m\u001B[38;5;241;43m.\u001B[39;49m\u001B[43mdecode\u001B[49m\u001B[43m(\u001B[49m\u001B[43m)\u001B[49m\u001B[43m)\u001B[49m\n",
       "\u001B[1;32m      5\u001B[0m   display(df)\n",
       "\u001B[1;32m      6\u001B[0m   \u001B[38;5;28;01mreturn\u001B[39;00m df\n",
       "\n",
       "File \u001B[0;32m/databricks/spark/python/pyspark/instrumentation_utils.py:48\u001B[0m, in \u001B[0;36m_wrap_function.<locals>.wrapper\u001B[0;34m(*args, **kwargs)\u001B[0m\n",
       "\u001B[1;32m     46\u001B[0m start \u001B[38;5;241m=\u001B[39m time\u001B[38;5;241m.\u001B[39mperf_counter()\n",
       "\u001B[1;32m     47\u001B[0m \u001B[38;5;28;01mtry\u001B[39;00m:\n",
       "\u001B[0;32m---> 48\u001B[0m     res \u001B[38;5;241m=\u001B[39m \u001B[43mfunc\u001B[49m\u001B[43m(\u001B[49m\u001B[38;5;241;43m*\u001B[39;49m\u001B[43margs\u001B[49m\u001B[43m,\u001B[49m\u001B[43m \u001B[49m\u001B[38;5;241;43m*\u001B[39;49m\u001B[38;5;241;43m*\u001B[39;49m\u001B[43mkwargs\u001B[49m\u001B[43m)\u001B[49m\n",
       "\u001B[1;32m     49\u001B[0m     logger\u001B[38;5;241m.\u001B[39mlog_success(\n",
       "\u001B[1;32m     50\u001B[0m         module_name, class_name, function_name, time\u001B[38;5;241m.\u001B[39mperf_counter() \u001B[38;5;241m-\u001B[39m start, signature\n",
       "\u001B[1;32m     51\u001B[0m     )\n",
       "\u001B[1;32m     52\u001B[0m     \u001B[38;5;28;01mreturn\u001B[39;00m res\n",
       "\n",
       "File \u001B[0;32m/databricks/spark/python/pyspark/sql/session.py:1387\u001B[0m, in \u001B[0;36mSparkSession.sql\u001B[0;34m(self, sqlQuery, args, **kwargs)\u001B[0m\n",
       "\u001B[1;32m   1385\u001B[0m \u001B[38;5;28;01mtry\u001B[39;00m:\n",
       "\u001B[1;32m   1386\u001B[0m     litArgs \u001B[38;5;241m=\u001B[39m {k: _to_java_column(lit(v)) \u001B[38;5;28;01mfor\u001B[39;00m k, v \u001B[38;5;129;01min\u001B[39;00m (args \u001B[38;5;129;01mor\u001B[39;00m {})\u001B[38;5;241m.\u001B[39mitems()}\n",
       "\u001B[0;32m-> 1387\u001B[0m     \u001B[38;5;28;01mreturn\u001B[39;00m DataFrame(\u001B[38;5;28;43mself\u001B[39;49m\u001B[38;5;241;43m.\u001B[39;49m\u001B[43m_jsparkSession\u001B[49m\u001B[38;5;241;43m.\u001B[39;49m\u001B[43msql\u001B[49m\u001B[43m(\u001B[49m\u001B[43msqlQuery\u001B[49m\u001B[43m,\u001B[49m\u001B[43m \u001B[49m\u001B[43mlitArgs\u001B[49m\u001B[43m)\u001B[49m, \u001B[38;5;28mself\u001B[39m)\n",
       "\u001B[1;32m   1388\u001B[0m \u001B[38;5;28;01mfinally\u001B[39;00m:\n",
       "\u001B[1;32m   1389\u001B[0m     \u001B[38;5;28;01mif\u001B[39;00m \u001B[38;5;28mlen\u001B[39m(kwargs) \u001B[38;5;241m>\u001B[39m \u001B[38;5;241m0\u001B[39m:\n",
       "\n",
       "File \u001B[0;32m/databricks/spark/python/lib/py4j-0.10.9.5-src.zip/py4j/java_gateway.py:1321\u001B[0m, in \u001B[0;36mJavaMember.__call__\u001B[0;34m(self, *args)\u001B[0m\n",
       "\u001B[1;32m   1315\u001B[0m command \u001B[38;5;241m=\u001B[39m proto\u001B[38;5;241m.\u001B[39mCALL_COMMAND_NAME \u001B[38;5;241m+\u001B[39m\\\n",
       "\u001B[1;32m   1316\u001B[0m     \u001B[38;5;28mself\u001B[39m\u001B[38;5;241m.\u001B[39mcommand_header \u001B[38;5;241m+\u001B[39m\\\n",
       "\u001B[1;32m   1317\u001B[0m     args_command \u001B[38;5;241m+\u001B[39m\\\n",
       "\u001B[1;32m   1318\u001B[0m     proto\u001B[38;5;241m.\u001B[39mEND_COMMAND_PART\n",
       "\u001B[1;32m   1320\u001B[0m answer \u001B[38;5;241m=\u001B[39m \u001B[38;5;28mself\u001B[39m\u001B[38;5;241m.\u001B[39mgateway_client\u001B[38;5;241m.\u001B[39msend_command(command)\n",
       "\u001B[0;32m-> 1321\u001B[0m return_value \u001B[38;5;241m=\u001B[39m \u001B[43mget_return_value\u001B[49m\u001B[43m(\u001B[49m\n",
       "\u001B[1;32m   1322\u001B[0m \u001B[43m    \u001B[49m\u001B[43manswer\u001B[49m\u001B[43m,\u001B[49m\u001B[43m \u001B[49m\u001B[38;5;28;43mself\u001B[39;49m\u001B[38;5;241;43m.\u001B[39;49m\u001B[43mgateway_client\u001B[49m\u001B[43m,\u001B[49m\u001B[43m \u001B[49m\u001B[38;5;28;43mself\u001B[39;49m\u001B[38;5;241;43m.\u001B[39;49m\u001B[43mtarget_id\u001B[49m\u001B[43m,\u001B[49m\u001B[43m \u001B[49m\u001B[38;5;28;43mself\u001B[39;49m\u001B[38;5;241;43m.\u001B[39;49m\u001B[43mname\u001B[49m\u001B[43m)\u001B[49m\n",
       "\u001B[1;32m   1324\u001B[0m \u001B[38;5;28;01mfor\u001B[39;00m temp_arg \u001B[38;5;129;01min\u001B[39;00m temp_args:\n",
       "\u001B[1;32m   1325\u001B[0m     temp_arg\u001B[38;5;241m.\u001B[39m_detach()\n",
       "\n",
       "File \u001B[0;32m/databricks/spark/python/pyspark/errors/exceptions.py:234\u001B[0m, in \u001B[0;36mcapture_sql_exception.<locals>.deco\u001B[0;34m(*a, **kw)\u001B[0m\n",
       "\u001B[1;32m    230\u001B[0m converted \u001B[38;5;241m=\u001B[39m convert_exception(e\u001B[38;5;241m.\u001B[39mjava_exception)\n",
       "\u001B[1;32m    231\u001B[0m \u001B[38;5;28;01mif\u001B[39;00m \u001B[38;5;129;01mnot\u001B[39;00m \u001B[38;5;28misinstance\u001B[39m(converted, UnknownException):\n",
       "\u001B[1;32m    232\u001B[0m     \u001B[38;5;66;03m# Hide where the exception came from that shows a non-Pythonic\u001B[39;00m\n",
       "\u001B[1;32m    233\u001B[0m     \u001B[38;5;66;03m# JVM exception message.\u001B[39;00m\n",
       "\u001B[0;32m--> 234\u001B[0m     \u001B[38;5;28;01mraise\u001B[39;00m converted \u001B[38;5;28;01mfrom\u001B[39;00m \u001B[38;5;28mNone\u001B[39m\n",
       "\u001B[1;32m    235\u001B[0m \u001B[38;5;28;01melse\u001B[39;00m:\n",
       "\u001B[1;32m    236\u001B[0m     \u001B[38;5;28;01mraise\u001B[39;00m\n",
       "\n",
       "\u001B[0;31mAnalysisException\u001B[0m: [MISSING_AGGREGATION] The non-aggregating expression \"priceeach\" is based on columns which are not participating in the GROUP BY clause.\n",
       "Add the columns or the expression to the GROUP BY, aggregate the expression, or use \"any_value(priceeach)\" if you do not care which of the values within a group is returned.;\n",
       "Aggregate [msrp#4686], [priceeach#4677, quantityordered#4676, sales#4679, msrp#4686]\n",
       "+- SubqueryAlias productsales\n",
       "   +- View (`productsales`, [ORDERNUMBER#4675,QUANTITYORDERED#4676,PRICEEACH#4677,ORDERLINENUMBER#4678,SALES#4679,ORDERDATE#4680,STATUS#4681,QTR_ID#4682,MONTH_ID#4683,YEAR_ID#4684,PRODUCTLINE#4685,MSRP#4686,PRODUCTCODE#4687,CUSTOMERNAME#4688,PHONE#4689,ADDRESSLINE1#4690,ADDRESSLINE2#4691,CITY#4692,STATE#4693,POSTALCODE#4694,COUNTRY#4695,TERRITORY#4696,CONTACTLASTNAME#4697,CONTACTFIRSTNAME#4698,DEALSIZE#4699])\n",
       "      +- Relation [ORDERNUMBER#4675,QUANTITYORDERED#4676,PRICEEACH#4677,ORDERLINENUMBER#4678,SALES#4679,ORDERDATE#4680,STATUS#4681,QTR_ID#4682,MONTH_ID#4683,YEAR_ID#4684,PRODUCTLINE#4685,MSRP#4686,PRODUCTCODE#4687,CUSTOMERNAME#4688,PHONE#4689,ADDRESSLINE1#4690,ADDRESSLINE2#4691,CITY#4692,STATE#4693,POSTALCODE#4694,COUNTRY#4695,TERRITORY#4696,CONTACTLASTNAME#4697,CONTACTFIRSTNAME#4698,DEALSIZE#4699] csv\n"
      ]
     },
     "metadata": {
      "application/vnd.databricks.v1+output": {
       "arguments": {},
       "data": "\u001B[0;31m---------------------------------------------------------------------------\u001B[0m\n\u001B[0;31mAnalysisException\u001B[0m                         Traceback (most recent call last)\nFile \u001B[0;32m<command-2020487724883787>:7\u001B[0m\n\u001B[1;32m      5\u001B[0m     display(df)\n\u001B[1;32m      6\u001B[0m     \u001B[38;5;28;01mreturn\u001B[39;00m df\n\u001B[0;32m----> 7\u001B[0m   _sqldf \u001B[38;5;241m=\u001B[39m \u001B[43m____databricks_percent_sql\u001B[49m\u001B[43m(\u001B[49m\u001B[43m)\u001B[49m\n\u001B[1;32m      8\u001B[0m \u001B[38;5;28;01mfinally\u001B[39;00m:\n\u001B[1;32m      9\u001B[0m   \u001B[38;5;28;01mdel\u001B[39;00m ____databricks_percent_sql\n\nFile \u001B[0;32m<command-2020487724883787>:4\u001B[0m, in \u001B[0;36m____databricks_percent_sql\u001B[0;34m()\u001B[0m\n\u001B[1;32m      2\u001B[0m \u001B[38;5;28;01mdef\u001B[39;00m \u001B[38;5;21m____databricks_percent_sql\u001B[39m():\n\u001B[1;32m      3\u001B[0m   \u001B[38;5;28;01mimport\u001B[39;00m \u001B[38;5;21;01mbase64\u001B[39;00m\n\u001B[0;32m----> 4\u001B[0m   df \u001B[38;5;241m=\u001B[39m \u001B[43mspark\u001B[49m\u001B[38;5;241;43m.\u001B[39;49m\u001B[43msql\u001B[49m\u001B[43m(\u001B[49m\u001B[43mbase64\u001B[49m\u001B[38;5;241;43m.\u001B[39;49m\u001B[43mstandard_b64decode\u001B[49m\u001B[43m(\u001B[49m\u001B[38;5;124;43m\"\u001B[39;49m\u001B[38;5;124;43mc2VsZWN0IHByaWNlYWNoLHF1YW50aXR5b3JkZXJlZCxtc3JwIGZyb20gcHJvZHVjdHNhbGVz\u001B[39;49m\u001B[38;5;124;43m\"\u001B[39;49m\u001B[43m)\u001B[49m\u001B[38;5;241;43m.\u001B[39;49m\u001B[43mdecode\u001B[49m\u001B[43m(\u001B[49m\u001B[43m)\u001B[49m\u001B[43m)\u001B[49m\n\u001B[1;32m      5\u001B[0m   display(df)\n\u001B[1;32m      6\u001B[0m   \u001B[38;5;28;01mreturn\u001B[39;00m df\n\nFile \u001B[0;32m/databricks/spark/python/pyspark/instrumentation_utils.py:48\u001B[0m, in \u001B[0;36m_wrap_function.<locals>.wrapper\u001B[0;34m(*args, **kwargs)\u001B[0m\n\u001B[1;32m     46\u001B[0m start \u001B[38;5;241m=\u001B[39m time\u001B[38;5;241m.\u001B[39mperf_counter()\n\u001B[1;32m     47\u001B[0m \u001B[38;5;28;01mtry\u001B[39;00m:\n\u001B[0;32m---> 48\u001B[0m     res \u001B[38;5;241m=\u001B[39m \u001B[43mfunc\u001B[49m\u001B[43m(\u001B[49m\u001B[38;5;241;43m*\u001B[39;49m\u001B[43margs\u001B[49m\u001B[43m,\u001B[49m\u001B[43m \u001B[49m\u001B[38;5;241;43m*\u001B[39;49m\u001B[38;5;241;43m*\u001B[39;49m\u001B[43mkwargs\u001B[49m\u001B[43m)\u001B[49m\n\u001B[1;32m     49\u001B[0m     logger\u001B[38;5;241m.\u001B[39mlog_success(\n\u001B[1;32m     50\u001B[0m         module_name, class_name, function_name, time\u001B[38;5;241m.\u001B[39mperf_counter() \u001B[38;5;241m-\u001B[39m start, signature\n\u001B[1;32m     51\u001B[0m     )\n\u001B[1;32m     52\u001B[0m     \u001B[38;5;28;01mreturn\u001B[39;00m res\n\nFile \u001B[0;32m/databricks/spark/python/pyspark/sql/session.py:1387\u001B[0m, in \u001B[0;36mSparkSession.sql\u001B[0;34m(self, sqlQuery, args, **kwargs)\u001B[0m\n\u001B[1;32m   1385\u001B[0m \u001B[38;5;28;01mtry\u001B[39;00m:\n\u001B[1;32m   1386\u001B[0m     litArgs \u001B[38;5;241m=\u001B[39m {k: _to_java_column(lit(v)) \u001B[38;5;28;01mfor\u001B[39;00m k, v \u001B[38;5;129;01min\u001B[39;00m (args \u001B[38;5;129;01mor\u001B[39;00m {})\u001B[38;5;241m.\u001B[39mitems()}\n\u001B[0;32m-> 1387\u001B[0m     \u001B[38;5;28;01mreturn\u001B[39;00m DataFrame(\u001B[38;5;28;43mself\u001B[39;49m\u001B[38;5;241;43m.\u001B[39;49m\u001B[43m_jsparkSession\u001B[49m\u001B[38;5;241;43m.\u001B[39;49m\u001B[43msql\u001B[49m\u001B[43m(\u001B[49m\u001B[43msqlQuery\u001B[49m\u001B[43m,\u001B[49m\u001B[43m \u001B[49m\u001B[43mlitArgs\u001B[49m\u001B[43m)\u001B[49m, \u001B[38;5;28mself\u001B[39m)\n\u001B[1;32m   1388\u001B[0m \u001B[38;5;28;01mfinally\u001B[39;00m:\n\u001B[1;32m   1389\u001B[0m     \u001B[38;5;28;01mif\u001B[39;00m \u001B[38;5;28mlen\u001B[39m(kwargs) \u001B[38;5;241m>\u001B[39m \u001B[38;5;241m0\u001B[39m:\n\nFile \u001B[0;32m/databricks/spark/python/lib/py4j-0.10.9.5-src.zip/py4j/java_gateway.py:1321\u001B[0m, in \u001B[0;36mJavaMember.__call__\u001B[0;34m(self, *args)\u001B[0m\n\u001B[1;32m   1315\u001B[0m command \u001B[38;5;241m=\u001B[39m proto\u001B[38;5;241m.\u001B[39mCALL_COMMAND_NAME \u001B[38;5;241m+\u001B[39m\\\n\u001B[1;32m   1316\u001B[0m     \u001B[38;5;28mself\u001B[39m\u001B[38;5;241m.\u001B[39mcommand_header \u001B[38;5;241m+\u001B[39m\\\n\u001B[1;32m   1317\u001B[0m     args_command \u001B[38;5;241m+\u001B[39m\\\n\u001B[1;32m   1318\u001B[0m     proto\u001B[38;5;241m.\u001B[39mEND_COMMAND_PART\n\u001B[1;32m   1320\u001B[0m answer \u001B[38;5;241m=\u001B[39m \u001B[38;5;28mself\u001B[39m\u001B[38;5;241m.\u001B[39mgateway_client\u001B[38;5;241m.\u001B[39msend_command(command)\n\u001B[0;32m-> 1321\u001B[0m return_value \u001B[38;5;241m=\u001B[39m \u001B[43mget_return_value\u001B[49m\u001B[43m(\u001B[49m\n\u001B[1;32m   1322\u001B[0m \u001B[43m    \u001B[49m\u001B[43manswer\u001B[49m\u001B[43m,\u001B[49m\u001B[43m \u001B[49m\u001B[38;5;28;43mself\u001B[39;49m\u001B[38;5;241;43m.\u001B[39;49m\u001B[43mgateway_client\u001B[49m\u001B[43m,\u001B[49m\u001B[43m \u001B[49m\u001B[38;5;28;43mself\u001B[39;49m\u001B[38;5;241;43m.\u001B[39;49m\u001B[43mtarget_id\u001B[49m\u001B[43m,\u001B[49m\u001B[43m \u001B[49m\u001B[38;5;28;43mself\u001B[39;49m\u001B[38;5;241;43m.\u001B[39;49m\u001B[43mname\u001B[49m\u001B[43m)\u001B[49m\n\u001B[1;32m   1324\u001B[0m \u001B[38;5;28;01mfor\u001B[39;00m temp_arg \u001B[38;5;129;01min\u001B[39;00m temp_args:\n\u001B[1;32m   1325\u001B[0m     temp_arg\u001B[38;5;241m.\u001B[39m_detach()\n\nFile \u001B[0;32m/databricks/spark/python/pyspark/errors/exceptions.py:234\u001B[0m, in \u001B[0;36mcapture_sql_exception.<locals>.deco\u001B[0;34m(*a, **kw)\u001B[0m\n\u001B[1;32m    230\u001B[0m converted \u001B[38;5;241m=\u001B[39m convert_exception(e\u001B[38;5;241m.\u001B[39mjava_exception)\n\u001B[1;32m    231\u001B[0m \u001B[38;5;28;01mif\u001B[39;00m \u001B[38;5;129;01mnot\u001B[39;00m \u001B[38;5;28misinstance\u001B[39m(converted, UnknownException):\n\u001B[1;32m    232\u001B[0m     \u001B[38;5;66;03m# Hide where the exception came from that shows a non-Pythonic\u001B[39;00m\n\u001B[1;32m    233\u001B[0m     \u001B[38;5;66;03m# JVM exception message.\u001B[39;00m\n\u001B[0;32m--> 234\u001B[0m     \u001B[38;5;28;01mraise\u001B[39;00m converted \u001B[38;5;28;01mfrom\u001B[39;00m \u001B[38;5;28mNone\u001B[39m\n\u001B[1;32m    235\u001B[0m \u001B[38;5;28;01melse\u001B[39;00m:\n\u001B[1;32m    236\u001B[0m     \u001B[38;5;28;01mraise\u001B[39;00m\n\n\u001B[0;31mAnalysisException\u001B[0m: [MISSING_AGGREGATION] The non-aggregating expression \"priceeach\" is based on columns which are not participating in the GROUP BY clause.\nAdd the columns or the expression to the GROUP BY, aggregate the expression, or use \"any_value(priceeach)\" if you do not care which of the values within a group is returned.;\nAggregate [msrp#4686], [priceeach#4677, quantityordered#4676, sales#4679, msrp#4686]\n+- SubqueryAlias productsales\n   +- View (`productsales`, [ORDERNUMBER#4675,QUANTITYORDERED#4676,PRICEEACH#4677,ORDERLINENUMBER#4678,SALES#4679,ORDERDATE#4680,STATUS#4681,QTR_ID#4682,MONTH_ID#4683,YEAR_ID#4684,PRODUCTLINE#4685,MSRP#4686,PRODUCTCODE#4687,CUSTOMERNAME#4688,PHONE#4689,ADDRESSLINE1#4690,ADDRESSLINE2#4691,CITY#4692,STATE#4693,POSTALCODE#4694,COUNTRY#4695,TERRITORY#4696,CONTACTLASTNAME#4697,CONTACTFIRSTNAME#4698,DEALSIZE#4699])\n      +- Relation [ORDERNUMBER#4675,QUANTITYORDERED#4676,PRICEEACH#4677,ORDERLINENUMBER#4678,SALES#4679,ORDERDATE#4680,STATUS#4681,QTR_ID#4682,MONTH_ID#4683,YEAR_ID#4684,PRODUCTLINE#4685,MSRP#4686,PRODUCTCODE#4687,CUSTOMERNAME#4688,PHONE#4689,ADDRESSLINE1#4690,ADDRESSLINE2#4691,CITY#4692,STATE#4693,POSTALCODE#4694,COUNTRY#4695,TERRITORY#4696,CONTACTLASTNAME#4697,CONTACTFIRSTNAME#4698,DEALSIZE#4699] csv\n",
       "errorSummary": "<span class='ansi-red-fg'>AnalysisException</span>: [MISSING_AGGREGATION] The non-aggregating expression \"priceeach\" is based on columns which are not participating in the GROUP BY clause.\nAdd the columns or the expression to the GROUP BY, aggregate the expression, or use \"any_value(priceeach)\" if you do not care which of the values within a group is returned.;\nAggregate [msrp#4686], [priceeach#4677, quantityordered#4676, sales#4679, msrp#4686]\n+- SubqueryAlias productsales\n   +- View (`productsales`, [ORDERNUMBER#4675,QUANTITYORDERED#4676,PRICEEACH#4677,ORDERLINENUMBER#4678,SALES#4679,ORDERDATE#4680,STATUS#4681,QTR_ID#4682,MONTH_ID#4683,YEAR_ID#4684,PRODUCTLINE#4685,MSRP#4686,PRODUCTCODE#4687,CUSTOMERNAME#4688,PHONE#4689,ADDRESSLINE1#4690,ADDRESSLINE2#4691,CITY#4692,STATE#4693,POSTALCODE#4694,COUNTRY#4695,TERRITORY#4696,CONTACTLASTNAME#4697,CONTACTFIRSTNAME#4698,DEALSIZE#4699])\n      +- Relation [ORDERNUMBER#4675,QUANTITYORDERED#4676,PRICEEACH#4677,ORDERLINENUMBER#4678,SALES#4679,ORDERDATE#4680,STATUS#4681,QTR_ID#4682,MONTH_ID#4683,YEAR_ID#4684,PRODUCTLINE#4685,MSRP#4686,PRODUCTCODE#4687,CUSTOMERNAME#4688,PHONE#4689,ADDRESSLINE1#4690,ADDRESSLINE2#4691,CITY#4692,STATE#4693,POSTALCODE#4694,COUNTRY#4695,TERRITORY#4696,CONTACTLASTNAME#4697,CONTACTFIRSTNAME#4698,DEALSIZE#4699] csv\n",
       "errorTraceType": "ansi",
       "metadata": {},
       "type": "ipynbError"
      }
     },
     "output_type": "display_data"
    }
   ],
   "source": [
    "%sql\n",
    "select priceeach,quantityordered,sales,msrp from productsales group by msrp"
   ]
  },
  {
   "cell_type": "code",
   "execution_count": 0,
   "metadata": {
    "application/vnd.databricks.v1+cell": {
     "cellMetadata": {
      "byteLimit": 2048000,
      "implicitDf": true,
      "rowLimit": 10000
     },
     "inputWidgets": {},
     "nuid": "f65f5803-cfce-4346-bd19-70d0920935f2",
     "showTitle": false,
     "title": ""
    }
   },
   "outputs": [
    {
     "output_type": "display_data",
     "data": {
      "text/plain": [
       "\u001B[0;31m---------------------------------------------------------------------------\u001B[0m\n",
       "\u001B[0;31mAnalysisException\u001B[0m                         Traceback (most recent call last)\n",
       "File \u001B[0;32m<command-2020487724883788>:7\u001B[0m\n",
       "\u001B[1;32m      5\u001B[0m     display(df)\n",
       "\u001B[1;32m      6\u001B[0m     \u001B[38;5;28;01mreturn\u001B[39;00m df\n",
       "\u001B[0;32m----> 7\u001B[0m   _sqldf \u001B[38;5;241m=\u001B[39m \u001B[43m____databricks_percent_sql\u001B[49m\u001B[43m(\u001B[49m\u001B[43m)\u001B[49m\n",
       "\u001B[1;32m      8\u001B[0m \u001B[38;5;28;01mfinally\u001B[39;00m:\n",
       "\u001B[1;32m      9\u001B[0m   \u001B[38;5;28;01mdel\u001B[39;00m ____databricks_percent_sql\n",
       "\n",
       "File \u001B[0;32m<command-2020487724883788>:4\u001B[0m, in \u001B[0;36m____databricks_percent_sql\u001B[0;34m()\u001B[0m\n",
       "\u001B[1;32m      2\u001B[0m \u001B[38;5;28;01mdef\u001B[39;00m \u001B[38;5;21m____databricks_percent_sql\u001B[39m():\n",
       "\u001B[1;32m      3\u001B[0m   \u001B[38;5;28;01mimport\u001B[39;00m \u001B[38;5;21;01mbase64\u001B[39;00m\n",
       "\u001B[0;32m----> 4\u001B[0m   df \u001B[38;5;241m=\u001B[39m \u001B[43mspark\u001B[49m\u001B[38;5;241;43m.\u001B[39;49m\u001B[43msql\u001B[49m\u001B[43m(\u001B[49m\u001B[43mbase64\u001B[49m\u001B[38;5;241;43m.\u001B[39;49m\u001B[43mstandard_b64decode\u001B[49m\u001B[43m(\u001B[49m\u001B[38;5;124;43m\"\u001B[39;49m\u001B[38;5;124;43mU0VMRUNUIHByaWNlZWFjaCwgcXVhbnRpdHlvcmRlcmVkLCBzYWxlcywgbXNycApGUk9NIHByb2R1Y3RzYWxlcwpHUk9VUCBCWSBtc3JwLCBwcmljZWVhY2gsIHF1YW50aXR5b3JkZXJl\u001B[39;49m\u001B[38;5;124;43m\"\u001B[39;49m\u001B[43m)\u001B[49m\u001B[38;5;241;43m.\u001B[39;49m\u001B[43mdecode\u001B[49m\u001B[43m(\u001B[49m\u001B[43m)\u001B[49m\u001B[43m)\u001B[49m\n",
       "\u001B[1;32m      5\u001B[0m   display(df)\n",
       "\u001B[1;32m      6\u001B[0m   \u001B[38;5;28;01mreturn\u001B[39;00m df\n",
       "\n",
       "File \u001B[0;32m/databricks/spark/python/pyspark/instrumentation_utils.py:48\u001B[0m, in \u001B[0;36m_wrap_function.<locals>.wrapper\u001B[0;34m(*args, **kwargs)\u001B[0m\n",
       "\u001B[1;32m     46\u001B[0m start \u001B[38;5;241m=\u001B[39m time\u001B[38;5;241m.\u001B[39mperf_counter()\n",
       "\u001B[1;32m     47\u001B[0m \u001B[38;5;28;01mtry\u001B[39;00m:\n",
       "\u001B[0;32m---> 48\u001B[0m     res \u001B[38;5;241m=\u001B[39m \u001B[43mfunc\u001B[49m\u001B[43m(\u001B[49m\u001B[38;5;241;43m*\u001B[39;49m\u001B[43margs\u001B[49m\u001B[43m,\u001B[49m\u001B[43m \u001B[49m\u001B[38;5;241;43m*\u001B[39;49m\u001B[38;5;241;43m*\u001B[39;49m\u001B[43mkwargs\u001B[49m\u001B[43m)\u001B[49m\n",
       "\u001B[1;32m     49\u001B[0m     logger\u001B[38;5;241m.\u001B[39mlog_success(\n",
       "\u001B[1;32m     50\u001B[0m         module_name, class_name, function_name, time\u001B[38;5;241m.\u001B[39mperf_counter() \u001B[38;5;241m-\u001B[39m start, signature\n",
       "\u001B[1;32m     51\u001B[0m     )\n",
       "\u001B[1;32m     52\u001B[0m     \u001B[38;5;28;01mreturn\u001B[39;00m res\n",
       "\n",
       "File \u001B[0;32m/databricks/spark/python/pyspark/sql/session.py:1387\u001B[0m, in \u001B[0;36mSparkSession.sql\u001B[0;34m(self, sqlQuery, args, **kwargs)\u001B[0m\n",
       "\u001B[1;32m   1385\u001B[0m \u001B[38;5;28;01mtry\u001B[39;00m:\n",
       "\u001B[1;32m   1386\u001B[0m     litArgs \u001B[38;5;241m=\u001B[39m {k: _to_java_column(lit(v)) \u001B[38;5;28;01mfor\u001B[39;00m k, v \u001B[38;5;129;01min\u001B[39;00m (args \u001B[38;5;129;01mor\u001B[39;00m {})\u001B[38;5;241m.\u001B[39mitems()}\n",
       "\u001B[0;32m-> 1387\u001B[0m     \u001B[38;5;28;01mreturn\u001B[39;00m DataFrame(\u001B[38;5;28;43mself\u001B[39;49m\u001B[38;5;241;43m.\u001B[39;49m\u001B[43m_jsparkSession\u001B[49m\u001B[38;5;241;43m.\u001B[39;49m\u001B[43msql\u001B[49m\u001B[43m(\u001B[49m\u001B[43msqlQuery\u001B[49m\u001B[43m,\u001B[49m\u001B[43m \u001B[49m\u001B[43mlitArgs\u001B[49m\u001B[43m)\u001B[49m, \u001B[38;5;28mself\u001B[39m)\n",
       "\u001B[1;32m   1388\u001B[0m \u001B[38;5;28;01mfinally\u001B[39;00m:\n",
       "\u001B[1;32m   1389\u001B[0m     \u001B[38;5;28;01mif\u001B[39;00m \u001B[38;5;28mlen\u001B[39m(kwargs) \u001B[38;5;241m>\u001B[39m \u001B[38;5;241m0\u001B[39m:\n",
       "\n",
       "File \u001B[0;32m/databricks/spark/python/lib/py4j-0.10.9.5-src.zip/py4j/java_gateway.py:1321\u001B[0m, in \u001B[0;36mJavaMember.__call__\u001B[0;34m(self, *args)\u001B[0m\n",
       "\u001B[1;32m   1315\u001B[0m command \u001B[38;5;241m=\u001B[39m proto\u001B[38;5;241m.\u001B[39mCALL_COMMAND_NAME \u001B[38;5;241m+\u001B[39m\\\n",
       "\u001B[1;32m   1316\u001B[0m     \u001B[38;5;28mself\u001B[39m\u001B[38;5;241m.\u001B[39mcommand_header \u001B[38;5;241m+\u001B[39m\\\n",
       "\u001B[1;32m   1317\u001B[0m     args_command \u001B[38;5;241m+\u001B[39m\\\n",
       "\u001B[1;32m   1318\u001B[0m     proto\u001B[38;5;241m.\u001B[39mEND_COMMAND_PART\n",
       "\u001B[1;32m   1320\u001B[0m answer \u001B[38;5;241m=\u001B[39m \u001B[38;5;28mself\u001B[39m\u001B[38;5;241m.\u001B[39mgateway_client\u001B[38;5;241m.\u001B[39msend_command(command)\n",
       "\u001B[0;32m-> 1321\u001B[0m return_value \u001B[38;5;241m=\u001B[39m \u001B[43mget_return_value\u001B[49m\u001B[43m(\u001B[49m\n",
       "\u001B[1;32m   1322\u001B[0m \u001B[43m    \u001B[49m\u001B[43manswer\u001B[49m\u001B[43m,\u001B[49m\u001B[43m \u001B[49m\u001B[38;5;28;43mself\u001B[39;49m\u001B[38;5;241;43m.\u001B[39;49m\u001B[43mgateway_client\u001B[49m\u001B[43m,\u001B[49m\u001B[43m \u001B[49m\u001B[38;5;28;43mself\u001B[39;49m\u001B[38;5;241;43m.\u001B[39;49m\u001B[43mtarget_id\u001B[49m\u001B[43m,\u001B[49m\u001B[43m \u001B[49m\u001B[38;5;28;43mself\u001B[39;49m\u001B[38;5;241;43m.\u001B[39;49m\u001B[43mname\u001B[49m\u001B[43m)\u001B[49m\n",
       "\u001B[1;32m   1324\u001B[0m \u001B[38;5;28;01mfor\u001B[39;00m temp_arg \u001B[38;5;129;01min\u001B[39;00m temp_args:\n",
       "\u001B[1;32m   1325\u001B[0m     temp_arg\u001B[38;5;241m.\u001B[39m_detach()\n",
       "\n",
       "File \u001B[0;32m/databricks/spark/python/pyspark/errors/exceptions.py:234\u001B[0m, in \u001B[0;36mcapture_sql_exception.<locals>.deco\u001B[0;34m(*a, **kw)\u001B[0m\n",
       "\u001B[1;32m    230\u001B[0m converted \u001B[38;5;241m=\u001B[39m convert_exception(e\u001B[38;5;241m.\u001B[39mjava_exception)\n",
       "\u001B[1;32m    231\u001B[0m \u001B[38;5;28;01mif\u001B[39;00m \u001B[38;5;129;01mnot\u001B[39;00m \u001B[38;5;28misinstance\u001B[39m(converted, UnknownException):\n",
       "\u001B[1;32m    232\u001B[0m     \u001B[38;5;66;03m# Hide where the exception came from that shows a non-Pythonic\u001B[39;00m\n",
       "\u001B[1;32m    233\u001B[0m     \u001B[38;5;66;03m# JVM exception message.\u001B[39;00m\n",
       "\u001B[0;32m--> 234\u001B[0m     \u001B[38;5;28;01mraise\u001B[39;00m converted \u001B[38;5;28;01mfrom\u001B[39;00m \u001B[38;5;28mNone\u001B[39m\n",
       "\u001B[1;32m    235\u001B[0m \u001B[38;5;28;01melse\u001B[39;00m:\n",
       "\u001B[1;32m    236\u001B[0m     \u001B[38;5;28;01mraise\u001B[39;00m\n",
       "\n",
       "\u001B[0;31mAnalysisException\u001B[0m: [MISSING_AGGREGATION] The non-aggregating expression \"sales\" is based on columns which are not participating in the GROUP BY clause.\n",
       "Add the columns or the expression to the GROUP BY, aggregate the expression, or use \"any_value(sales)\" if you do not care which of the values within a group is returned.;\n",
       "Aggregate [msrp#4686, priceeach#4677, quantityordered#4676], [priceeach#4677, quantityordered#4676, sales#4679, msrp#4686]\n",
       "+- SubqueryAlias productsales\n",
       "   +- View (`productsales`, [ORDERNUMBER#4675,QUANTITYORDERED#4676,PRICEEACH#4677,ORDERLINENUMBER#4678,SALES#4679,ORDERDATE#4680,STATUS#4681,QTR_ID#4682,MONTH_ID#4683,YEAR_ID#4684,PRODUCTLINE#4685,MSRP#4686,PRODUCTCODE#4687,CUSTOMERNAME#4688,PHONE#4689,ADDRESSLINE1#4690,ADDRESSLINE2#4691,CITY#4692,STATE#4693,POSTALCODE#4694,COUNTRY#4695,TERRITORY#4696,CONTACTLASTNAME#4697,CONTACTFIRSTNAME#4698,DEALSIZE#4699])\n",
       "      +- Relation [ORDERNUMBER#4675,QUANTITYORDERED#4676,PRICEEACH#4677,ORDERLINENUMBER#4678,SALES#4679,ORDERDATE#4680,STATUS#4681,QTR_ID#4682,MONTH_ID#4683,YEAR_ID#4684,PRODUCTLINE#4685,MSRP#4686,PRODUCTCODE#4687,CUSTOMERNAME#4688,PHONE#4689,ADDRESSLINE1#4690,ADDRESSLINE2#4691,CITY#4692,STATE#4693,POSTALCODE#4694,COUNTRY#4695,TERRITORY#4696,CONTACTLASTNAME#4697,CONTACTFIRSTNAME#4698,DEALSIZE#4699] csv\n"
      ]
     },
     "metadata": {
      "application/vnd.databricks.v1+output": {
       "arguments": {},
       "data": "\u001B[0;31m---------------------------------------------------------------------------\u001B[0m\n\u001B[0;31mAnalysisException\u001B[0m                         Traceback (most recent call last)\nFile \u001B[0;32m<command-2020487724883788>:7\u001B[0m\n\u001B[1;32m      5\u001B[0m     display(df)\n\u001B[1;32m      6\u001B[0m     \u001B[38;5;28;01mreturn\u001B[39;00m df\n\u001B[0;32m----> 7\u001B[0m   _sqldf \u001B[38;5;241m=\u001B[39m \u001B[43m____databricks_percent_sql\u001B[49m\u001B[43m(\u001B[49m\u001B[43m)\u001B[49m\n\u001B[1;32m      8\u001B[0m \u001B[38;5;28;01mfinally\u001B[39;00m:\n\u001B[1;32m      9\u001B[0m   \u001B[38;5;28;01mdel\u001B[39;00m ____databricks_percent_sql\n\nFile \u001B[0;32m<command-2020487724883788>:4\u001B[0m, in \u001B[0;36m____databricks_percent_sql\u001B[0;34m()\u001B[0m\n\u001B[1;32m      2\u001B[0m \u001B[38;5;28;01mdef\u001B[39;00m \u001B[38;5;21m____databricks_percent_sql\u001B[39m():\n\u001B[1;32m      3\u001B[0m   \u001B[38;5;28;01mimport\u001B[39;00m \u001B[38;5;21;01mbase64\u001B[39;00m\n\u001B[0;32m----> 4\u001B[0m   df \u001B[38;5;241m=\u001B[39m \u001B[43mspark\u001B[49m\u001B[38;5;241;43m.\u001B[39;49m\u001B[43msql\u001B[49m\u001B[43m(\u001B[49m\u001B[43mbase64\u001B[49m\u001B[38;5;241;43m.\u001B[39;49m\u001B[43mstandard_b64decode\u001B[49m\u001B[43m(\u001B[49m\u001B[38;5;124;43m\"\u001B[39;49m\u001B[38;5;124;43mU0VMRUNUIHByaWNlZWFjaCwgcXVhbnRpdHlvcmRlcmVkLCBzYWxlcywgbXNycApGUk9NIHByb2R1Y3RzYWxlcwpHUk9VUCBCWSBtc3JwLCBwcmljZWVhY2gsIHF1YW50aXR5b3JkZXJl\u001B[39;49m\u001B[38;5;124;43m\"\u001B[39;49m\u001B[43m)\u001B[49m\u001B[38;5;241;43m.\u001B[39;49m\u001B[43mdecode\u001B[49m\u001B[43m(\u001B[49m\u001B[43m)\u001B[49m\u001B[43m)\u001B[49m\n\u001B[1;32m      5\u001B[0m   display(df)\n\u001B[1;32m      6\u001B[0m   \u001B[38;5;28;01mreturn\u001B[39;00m df\n\nFile \u001B[0;32m/databricks/spark/python/pyspark/instrumentation_utils.py:48\u001B[0m, in \u001B[0;36m_wrap_function.<locals>.wrapper\u001B[0;34m(*args, **kwargs)\u001B[0m\n\u001B[1;32m     46\u001B[0m start \u001B[38;5;241m=\u001B[39m time\u001B[38;5;241m.\u001B[39mperf_counter()\n\u001B[1;32m     47\u001B[0m \u001B[38;5;28;01mtry\u001B[39;00m:\n\u001B[0;32m---> 48\u001B[0m     res \u001B[38;5;241m=\u001B[39m \u001B[43mfunc\u001B[49m\u001B[43m(\u001B[49m\u001B[38;5;241;43m*\u001B[39;49m\u001B[43margs\u001B[49m\u001B[43m,\u001B[49m\u001B[43m \u001B[49m\u001B[38;5;241;43m*\u001B[39;49m\u001B[38;5;241;43m*\u001B[39;49m\u001B[43mkwargs\u001B[49m\u001B[43m)\u001B[49m\n\u001B[1;32m     49\u001B[0m     logger\u001B[38;5;241m.\u001B[39mlog_success(\n\u001B[1;32m     50\u001B[0m         module_name, class_name, function_name, time\u001B[38;5;241m.\u001B[39mperf_counter() \u001B[38;5;241m-\u001B[39m start, signature\n\u001B[1;32m     51\u001B[0m     )\n\u001B[1;32m     52\u001B[0m     \u001B[38;5;28;01mreturn\u001B[39;00m res\n\nFile \u001B[0;32m/databricks/spark/python/pyspark/sql/session.py:1387\u001B[0m, in \u001B[0;36mSparkSession.sql\u001B[0;34m(self, sqlQuery, args, **kwargs)\u001B[0m\n\u001B[1;32m   1385\u001B[0m \u001B[38;5;28;01mtry\u001B[39;00m:\n\u001B[1;32m   1386\u001B[0m     litArgs \u001B[38;5;241m=\u001B[39m {k: _to_java_column(lit(v)) \u001B[38;5;28;01mfor\u001B[39;00m k, v \u001B[38;5;129;01min\u001B[39;00m (args \u001B[38;5;129;01mor\u001B[39;00m {})\u001B[38;5;241m.\u001B[39mitems()}\n\u001B[0;32m-> 1387\u001B[0m     \u001B[38;5;28;01mreturn\u001B[39;00m DataFrame(\u001B[38;5;28;43mself\u001B[39;49m\u001B[38;5;241;43m.\u001B[39;49m\u001B[43m_jsparkSession\u001B[49m\u001B[38;5;241;43m.\u001B[39;49m\u001B[43msql\u001B[49m\u001B[43m(\u001B[49m\u001B[43msqlQuery\u001B[49m\u001B[43m,\u001B[49m\u001B[43m \u001B[49m\u001B[43mlitArgs\u001B[49m\u001B[43m)\u001B[49m, \u001B[38;5;28mself\u001B[39m)\n\u001B[1;32m   1388\u001B[0m \u001B[38;5;28;01mfinally\u001B[39;00m:\n\u001B[1;32m   1389\u001B[0m     \u001B[38;5;28;01mif\u001B[39;00m \u001B[38;5;28mlen\u001B[39m(kwargs) \u001B[38;5;241m>\u001B[39m \u001B[38;5;241m0\u001B[39m:\n\nFile \u001B[0;32m/databricks/spark/python/lib/py4j-0.10.9.5-src.zip/py4j/java_gateway.py:1321\u001B[0m, in \u001B[0;36mJavaMember.__call__\u001B[0;34m(self, *args)\u001B[0m\n\u001B[1;32m   1315\u001B[0m command \u001B[38;5;241m=\u001B[39m proto\u001B[38;5;241m.\u001B[39mCALL_COMMAND_NAME \u001B[38;5;241m+\u001B[39m\\\n\u001B[1;32m   1316\u001B[0m     \u001B[38;5;28mself\u001B[39m\u001B[38;5;241m.\u001B[39mcommand_header \u001B[38;5;241m+\u001B[39m\\\n\u001B[1;32m   1317\u001B[0m     args_command \u001B[38;5;241m+\u001B[39m\\\n\u001B[1;32m   1318\u001B[0m     proto\u001B[38;5;241m.\u001B[39mEND_COMMAND_PART\n\u001B[1;32m   1320\u001B[0m answer \u001B[38;5;241m=\u001B[39m \u001B[38;5;28mself\u001B[39m\u001B[38;5;241m.\u001B[39mgateway_client\u001B[38;5;241m.\u001B[39msend_command(command)\n\u001B[0;32m-> 1321\u001B[0m return_value \u001B[38;5;241m=\u001B[39m \u001B[43mget_return_value\u001B[49m\u001B[43m(\u001B[49m\n\u001B[1;32m   1322\u001B[0m \u001B[43m    \u001B[49m\u001B[43manswer\u001B[49m\u001B[43m,\u001B[49m\u001B[43m \u001B[49m\u001B[38;5;28;43mself\u001B[39;49m\u001B[38;5;241;43m.\u001B[39;49m\u001B[43mgateway_client\u001B[49m\u001B[43m,\u001B[49m\u001B[43m \u001B[49m\u001B[38;5;28;43mself\u001B[39;49m\u001B[38;5;241;43m.\u001B[39;49m\u001B[43mtarget_id\u001B[49m\u001B[43m,\u001B[49m\u001B[43m \u001B[49m\u001B[38;5;28;43mself\u001B[39;49m\u001B[38;5;241;43m.\u001B[39;49m\u001B[43mname\u001B[49m\u001B[43m)\u001B[49m\n\u001B[1;32m   1324\u001B[0m \u001B[38;5;28;01mfor\u001B[39;00m temp_arg \u001B[38;5;129;01min\u001B[39;00m temp_args:\n\u001B[1;32m   1325\u001B[0m     temp_arg\u001B[38;5;241m.\u001B[39m_detach()\n\nFile \u001B[0;32m/databricks/spark/python/pyspark/errors/exceptions.py:234\u001B[0m, in \u001B[0;36mcapture_sql_exception.<locals>.deco\u001B[0;34m(*a, **kw)\u001B[0m\n\u001B[1;32m    230\u001B[0m converted \u001B[38;5;241m=\u001B[39m convert_exception(e\u001B[38;5;241m.\u001B[39mjava_exception)\n\u001B[1;32m    231\u001B[0m \u001B[38;5;28;01mif\u001B[39;00m \u001B[38;5;129;01mnot\u001B[39;00m \u001B[38;5;28misinstance\u001B[39m(converted, UnknownException):\n\u001B[1;32m    232\u001B[0m     \u001B[38;5;66;03m# Hide where the exception came from that shows a non-Pythonic\u001B[39;00m\n\u001B[1;32m    233\u001B[0m     \u001B[38;5;66;03m# JVM exception message.\u001B[39;00m\n\u001B[0;32m--> 234\u001B[0m     \u001B[38;5;28;01mraise\u001B[39;00m converted \u001B[38;5;28;01mfrom\u001B[39;00m \u001B[38;5;28mNone\u001B[39m\n\u001B[1;32m    235\u001B[0m \u001B[38;5;28;01melse\u001B[39;00m:\n\u001B[1;32m    236\u001B[0m     \u001B[38;5;28;01mraise\u001B[39;00m\n\n\u001B[0;31mAnalysisException\u001B[0m: [MISSING_AGGREGATION] The non-aggregating expression \"sales\" is based on columns which are not participating in the GROUP BY clause.\nAdd the columns or the expression to the GROUP BY, aggregate the expression, or use \"any_value(sales)\" if you do not care which of the values within a group is returned.;\nAggregate [msrp#4686, priceeach#4677, quantityordered#4676], [priceeach#4677, quantityordered#4676, sales#4679, msrp#4686]\n+- SubqueryAlias productsales\n   +- View (`productsales`, [ORDERNUMBER#4675,QUANTITYORDERED#4676,PRICEEACH#4677,ORDERLINENUMBER#4678,SALES#4679,ORDERDATE#4680,STATUS#4681,QTR_ID#4682,MONTH_ID#4683,YEAR_ID#4684,PRODUCTLINE#4685,MSRP#4686,PRODUCTCODE#4687,CUSTOMERNAME#4688,PHONE#4689,ADDRESSLINE1#4690,ADDRESSLINE2#4691,CITY#4692,STATE#4693,POSTALCODE#4694,COUNTRY#4695,TERRITORY#4696,CONTACTLASTNAME#4697,CONTACTFIRSTNAME#4698,DEALSIZE#4699])\n      +- Relation [ORDERNUMBER#4675,QUANTITYORDERED#4676,PRICEEACH#4677,ORDERLINENUMBER#4678,SALES#4679,ORDERDATE#4680,STATUS#4681,QTR_ID#4682,MONTH_ID#4683,YEAR_ID#4684,PRODUCTLINE#4685,MSRP#4686,PRODUCTCODE#4687,CUSTOMERNAME#4688,PHONE#4689,ADDRESSLINE1#4690,ADDRESSLINE2#4691,CITY#4692,STATE#4693,POSTALCODE#4694,COUNTRY#4695,TERRITORY#4696,CONTACTLASTNAME#4697,CONTACTFIRSTNAME#4698,DEALSIZE#4699] csv\n",
       "errorSummary": "<span class='ansi-red-fg'>AnalysisException</span>: [MISSING_AGGREGATION] The non-aggregating expression \"sales\" is based on columns which are not participating in the GROUP BY clause.\nAdd the columns or the expression to the GROUP BY, aggregate the expression, or use \"any_value(sales)\" if you do not care which of the values within a group is returned.;\nAggregate [msrp#4686, priceeach#4677, quantityordered#4676], [priceeach#4677, quantityordered#4676, sales#4679, msrp#4686]\n+- SubqueryAlias productsales\n   +- View (`productsales`, [ORDERNUMBER#4675,QUANTITYORDERED#4676,PRICEEACH#4677,ORDERLINENUMBER#4678,SALES#4679,ORDERDATE#4680,STATUS#4681,QTR_ID#4682,MONTH_ID#4683,YEAR_ID#4684,PRODUCTLINE#4685,MSRP#4686,PRODUCTCODE#4687,CUSTOMERNAME#4688,PHONE#4689,ADDRESSLINE1#4690,ADDRESSLINE2#4691,CITY#4692,STATE#4693,POSTALCODE#4694,COUNTRY#4695,TERRITORY#4696,CONTACTLASTNAME#4697,CONTACTFIRSTNAME#4698,DEALSIZE#4699])\n      +- Relation [ORDERNUMBER#4675,QUANTITYORDERED#4676,PRICEEACH#4677,ORDERLINENUMBER#4678,SALES#4679,ORDERDATE#4680,STATUS#4681,QTR_ID#4682,MONTH_ID#4683,YEAR_ID#4684,PRODUCTLINE#4685,MSRP#4686,PRODUCTCODE#4687,CUSTOMERNAME#4688,PHONE#4689,ADDRESSLINE1#4690,ADDRESSLINE2#4691,CITY#4692,STATE#4693,POSTALCODE#4694,COUNTRY#4695,TERRITORY#4696,CONTACTLASTNAME#4697,CONTACTFIRSTNAME#4698,DEALSIZE#4699] csv\n",
       "errorTraceType": "ansi",
       "metadata": {},
       "type": "ipynbError"
      }
     },
     "output_type": "display_data"
    }
   ],
   "source": [
    "%sql\n",
    "SELECT priceeach, quantityordered, sales, msrp\n",
    "FROM productsales\n",
    "GROUP BY msrp, priceeach, quantityordered;\n"
   ]
  },
  {
   "cell_type": "code",
   "execution_count": 0,
   "metadata": {
    "application/vnd.databricks.v1+cell": {
     "cellMetadata": {
      "byteLimit": 2048000,
      "implicitDf": true,
      "rowLimit": 10000
     },
     "inputWidgets": {},
     "nuid": "5d14331e-6b8a-447d-a876-862132b92c86",
     "showTitle": false,
     "title": ""
    }
   },
   "outputs": [
    {
     "output_type": "display_data",
     "data": {
      "text/html": [
       "<style scoped>\n",
       "  .table-result-container {\n",
       "    max-height: 300px;\n",
       "    overflow: auto;\n",
       "  }\n",
       "  table, th, td {\n",
       "    border: 1px solid black;\n",
       "    border-collapse: collapse;\n",
       "  }\n",
       "  th, td {\n",
       "    padding: 5px;\n",
       "  }\n",
       "  th {\n",
       "    text-align: left;\n",
       "  }\n",
       "</style><div class='table-result-container'><table class='table-result'><thead style='background-color: white'><tr><th>profit</th></tr></thead><tbody><tr><td>1741742.059999999</td></tr></tbody></table></div>"
      ]
     },
     "metadata": {
      "application/vnd.databricks.v1+output": {
       "addedWidgets": {},
       "aggData": [],
       "aggError": "",
       "aggOverflow": false,
       "aggSchema": [],
       "aggSeriesLimitReached": false,
       "aggType": "",
       "arguments": {},
       "columnCustomDisplayInfos": {},
       "data": [
        [
         1741742.059999999
        ]
       ],
       "datasetInfos": [],
       "dbfsResultPath": null,
       "isJsonSchema": true,
       "metadata": {},
       "overflow": false,
       "plotOptions": {
        "customPlotOptions": {},
        "displayType": "table",
        "pivotAggregation": null,
        "pivotColumns": null,
        "xColumns": null,
        "yColumns": null
       },
       "removedWidgets": [],
       "schema": [
        {
         "metadata": "{}",
         "name": "profit",
         "type": "\"double\""
        }
       ],
       "type": "table"
      }
     },
     "output_type": "display_data"
    }
   ],
   "source": [
    "%sql\n",
    "select sum(sales-(priceeach*quantityordered)) as Total_Profit from productsales"
   ]
  },
  {
   "cell_type": "code",
   "execution_count": 0,
   "metadata": {
    "application/vnd.databricks.v1+cell": {
     "cellMetadata": {},
     "inputWidgets": {},
     "nuid": "8f70d3eb-1d54-4ee8-80e8-37d1c9b57dc8",
     "showTitle": false,
     "title": ""
    }
   },
   "outputs": [],
   "source": [
    "#quantity  sold per prodcut"
   ]
  },
  {
   "cell_type": "code",
   "execution_count": 0,
   "metadata": {
    "application/vnd.databricks.v1+cell": {
     "cellMetadata": {
      "byteLimit": 2048000,
      "implicitDf": true,
      "rowLimit": 10000
     },
     "inputWidgets": {},
     "nuid": "c381eb8b-56cc-4202-ab23-bacbba08bc2d",
     "showTitle": false,
     "title": ""
    }
   },
   "outputs": [
    {
     "output_type": "display_data",
     "data": {
      "text/html": [
       "<style scoped>\n",
       "  .table-result-container {\n",
       "    max-height: 300px;\n",
       "    overflow: auto;\n",
       "  }\n",
       "  table, th, td {\n",
       "    border: 1px solid black;\n",
       "    border-collapse: collapse;\n",
       "  }\n",
       "  th, td {\n",
       "    padding: 5px;\n",
       "  }\n",
       "  th {\n",
       "    text-align: left;\n",
       "  }\n",
       "</style><div class='table-result-container'><table class='table-result'><thead style='background-color: white'><tr><th>productline</th><th>Products_Sold</th></tr></thead><tbody><tr><td>Classic Cars</td><td>33992.0</td></tr><tr><td>Motorcycles</td><td>11663.0</td></tr><tr><td>Planes</td><td>10727.0</td></tr><tr><td>Ships</td><td>8127.0</td></tr><tr><td>Trains</td><td>2712.0</td></tr><tr><td>Trucks and Buses</td><td>10777.0</td></tr><tr><td>Vintage Cars</td><td>21069.0</td></tr></tbody></table></div>"
      ]
     },
     "metadata": {
      "application/vnd.databricks.v1+output": {
       "addedWidgets": {},
       "aggData": [],
       "aggError": "",
       "aggOverflow": false,
       "aggSchema": [],
       "aggSeriesLimitReached": false,
       "aggType": "",
       "arguments": {},
       "columnCustomDisplayInfos": {},
       "data": [
        [
         "Classic Cars",
         33992.0
        ],
        [
         "Motorcycles",
         11663.0
        ],
        [
         "Planes",
         10727.0
        ],
        [
         "Ships",
         8127.0
        ],
        [
         "Trains",
         2712.0
        ],
        [
         "Trucks and Buses",
         10777.0
        ],
        [
         "Vintage Cars",
         21069.0
        ]
       ],
       "datasetInfos": [],
       "dbfsResultPath": null,
       "isJsonSchema": true,
       "metadata": {},
       "overflow": false,
       "plotOptions": {
        "customPlotOptions": {},
        "displayType": "table",
        "pivotAggregation": null,
        "pivotColumns": null,
        "xColumns": null,
        "yColumns": null
       },
       "removedWidgets": [],
       "schema": [
        {
         "metadata": "{}",
         "name": "productline",
         "type": "\"string\""
        },
        {
         "metadata": "{}",
         "name": "Products_Sold",
         "type": "\"double\""
        }
       ],
       "type": "table"
      }
     },
     "output_type": "display_data"
    },
    {
     "output_type": "display_data",
     "data": {
      "text/plain": [
       "Databricks visualization. Run in Databricks to view."
      ]
     },
     "metadata": {
      "application/vnd.databricks.v1.subcommand+json": {
       "baseErrorDetails": null,
       "bindings": {},
       "collapsed": false,
       "command": "%sql WITH q AS (select productline,sum(quantityordered) as Products_Sold from productsales group by productline order by productline) SELECT `productline`,SUM(`Products_Sold`) `column_a8bd4a8040` FROM q GROUP BY `productline`",
       "commandTitle": "Quantity sold per Product",
       "commandType": "auto",
       "commandVersion": 0,
       "commentThread": [],
       "commentsVisible": false,
       "contentSha256Hex": null,
       "customPlotOptions": {
        "redashChart": [
         {
          "key": "type",
          "value": "CHART"
         },
         {
          "key": "options",
          "value": {
           "alignYAxesAtZero": true,
           "coefficient": 1,
           "columnConfigurationMap": {
            "x": {
             "column": "productline",
             "id": "column_a8bd4a8039"
            },
            "y": [
             {
              "column": "Products_Sold",
              "id": "column_a8bd4a8040",
              "transform": "SUM"
             }
            ]
           },
           "dateTimeFormat": "DD/MM/YYYY HH:mm",
           "direction": {
            "type": "counterclockwise"
           },
           "error_y": {
            "type": "data",
            "visible": true
           },
           "globalSeriesType": "pie",
           "legend": {
            "traceorder": "normal"
           },
           "missingValuesAsZero": true,
           "numberFormat": "0,0.[00000]",
           "percentFormat": "0[.]00%",
           "series": {
            "error_y": {
             "type": "data",
             "visible": true
            },
            "stacking": null
           },
           "seriesOptions": {
            "column_a8bd4a8040": {
             "name": "Products_Sold",
             "type": "pie",
             "yAxis": 0
            }
           },
           "showDataLabels": true,
           "sizemode": "diameter",
           "sortX": true,
           "sortY": true,
           "swappedAxes": false,
           "textFormat": "",
           "useAggregationsUi": true,
           "valuesOptions": {},
           "version": 2,
           "xAxis": {
            "labels": {
             "enabled": true
            },
            "type": "-"
           },
           "yAxis": [
            {
             "type": "-"
            },
            {
             "opposite": true,
             "type": "-"
            }
           ]
          }
         }
        ]
       },
       "datasetPreviewNameToCmdIdMap": {},
       "diffDeletes": [],
       "diffInserts": [],
       "displayType": "redashChart",
       "error": null,
       "errorDetails": null,
       "errorSummary": null,
       "errorTraceType": null,
       "finishTime": 0,
       "globalVars": {},
       "guid": "",
       "height": "auto",
       "hideCommandCode": false,
       "hideCommandResult": false,
       "iPythonMetadata": null,
       "inputWidgets": {},
       "isLockedInExamMode": false,
       "latestUser": "a user",
       "latestUserId": null,
       "listResultMetadata": null,
       "metadata": {},
       "nuid": "af56fe0b-14a0-4508-9b42-a3934d9d7908",
       "origId": 0,
       "parentHierarchy": [],
       "pivotAggregation": null,
       "pivotColumns": null,
       "position": 17.0,
       "resultDbfsErrorMessage": null,
       "resultDbfsStatus": "INLINED_IN_TREE",
       "results": null,
       "showCommandTitle": false,
       "startTime": 0,
       "state": "input",
       "streamStates": {},
       "subcommandOptions": {
        "queryPlan": {
         "groups": [
          {
           "column": "productline",
           "type": "column"
          }
         ],
         "selects": [
          {
           "column": "productline",
           "type": "column"
          },
          {
           "alias": "column_a8bd4a8040",
           "args": [
            {
             "column": "Products_Sold",
             "type": "column"
            }
           ],
           "function": "SUM",
           "type": "function"
          }
         ]
        }
       },
       "submitTime": 0,
       "subtype": "tableResultSubCmd.visualization",
       "tableResultIndex": 0,
       "useConsistentColors": false,
       "version": "CommandV1",
       "width": "auto",
       "workflows": [],
       "xColumns": null,
       "yColumns": null
      }
     },
     "output_type": "display_data"
    }
   ],
   "source": [
    "%sql\n",
    "select productline,sum(quantityordered) as Products_Sold from productsales group by productline order by productline"
   ]
  },
  {
   "cell_type": "code",
   "execution_count": 0,
   "metadata": {
    "application/vnd.databricks.v1+cell": {
     "cellMetadata": {
      "byteLimit": 2048000,
      "implicitDf": true,
      "rowLimit": 10000
     },
     "inputWidgets": {},
     "nuid": "ad0baf7f-b562-4f38-ae63-1bfa1fa0eb86",
     "showTitle": false,
     "title": ""
    }
   },
   "outputs": [
    {
     "output_type": "display_data",
     "data": {
      "text/html": [
       "<style scoped>\n",
       "  .table-result-container {\n",
       "    max-height: 300px;\n",
       "    overflow: auto;\n",
       "  }\n",
       "  table, th, td {\n",
       "    border: 1px solid black;\n",
       "    border-collapse: collapse;\n",
       "  }\n",
       "  th, td {\n",
       "    padding: 5px;\n",
       "  }\n",
       "  th {\n",
       "    text-align: left;\n",
       "  }\n",
       "</style><div class='table-result-container'><table class='table-result'><thead style='background-color: white'><tr><th>month_id</th><th>Products_Sold_per_Month</th></tr></thead><tbody><tr><td>1</td><td>7997.0</td></tr><tr><td>10</td><td>10998.0</td></tr><tr><td>11</td><td>20857.0</td></tr><tr><td>12</td><td>6293.0</td></tr><tr><td>2</td><td>7903.0</td></tr><tr><td>3</td><td>7585.0</td></tr><tr><td>4</td><td>6704.0</td></tr><tr><td>5</td><td>8992.0</td></tr><tr><td>6</td><td>4620.0</td></tr><tr><td>7</td><td>4899.0</td></tr><tr><td>8</td><td>6538.0</td></tr><tr><td>9</td><td>5681.0</td></tr></tbody></table></div>"
      ]
     },
     "metadata": {
      "application/vnd.databricks.v1+output": {
       "addedWidgets": {},
       "aggData": [],
       "aggError": "",
       "aggOverflow": false,
       "aggSchema": [],
       "aggSeriesLimitReached": false,
       "aggType": "",
       "arguments": {},
       "columnCustomDisplayInfos": {},
       "data": [
        [
         "1",
         7997.0
        ],
        [
         "10",
         10998.0
        ],
        [
         "11",
         20857.0
        ],
        [
         "12",
         6293.0
        ],
        [
         "2",
         7903.0
        ],
        [
         "3",
         7585.0
        ],
        [
         "4",
         6704.0
        ],
        [
         "5",
         8992.0
        ],
        [
         "6",
         4620.0
        ],
        [
         "7",
         4899.0
        ],
        [
         "8",
         6538.0
        ],
        [
         "9",
         5681.0
        ]
       ],
       "datasetInfos": [],
       "dbfsResultPath": null,
       "isJsonSchema": true,
       "metadata": {},
       "overflow": false,
       "plotOptions": {
        "customPlotOptions": {},
        "displayType": "table",
        "pivotAggregation": null,
        "pivotColumns": null,
        "xColumns": null,
        "yColumns": null
       },
       "removedWidgets": [],
       "schema": [
        {
         "metadata": "{}",
         "name": "month_id",
         "type": "\"string\""
        },
        {
         "metadata": "{}",
         "name": "Products_Sold_per_Month",
         "type": "\"double\""
        }
       ],
       "type": "table"
      }
     },
     "output_type": "display_data"
    },
    {
     "output_type": "display_data",
     "data": {
      "text/plain": [
       "Databricks visualization. Run in Databricks to view."
      ]
     },
     "metadata": {
      "application/vnd.databricks.v1.subcommand+json": {
       "baseErrorDetails": null,
       "bindings": {},
       "collapsed": false,
       "command": "%sql WITH q AS (select month_id,sum(quantityordered) as Products_Sold_per_Month from productsales group by month_id order by month_id) SELECT `month_id`,SUM(`Products_Sold_per_Month`) `column_a8bd4a8043` FROM q GROUP BY `month_id`",
       "commandTitle": "Visualization 1",
       "commandType": "auto",
       "commandVersion": 0,
       "commentThread": [],
       "commentsVisible": false,
       "contentSha256Hex": null,
       "customPlotOptions": {
        "redashChart": [
         {
          "key": "type",
          "value": "CHART"
         },
         {
          "key": "options",
          "value": {
           "alignYAxesAtZero": true,
           "coefficient": 1,
           "columnConfigurationMap": {
            "x": {
             "column": "month_id",
             "id": "column_a8bd4a8042"
            },
            "y": [
             {
              "column": "Products_Sold_per_Month",
              "id": "column_a8bd4a8043",
              "transform": "SUM"
             }
            ]
           },
           "dateTimeFormat": "DD/MM/YYYY HH:mm",
           "direction": {
            "type": "counterclockwise"
           },
           "error_y": {
            "type": "data",
            "visible": true
           },
           "globalSeriesType": "column",
           "isAggregationOn": true,
           "legend": {
            "traceorder": "normal"
           },
           "missingValuesAsZero": true,
           "numberFormat": "0,0.[00000]",
           "percentFormat": "0[.]00%",
           "series": {
            "error_y": {
             "type": "data",
             "visible": true
            },
            "stacking": null
           },
           "seriesOptions": {
            "column_a8bd4a8043": {
             "color": "#002FB4",
             "name": "Products_Sold_per_Month",
             "yAxis": 0
            }
           },
           "showDataLabels": false,
           "sizemode": "diameter",
           "sortX": true,
           "sortY": true,
           "swappedAxes": true,
           "textFormat": "",
           "useAggregationsUi": true,
           "valuesOptions": {},
           "version": 2,
           "xAxis": {
            "labels": {
             "enabled": true
            },
            "type": "-"
           },
           "yAxis": [
            {
             "type": "-"
            },
            {
             "opposite": true,
             "type": "-"
            }
           ]
          }
         }
        ]
       },
       "datasetPreviewNameToCmdIdMap": {},
       "diffDeletes": [],
       "diffInserts": [],
       "displayType": "redashChart",
       "error": null,
       "errorDetails": null,
       "errorSummary": null,
       "errorTraceType": null,
       "finishTime": 0,
       "globalVars": {},
       "guid": "",
       "height": "auto",
       "hideCommandCode": false,
       "hideCommandResult": false,
       "iPythonMetadata": null,
       "inputWidgets": {},
       "isLockedInExamMode": false,
       "latestUser": "a user",
       "latestUserId": null,
       "listResultMetadata": null,
       "metadata": {},
       "nuid": "3c40a9a8-c5ce-4bd0-b672-18ec6cf72a66",
       "origId": 0,
       "parentHierarchy": [],
       "pivotAggregation": null,
       "pivotColumns": null,
       "position": 18.0,
       "resultDbfsErrorMessage": null,
       "resultDbfsStatus": "INLINED_IN_TREE",
       "results": null,
       "showCommandTitle": false,
       "startTime": 0,
       "state": "input",
       "streamStates": {},
       "subcommandOptions": {
        "queryPlan": {
         "groups": [
          {
           "column": "month_id",
           "type": "column"
          }
         ],
         "selects": [
          {
           "column": "month_id",
           "type": "column"
          },
          {
           "alias": "column_a8bd4a8043",
           "args": [
            {
             "column": "Products_Sold_per_Month",
             "type": "column"
            }
           ],
           "function": "SUM",
           "type": "function"
          }
         ]
        }
       },
       "submitTime": 0,
       "subtype": "tableResultSubCmd.visualization",
       "tableResultIndex": 0,
       "useConsistentColors": false,
       "version": "CommandV1",
       "width": "auto",
       "workflows": [],
       "xColumns": null,
       "yColumns": null
      }
     },
     "output_type": "display_data"
    }
   ],
   "source": [
    "%sql\n",
    "select month_id,sum(quantityordered) as Products_Sold_per_Month from productsales group by month_id order by month_id"
   ]
  },
  {
   "cell_type": "code",
   "execution_count": 0,
   "metadata": {
    "application/vnd.databricks.v1+cell": {
     "cellMetadata": {
      "byteLimit": 2048000,
      "rowLimit": 10000
     },
     "inputWidgets": {},
     "nuid": "3f5c3e0f-356a-4135-bcc9-4eb0cad3310b",
     "showTitle": false,
     "title": ""
    }
   },
   "outputs": [
    {
     "output_type": "display_data",
     "data": {
      "text/html": [
       "<style scoped>\n",
       "  .table-result-container {\n",
       "    max-height: 300px;\n",
       "    overflow: auto;\n",
       "  }\n",
       "  table, th, td {\n",
       "    border: 1px solid black;\n",
       "    border-collapse: collapse;\n",
       "  }\n",
       "  th, td {\n",
       "    padding: 5px;\n",
       "  }\n",
       "  th {\n",
       "    text-align: left;\n",
       "  }\n",
       "</style><div class='table-result-container'><table class='table-result'><thead style='background-color: white'><tr><th>month_id</th><th>Products_Sold_per_Month</th></tr></thead><tbody><tr><td>1</td><td>7997.0</td></tr><tr><td>10</td><td>10998.0</td></tr><tr><td>11</td><td>20857.0</td></tr><tr><td>12</td><td>6293.0</td></tr><tr><td>2</td><td>7903.0</td></tr><tr><td>3</td><td>7585.0</td></tr><tr><td>4</td><td>6704.0</td></tr><tr><td>5</td><td>8992.0</td></tr><tr><td>6</td><td>4620.0</td></tr><tr><td>7</td><td>4899.0</td></tr><tr><td>8</td><td>6538.0</td></tr><tr><td>9</td><td>5681.0</td></tr></tbody></table></div>"
      ]
     },
     "metadata": {
      "application/vnd.databricks.v1+output": {
       "addedWidgets": {},
       "aggData": [],
       "aggError": "",
       "aggOverflow": false,
       "aggSchema": [],
       "aggSeriesLimitReached": false,
       "aggType": "",
       "arguments": {},
       "columnCustomDisplayInfos": {},
       "data": [
        [
         "1",
         7997.0
        ],
        [
         "10",
         10998.0
        ],
        [
         "11",
         20857.0
        ],
        [
         "12",
         6293.0
        ],
        [
         "2",
         7903.0
        ],
        [
         "3",
         7585.0
        ],
        [
         "4",
         6704.0
        ],
        [
         "5",
         8992.0
        ],
        [
         "6",
         4620.0
        ],
        [
         "7",
         4899.0
        ],
        [
         "8",
         6538.0
        ],
        [
         "9",
         5681.0
        ]
       ],
       "datasetInfos": [],
       "dbfsResultPath": null,
       "isJsonSchema": true,
       "metadata": {},
       "overflow": false,
       "plotOptions": {
        "customPlotOptions": {},
        "displayType": "table",
        "pivotAggregation": null,
        "pivotColumns": null,
        "xColumns": null,
        "yColumns": null
       },
       "removedWidgets": [],
       "schema": [
        {
         "metadata": "{}",
         "name": "month_id",
         "type": "\"string\""
        },
        {
         "metadata": "{}",
         "name": "Products_Sold_per_Month",
         "type": "\"double\""
        }
       ],
       "type": "table"
      }
     },
     "output_type": "display_data"
    }
   ],
   "source": [
    "spark.sql(\"select month_id,sum(quantityordered) as Products_Sold_per_Month from productsales group by month_id order by month_id\").display()"
   ]
  },
  {
   "cell_type": "code",
   "execution_count": 0,
   "metadata": {
    "application/vnd.databricks.v1+cell": {
     "cellMetadata": {
      "byteLimit": 2048000,
      "implicitDf": true,
      "rowLimit": 10000
     },
     "inputWidgets": {},
     "nuid": "edb81eb9-5dec-4b30-b1a1-01c440fbfdc6",
     "showTitle": false,
     "title": ""
    }
   },
   "outputs": [
    {
     "output_type": "display_data",
     "data": {
      "text/html": [
       "<style scoped>\n",
       "  .table-result-container {\n",
       "    max-height: 300px;\n",
       "    overflow: auto;\n",
       "  }\n",
       "  table, th, td {\n",
       "    border: 1px solid black;\n",
       "    border-collapse: collapse;\n",
       "  }\n",
       "  th, td {\n",
       "    padding: 5px;\n",
       "  }\n",
       "  th {\n",
       "    text-align: left;\n",
       "  }\n",
       "</style><div class='table-result-container'><table class='table-result'><thead style='background-color: white'><tr><th>Customer_Name</th><th>sum_sales</th><th>Contribution_Pcnt</th></tr></thead><tbody><tr><td>Euro Shopping Channel</td><td>912294.1100000002</td><td>0.09093270803095634</td></tr><tr><td>Mini Gifts Distributors Ltd.</td><td>654858.06</td><td>0.06527282826773756</td></tr><tr><td>Australian Collectors, Co.</td><td>200995.40999999997</td><td>0.020034171801341955</td></tr><tr><td>Muscle Machine Inc</td><td>197736.93999999997</td><td>0.019709384544809486</td></tr><tr><td>La Rochelle Gifts</td><td>180124.9</td><td>0.017953908461389938</td></tr><tr><td>Dragon Souveniers, Ltd.</td><td>172989.68000000008</td><td>0.017242707029872822</td></tr><tr><td>Land of Toys Inc.</td><td>164069.44000000003</td><td>0.016353584135627607</td></tr><tr><td>The Sharp Gifts Warehouse</td><td>160010.26999999996</td><td>0.01594898728861078</td></tr><tr><td>AV Stores, Co.</td><td>157807.80999999997</td><td>0.01572945758877543</td></tr><tr><td>Anna's Decorations, Ltd</td><td>153996.13000000003</td><td>0.015349529251249026</td></tr></tbody></table></div>"
      ]
     },
     "metadata": {
      "application/vnd.databricks.v1+output": {
       "addedWidgets": {},
       "aggData": [],
       "aggError": "",
       "aggOverflow": false,
       "aggSchema": [],
       "aggSeriesLimitReached": false,
       "aggType": "",
       "arguments": {},
       "columnCustomDisplayInfos": {},
       "data": [
        [
         "Euro Shopping Channel",
         912294.1100000002,
         0.09093270803095634
        ],
        [
         "Mini Gifts Distributors Ltd.",
         654858.06,
         0.06527282826773756
        ],
        [
         "Australian Collectors, Co.",
         200995.40999999997,
         0.020034171801341955
        ],
        [
         "Muscle Machine Inc",
         197736.93999999997,
         0.019709384544809486
        ],
        [
         "La Rochelle Gifts",
         180124.9,
         0.017953908461389938
        ],
        [
         "Dragon Souveniers, Ltd.",
         172989.68000000008,
         0.017242707029872822
        ],
        [
         "Land of Toys Inc.",
         164069.44000000003,
         0.016353584135627607
        ],
        [
         "The Sharp Gifts Warehouse",
         160010.26999999996,
         0.01594898728861078
        ],
        [
         "AV Stores, Co.",
         157807.80999999997,
         0.01572945758877543
        ],
        [
         "Anna's Decorations, Ltd",
         153996.13000000003,
         0.015349529251249026
        ]
       ],
       "datasetInfos": [],
       "dbfsResultPath": null,
       "isJsonSchema": true,
       "metadata": {},
       "overflow": false,
       "plotOptions": {
        "customPlotOptions": {},
        "displayType": "table",
        "pivotAggregation": null,
        "pivotColumns": null,
        "xColumns": null,
        "yColumns": null
       },
       "removedWidgets": [],
       "schema": [
        {
         "metadata": "{}",
         "name": "Customer_Name",
         "type": "\"string\""
        },
        {
         "metadata": "{}",
         "name": "sum_sales",
         "type": "\"double\""
        },
        {
         "metadata": "{}",
         "name": "Contribution_Pcnt",
         "type": "\"double\""
        }
       ],
       "type": "table"
      }
     },
     "output_type": "display_data"
    }
   ],
   "source": [
    "%sql\n",
    "select customername as Customer_Name,sum(sales) as sum_sales,sum(sales)/(select sum(sales)from prodcutsales) as Contribution_Pcnt from prodcutsales group by CUSTOMERNAME order by sum_sales DESC limit 10"
   ]
  },
  {
   "cell_type": "code",
   "execution_count": 0,
   "metadata": {
    "application/vnd.databricks.v1+cell": {
     "cellMetadata": {
      "byteLimit": 2048000,
      "rowLimit": 10000
     },
     "inputWidgets": {},
     "nuid": "b6317adc-8564-49fa-9c2e-ff03affa145d",
     "showTitle": false,
     "title": ""
    }
   },
   "outputs": [],
   "source": [
    "#top 3 highest selling product in each quater based on Total Sales"
   ]
  },
  {
   "cell_type": "code",
   "execution_count": 0,
   "metadata": {
    "application/vnd.databricks.v1+cell": {
     "cellMetadata": {
      "byteLimit": 2048000,
      "implicitDf": true,
      "rowLimit": 10000
     },
     "inputWidgets": {},
     "nuid": "78b2f7bc-da38-4eb9-90ca-be85969a8b5f",
     "showTitle": false,
     "title": ""
    }
   },
   "outputs": [
    {
     "output_type": "display_data",
     "data": {
      "text/html": [
       "<style scoped>\n",
       "  .table-result-container {\n",
       "    max-height: 300px;\n",
       "    overflow: auto;\n",
       "  }\n",
       "  table, th, td {\n",
       "    border: 1px solid black;\n",
       "    border-collapse: collapse;\n",
       "  }\n",
       "  th, td {\n",
       "    padding: 5px;\n",
       "  }\n",
       "  th {\n",
       "    text-align: left;\n",
       "  }\n",
       "</style><div class='table-result-container'><table class='table-result'><thead style='background-color: white'><tr><th>qtr_id</th><th>productline</th><th>rank</th></tr></thead><tbody><tr><td>1</td><td>Classic Cars</td><td>1</td></tr><tr><td>1</td><td>Vintage Cars</td><td>2</td></tr><tr><td>1</td><td>Motorcycles</td><td>3</td></tr><tr><td>2</td><td>Classic Cars</td><td>1</td></tr><tr><td>2</td><td>Vintage Cars</td><td>2</td></tr><tr><td>2</td><td>Motorcycles</td><td>3</td></tr><tr><td>3</td><td>Classic Cars</td><td>1</td></tr><tr><td>3</td><td>Vintage Cars</td><td>2</td></tr><tr><td>3</td><td>Motorcycles</td><td>3</td></tr><tr><td>4</td><td>Classic Cars</td><td>1</td></tr><tr><td>4</td><td>Vintage Cars</td><td>2</td></tr><tr><td>4</td><td>Trucks and Buses</td><td>3</td></tr></tbody></table></div>"
      ]
     },
     "metadata": {
      "application/vnd.databricks.v1+output": {
       "addedWidgets": {},
       "aggData": [],
       "aggError": "",
       "aggOverflow": false,
       "aggSchema": [],
       "aggSeriesLimitReached": false,
       "aggType": "",
       "arguments": {},
       "columnCustomDisplayInfos": {},
       "data": [
        [
         "1",
         "Classic Cars",
         1
        ],
        [
         "1",
         "Vintage Cars",
         2
        ],
        [
         "1",
         "Motorcycles",
         3
        ],
        [
         "2",
         "Classic Cars",
         1
        ],
        [
         "2",
         "Vintage Cars",
         2
        ],
        [
         "2",
         "Motorcycles",
         3
        ],
        [
         "3",
         "Classic Cars",
         1
        ],
        [
         "3",
         "Vintage Cars",
         2
        ],
        [
         "3",
         "Motorcycles",
         3
        ],
        [
         "4",
         "Classic Cars",
         1
        ],
        [
         "4",
         "Vintage Cars",
         2
        ],
        [
         "4",
         "Trucks and Buses",
         3
        ]
       ],
       "datasetInfos": [],
       "dbfsResultPath": null,
       "isJsonSchema": true,
       "metadata": {},
       "overflow": false,
       "plotOptions": {
        "customPlotOptions": {},
        "displayType": "table",
        "pivotAggregation": null,
        "pivotColumns": null,
        "xColumns": null,
        "yColumns": null
       },
       "removedWidgets": [],
       "schema": [
        {
         "metadata": "{}",
         "name": "qtr_id",
         "type": "\"string\""
        },
        {
         "metadata": "{}",
         "name": "productline",
         "type": "\"string\""
        },
        {
         "metadata": "{}",
         "name": "rank",
         "type": "\"integer\""
        }
       ],
       "type": "table"
      }
     },
     "output_type": "display_data"
    }
   ],
   "source": [
    "%sql\n",
    "\n",
    "select qtr_id, productline, rank\n",
    "from (\n",
    "  select qtr_id,productline,\n",
    "         rank() over (partition by qtr_id order by sum(sales) desc) as rank\n",
    "  from productsales\n",
    "  group by qtr_id, productline\n",
    ") as ranked_tb\n",
    "where rank <= 3\n",
    "order by qtr_id, rank;\n",
    "\n"
   ]
  },
  {
   "cell_type": "code",
   "execution_count": 0,
   "metadata": {
    "application/vnd.databricks.v1+cell": {
     "cellMetadata": {},
     "inputWidgets": {},
     "nuid": "86753a8d-6ed9-49ae-83b8-34f0a4231bf9",
     "showTitle": false,
     "title": ""
    }
   },
   "outputs": [],
   "source": [
    "#cateogorize productline as 'Hot','cold'  based on their orderquantity in each quARTER USING CASE WHEN STATEMENMT"
   ]
  },
  {
   "cell_type": "code",
   "execution_count": 0,
   "metadata": {
    "application/vnd.databricks.v1+cell": {
     "cellMetadata": {
      "byteLimit": 2048000,
      "implicitDf": true,
      "rowLimit": 10000
     },
     "inputWidgets": {},
     "nuid": "e79236db-5f63-4db9-adbf-2caf7bcc2988",
     "showTitle": false,
     "title": ""
    }
   },
   "outputs": [
    {
     "output_type": "display_data",
     "data": {
      "text/html": [
       "<style scoped>\n",
       "  .table-result-container {\n",
       "    max-height: 300px;\n",
       "    overflow: auto;\n",
       "  }\n",
       "  table, th, td {\n",
       "    border: 1px solid black;\n",
       "    border-collapse: collapse;\n",
       "  }\n",
       "  th, td {\n",
       "    padding: 5px;\n",
       "  }\n",
       "  th {\n",
       "    text-align: left;\n",
       "  }\n",
       "</style><div class='table-result-container'><table class='table-result'><thead style='background-color: white'><tr><th>qtr_id</th><th>min(rank)</th></tr></thead><tbody><tr><td>1</td><td>1</td></tr><tr><td>2</td><td>1</td></tr><tr><td>3</td><td>1</td></tr><tr><td>4</td><td>1</td></tr></tbody></table></div>"
      ]
     },
     "metadata": {
      "application/vnd.databricks.v1+output": {
       "addedWidgets": {},
       "aggData": [],
       "aggError": "",
       "aggOverflow": false,
       "aggSchema": [],
       "aggSeriesLimitReached": false,
       "aggType": "",
       "arguments": {},
       "columnCustomDisplayInfos": {},
       "data": [
        [
         "1",
         1
        ],
        [
         "2",
         1
        ],
        [
         "3",
         1
        ],
        [
         "4",
         1
        ]
       ],
       "datasetInfos": [],
       "dbfsResultPath": null,
       "isJsonSchema": true,
       "metadata": {},
       "overflow": false,
       "plotOptions": {
        "customPlotOptions": {},
        "displayType": "table",
        "pivotAggregation": null,
        "pivotColumns": null,
        "xColumns": null,
        "yColumns": null
       },
       "removedWidgets": [],
       "schema": [
        {
         "metadata": "{}",
         "name": "qtr_id",
         "type": "\"string\""
        },
        {
         "metadata": "{\"__autoGeneratedAlias\":\"true\"}",
         "name": "min(rank)",
         "type": "\"integer\""
        }
       ],
       "type": "table"
      }
     },
     "output_type": "display_data"
    }
   ],
   "source": [
    "%sql \n",
    "\n",
    "select qtr_id,min(rank) from (\n",
    "select qtr_id, productline,rank\n",
    "from (\n",
    "  select qtr_id,productline,\n",
    "         rank() over (partition by qtr_id order by sum(sales) desc) as rank\n",
    "  from productsales\n",
    "  group by qtr_id, productline\n",
    ") as ranked_tb\n",
    "where rank <= 3 \n",
    "order by qtr_id, rank) group by qtr_id"
   ]
  },
  {
   "cell_type": "code",
   "execution_count": 0,
   "metadata": {
    "application/vnd.databricks.v1+cell": {
     "cellMetadata": {
      "byteLimit": 2048000,
      "implicitDf": true,
      "rowLimit": 10000
     },
     "inputWidgets": {},
     "nuid": "e755e231-5bb8-4b9c-8444-e583f323c1a1",
     "showTitle": false,
     "title": ""
    }
   },
   "outputs": [
    {
     "output_type": "display_data",
     "data": {
      "text/html": [
       "<style scoped>\n",
       "  .table-result-container {\n",
       "    max-height: 300px;\n",
       "    overflow: auto;\n",
       "  }\n",
       "  table, th, td {\n",
       "    border: 1px solid black;\n",
       "    border-collapse: collapse;\n",
       "  }\n",
       "  th, td {\n",
       "    padding: 5px;\n",
       "  }\n",
       "  th {\n",
       "    text-align: left;\n",
       "  }\n",
       "</style><div class='table-result-container'><table class='table-result'><thead style='background-color: white'><tr><th>productline</th><th>qtr_id</th><th>min(sumo)</th><th>max(sumo)</th></tr></thead><tbody><tr><td>Ships</td><td>1</td><td>2163.0</td><td>2163.0</td></tr><tr><td>Planes</td><td>1</td><td>2625.0</td><td>2625.0</td></tr><tr><td>Vintage Cars</td><td>1</td><td>5481.0</td><td>5481.0</td></tr><tr><td>Trains</td><td>1</td><td>693.0</td><td>693.0</td></tr><tr><td>Classic Cars</td><td>1</td><td>7784.0</td><td>7784.0</td></tr><tr><td>Motorcycles</td><td>1</td><td>2671.0</td><td>2671.0</td></tr><tr><td>Trucks and Buses</td><td>1</td><td>2068.0</td><td>2068.0</td></tr><tr><td>Classic Cars</td><td>2</td><td>6447.0</td><td>6447.0</td></tr><tr><td>Planes</td><td>2</td><td>2773.0</td><td>2773.0</td></tr><tr><td>Trucks and Buses</td><td>2</td><td>2286.0</td><td>2286.0</td></tr><tr><td>Motorcycles</td><td>2</td><td>2721.0</td><td>2721.0</td></tr><tr><td>Vintage Cars</td><td>2</td><td>4030.0</td><td>4030.0</td></tr><tr><td>Trains</td><td>2</td><td>439.0</td><td>439.0</td></tr><tr><td>Ships</td><td>2</td><td>1620.0</td><td>1620.0</td></tr><tr><td>Ships</td><td>3</td><td>1416.0</td><td>1416.0</td></tr><tr><td>Vintage Cars</td><td>3</td><td>3269.0</td><td>3269.0</td></tr><tr><td>Trains</td><td>3</td><td>531.0</td><td>531.0</td></tr><tr><td>Motorcycles</td><td>3</td><td>2214.0</td><td>2214.0</td></tr><tr><td>Planes</td><td>3</td><td>1549.0</td><td>1549.0</td></tr><tr><td>Classic Cars</td><td>3</td><td>6190.0</td><td>6190.0</td></tr><tr><td>Trucks and Buses</td><td>3</td><td>1949.0</td><td>1949.0</td></tr><tr><td>Classic Cars</td><td>4</td><td>13571.0</td><td>13571.0</td></tr><tr><td>Ships</td><td>4</td><td>2928.0</td><td>2928.0</td></tr><tr><td>Planes</td><td>4</td><td>3780.0</td><td>3780.0</td></tr><tr><td>Trucks and Buses</td><td>4</td><td>4474.0</td><td>4474.0</td></tr><tr><td>Trains</td><td>4</td><td>1049.0</td><td>1049.0</td></tr><tr><td>Vintage Cars</td><td>4</td><td>8289.0</td><td>8289.0</td></tr><tr><td>Motorcycles</td><td>4</td><td>4057.0</td><td>4057.0</td></tr></tbody></table></div>"
      ]
     },
     "metadata": {
      "application/vnd.databricks.v1+output": {
       "addedWidgets": {},
       "aggData": [],
       "aggError": "",
       "aggOverflow": false,
       "aggSchema": [],
       "aggSeriesLimitReached": false,
       "aggType": "",
       "arguments": {},
       "columnCustomDisplayInfos": {},
       "data": [
        [
         "Ships",
         "1",
         2163.0,
         2163.0
        ],
        [
         "Planes",
         "1",
         2625.0,
         2625.0
        ],
        [
         "Vintage Cars",
         "1",
         5481.0,
         5481.0
        ],
        [
         "Trains",
         "1",
         693.0,
         693.0
        ],
        [
         "Classic Cars",
         "1",
         7784.0,
         7784.0
        ],
        [
         "Motorcycles",
         "1",
         2671.0,
         2671.0
        ],
        [
         "Trucks and Buses",
         "1",
         2068.0,
         2068.0
        ],
        [
         "Classic Cars",
         "2",
         6447.0,
         6447.0
        ],
        [
         "Planes",
         "2",
         2773.0,
         2773.0
        ],
        [
         "Trucks and Buses",
         "2",
         2286.0,
         2286.0
        ],
        [
         "Motorcycles",
         "2",
         2721.0,
         2721.0
        ],
        [
         "Vintage Cars",
         "2",
         4030.0,
         4030.0
        ],
        [
         "Trains",
         "2",
         439.0,
         439.0
        ],
        [
         "Ships",
         "2",
         1620.0,
         1620.0
        ],
        [
         "Ships",
         "3",
         1416.0,
         1416.0
        ],
        [
         "Vintage Cars",
         "3",
         3269.0,
         3269.0
        ],
        [
         "Trains",
         "3",
         531.0,
         531.0
        ],
        [
         "Motorcycles",
         "3",
         2214.0,
         2214.0
        ],
        [
         "Planes",
         "3",
         1549.0,
         1549.0
        ],
        [
         "Classic Cars",
         "3",
         6190.0,
         6190.0
        ],
        [
         "Trucks and Buses",
         "3",
         1949.0,
         1949.0
        ],
        [
         "Classic Cars",
         "4",
         13571.0,
         13571.0
        ],
        [
         "Ships",
         "4",
         2928.0,
         2928.0
        ],
        [
         "Planes",
         "4",
         3780.0,
         3780.0
        ],
        [
         "Trucks and Buses",
         "4",
         4474.0,
         4474.0
        ],
        [
         "Trains",
         "4",
         1049.0,
         1049.0
        ],
        [
         "Vintage Cars",
         "4",
         8289.0,
         8289.0
        ],
        [
         "Motorcycles",
         "4",
         4057.0,
         4057.0
        ]
       ],
       "datasetInfos": [],
       "dbfsResultPath": null,
       "isJsonSchema": true,
       "metadata": {},
       "overflow": false,
       "plotOptions": {
        "customPlotOptions": {},
        "displayType": "table",
        "pivotAggregation": null,
        "pivotColumns": null,
        "xColumns": null,
        "yColumns": null
       },
       "removedWidgets": [],
       "schema": [
        {
         "metadata": "{}",
         "name": "productline",
         "type": "\"string\""
        },
        {
         "metadata": "{}",
         "name": "qtr_id",
         "type": "\"string\""
        },
        {
         "metadata": "{\"__autoGeneratedAlias\":\"true\"}",
         "name": "min(sumo)",
         "type": "\"double\""
        },
        {
         "metadata": "{\"__autoGeneratedAlias\":\"true\"}",
         "name": "max(sumo)",
         "type": "\"double\""
        }
       ],
       "type": "table"
      }
     },
     "output_type": "display_data"
    }
   ],
   "source": [
    "%sql\n",
    "\n",
    "select productline,qtr_id,min(sumo),max(sumo) from (\n",
    "select productline,qtr_id,sum(quantityordered) as sumo from productsales group by productline,qtr_id order by qtr_id) group by productline,qtr_id\n",
    "\n"
   ]
  },
  {
   "cell_type": "code",
   "execution_count": 0,
   "metadata": {
    "application/vnd.databricks.v1+cell": {
     "cellMetadata": {
      "byteLimit": 2048000,
      "implicitDf": true,
      "rowLimit": 10000
     },
     "inputWidgets": {},
     "nuid": "891565c2-cfe0-4f87-b616-fbac0fe891c2",
     "showTitle": false,
     "title": ""
    }
   },
   "outputs": [
    {
     "output_type": "display_data",
     "data": {
      "text/html": [
       "<style scoped>\n",
       "  .table-result-container {\n",
       "    max-height: 300px;\n",
       "    overflow: auto;\n",
       "  }\n",
       "  table, th, td {\n",
       "    border: 1px solid black;\n",
       "    border-collapse: collapse;\n",
       "  }\n",
       "  th, td {\n",
       "    padding: 5px;\n",
       "  }\n",
       "  th {\n",
       "    text-align: left;\n",
       "  }\n",
       "</style><div class='table-result-container'><table class='table-result'><thead style='background-color: white'><tr><th>country</th><th>rank</th></tr></thead><tbody><tr><td>USA</td><td>1</td></tr><tr><td>USA</td><td>1</td></tr><tr><td>USA</td><td>1</td></tr><tr><td>USA</td><td>1</td></tr><tr><td>USA</td><td>1</td></tr><tr><td>USA</td><td>1</td></tr><tr><td>USA</td><td>1</td></tr><tr><td>Spain</td><td>2</td></tr><tr><td>France</td><td>2</td></tr><tr><td>France</td><td>2</td></tr><tr><td>Spain</td><td>2</td></tr><tr><td>Spain</td><td>2</td></tr><tr><td>Spain</td><td>2</td></tr><tr><td>Spain</td><td>2</td></tr><tr><td>France</td><td>3</td></tr><tr><td>Australia</td><td>3</td></tr><tr><td>Italy</td><td>3</td></tr><tr><td>UK</td><td>3</td></tr><tr><td>France</td><td>3</td></tr><tr><td>France</td><td>3</td></tr><tr><td>France</td><td>3</td></tr><tr><td>Australia</td><td>4</td></tr><tr><td>Spain</td><td>4</td></tr><tr><td>Spain</td><td>4</td></tr><tr><td>France</td><td>4</td></tr><tr><td>Singapore</td><td>4</td></tr><tr><td>Singapore</td><td>4</td></tr><tr><td>Australia</td><td>4</td></tr><tr><td>UK</td><td>5</td></tr><tr><td>Norway</td><td>5</td></tr><tr><td>Australia</td><td>5</td></tr><tr><td>Canada</td><td>5</td></tr><tr><td>UK</td><td>5</td></tr><tr><td>Australia</td><td>5</td></tr><tr><td>UK</td><td>5</td></tr><tr><td>Finland</td><td>6</td></tr><tr><td>Finland</td><td>6</td></tr><tr><td>Japan</td><td>6</td></tr><tr><td>Denmark</td><td>6</td></tr><tr><td>Denmark</td><td>6</td></tr><tr><td>Canada</td><td>6</td></tr><tr><td>Italy</td><td>6</td></tr><tr><td>Germany</td><td>7</td></tr><tr><td>UK</td><td>7</td></tr><tr><td>UK</td><td>7</td></tr><tr><td>Sweden</td><td>7</td></tr><tr><td>Belgium</td><td>7</td></tr><tr><td>Sweden</td><td>7</td></tr><tr><td>Norway</td><td>7</td></tr><tr><td>Denmark</td><td>8</td></tr><tr><td>Japan</td><td>8</td></tr><tr><td>Finland</td><td>8</td></tr><tr><td>Belgium</td><td>8</td></tr><tr><td>Finland</td><td>8</td></tr><tr><td>Germany</td><td>8</td></tr><tr><td>Finland</td><td>8</td></tr><tr><td>Canada</td><td>8</td></tr><tr><td>Norway</td><td>9</td></tr><tr><td>Philippines</td><td>9</td></tr><tr><td>Norway</td><td>9</td></tr><tr><td>Finland</td><td>9</td></tr><tr><td>Norway</td><td>9</td></tr><tr><td>Belgium</td><td>9</td></tr><tr><td>Switzerland</td><td>10</td></tr><tr><td>Austria</td><td>10</td></tr><tr><td>Canada</td><td>10</td></tr><tr><td>Japan</td><td>10</td></tr><tr><td>Italy</td><td>10</td></tr><tr><td>UK</td><td>10</td></tr><tr><td>Singapore</td><td>10</td></tr><tr><td>Singapore</td><td>11</td></tr><tr><td>Sweden</td><td>11</td></tr><tr><td>Germany</td><td>11</td></tr><tr><td>Italy</td><td>11</td></tr><tr><td>Norway</td><td>11</td></tr><tr><td>Austria</td><td>11</td></tr><tr><td>Sweden</td><td>11</td></tr><tr><td>Italy</td><td>12</td></tr><tr><td>Germany</td><td>12</td></tr><tr><td>Philippines</td><td>12</td></tr><tr><td>Singapore</td><td>12</td></tr><tr><td>Ireland</td><td>12</td></tr><tr><td>Japan</td><td>12</td></tr><tr><td>Austria</td><td>12</td></tr><tr><td>Austria</td><td>13</td></tr><tr><td>Italy</td><td>13</td></tr><tr><td>Austria</td><td>13</td></tr><tr><td>Austria</td><td>13</td></tr><tr><td>Japan</td><td>13</td></tr><tr><td>Germany</td><td>13</td></tr><tr><td>Japan</td><td>13</td></tr><tr><td>Sweden</td><td>14</td></tr><tr><td>Ireland</td><td>14</td></tr><tr><td>Ireland</td><td>14</td></tr><tr><td>Australia</td><td>14</td></tr><tr><td>Australia</td><td>14</td></tr><tr><td>Denmark</td><td>14</td></tr><tr><td>Germany</td><td>14</td></tr><tr><td>Philippines</td><td>15</td></tr><tr><td>Singapore</td><td>15</td></tr><tr><td>Sweden</td><td>15</td></tr><tr><td>Germany</td><td>15</td></tr><tr><td>Sweden</td><td>15</td></tr><tr><td>Italy</td><td>15</td></tr><tr><td>Finland</td><td>15</td></tr><tr><td>Canada</td><td>16</td></tr><tr><td>Canada</td><td>16</td></tr><tr><td>Denmark</td><td>16</td></tr><tr><td>Ireland</td><td>16</td></tr><tr><td>Denmark</td><td>16</td></tr><tr><td>Japan</td><td>17</td></tr><tr><td>Belgium</td><td>17</td></tr><tr><td>Ireland</td><td>17</td></tr><tr><td>Ireland</td><td>18</td></tr><tr><td>Philippines</td><td>18</td></tr><tr><td>Belgium</td><td>19</td></tr></tbody></table></div>"
      ]
     },
     "metadata": {
      "application/vnd.databricks.v1+output": {
       "addedWidgets": {},
       "aggData": [],
       "aggError": "",
       "aggOverflow": false,
       "aggSchema": [],
       "aggSeriesLimitReached": false,
       "aggType": "",
       "arguments": {},
       "columnCustomDisplayInfos": {},
       "data": [
        [
         "USA",
         1
        ],
        [
         "USA",
         1
        ],
        [
         "USA",
         1
        ],
        [
         "USA",
         1
        ],
        [
         "USA",
         1
        ],
        [
         "USA",
         1
        ],
        [
         "USA",
         1
        ],
        [
         "Spain",
         2
        ],
        [
         "France",
         2
        ],
        [
         "France",
         2
        ],
        [
         "Spain",
         2
        ],
        [
         "Spain",
         2
        ],
        [
         "Spain",
         2
        ],
        [
         "Spain",
         2
        ],
        [
         "France",
         3
        ],
        [
         "Australia",
         3
        ],
        [
         "Italy",
         3
        ],
        [
         "UK",
         3
        ],
        [
         "France",
         3
        ],
        [
         "France",
         3
        ],
        [
         "France",
         3
        ],
        [
         "Australia",
         4
        ],
        [
         "Spain",
         4
        ],
        [
         "Spain",
         4
        ],
        [
         "France",
         4
        ],
        [
         "Singapore",
         4
        ],
        [
         "Singapore",
         4
        ],
        [
         "Australia",
         4
        ],
        [
         "UK",
         5
        ],
        [
         "Norway",
         5
        ],
        [
         "Australia",
         5
        ],
        [
         "Canada",
         5
        ],
        [
         "UK",
         5
        ],
        [
         "Australia",
         5
        ],
        [
         "UK",
         5
        ],
        [
         "Finland",
         6
        ],
        [
         "Finland",
         6
        ],
        [
         "Japan",
         6
        ],
        [
         "Denmark",
         6
        ],
        [
         "Denmark",
         6
        ],
        [
         "Canada",
         6
        ],
        [
         "Italy",
         6
        ],
        [
         "Germany",
         7
        ],
        [
         "UK",
         7
        ],
        [
         "UK",
         7
        ],
        [
         "Sweden",
         7
        ],
        [
         "Belgium",
         7
        ],
        [
         "Sweden",
         7
        ],
        [
         "Norway",
         7
        ],
        [
         "Denmark",
         8
        ],
        [
         "Japan",
         8
        ],
        [
         "Finland",
         8
        ],
        [
         "Belgium",
         8
        ],
        [
         "Finland",
         8
        ],
        [
         "Germany",
         8
        ],
        [
         "Finland",
         8
        ],
        [
         "Canada",
         8
        ],
        [
         "Norway",
         9
        ],
        [
         "Philippines",
         9
        ],
        [
         "Norway",
         9
        ],
        [
         "Finland",
         9
        ],
        [
         "Norway",
         9
        ],
        [
         "Belgium",
         9
        ],
        [
         "Switzerland",
         10
        ],
        [
         "Austria",
         10
        ],
        [
         "Canada",
         10
        ],
        [
         "Japan",
         10
        ],
        [
         "Italy",
         10
        ],
        [
         "UK",
         10
        ],
        [
         "Singapore",
         10
        ],
        [
         "Singapore",
         11
        ],
        [
         "Sweden",
         11
        ],
        [
         "Germany",
         11
        ],
        [
         "Italy",
         11
        ],
        [
         "Norway",
         11
        ],
        [
         "Austria",
         11
        ],
        [
         "Sweden",
         11
        ],
        [
         "Italy",
         12
        ],
        [
         "Germany",
         12
        ],
        [
         "Philippines",
         12
        ],
        [
         "Singapore",
         12
        ],
        [
         "Ireland",
         12
        ],
        [
         "Japan",
         12
        ],
        [
         "Austria",
         12
        ],
        [
         "Austria",
         13
        ],
        [
         "Italy",
         13
        ],
        [
         "Austria",
         13
        ],
        [
         "Austria",
         13
        ],
        [
         "Japan",
         13
        ],
        [
         "Germany",
         13
        ],
        [
         "Japan",
         13
        ],
        [
         "Sweden",
         14
        ],
        [
         "Ireland",
         14
        ],
        [
         "Ireland",
         14
        ],
        [
         "Australia",
         14
        ],
        [
         "Australia",
         14
        ],
        [
         "Denmark",
         14
        ],
        [
         "Germany",
         14
        ],
        [
         "Philippines",
         15
        ],
        [
         "Singapore",
         15
        ],
        [
         "Sweden",
         15
        ],
        [
         "Germany",
         15
        ],
        [
         "Sweden",
         15
        ],
        [
         "Italy",
         15
        ],
        [
         "Finland",
         15
        ],
        [
         "Canada",
         16
        ],
        [
         "Canada",
         16
        ],
        [
         "Denmark",
         16
        ],
        [
         "Ireland",
         16
        ],
        [
         "Denmark",
         16
        ],
        [
         "Japan",
         17
        ],
        [
         "Belgium",
         17
        ],
        [
         "Ireland",
         17
        ],
        [
         "Ireland",
         18
        ],
        [
         "Philippines",
         18
        ],
        [
         "Belgium",
         19
        ]
       ],
       "datasetInfos": [],
       "dbfsResultPath": null,
       "isJsonSchema": true,
       "metadata": {},
       "overflow": false,
       "plotOptions": {
        "customPlotOptions": {},
        "displayType": "table",
        "pivotAggregation": null,
        "pivotColumns": null,
        "xColumns": null,
        "yColumns": null
       },
       "removedWidgets": [],
       "schema": [
        {
         "metadata": "{}",
         "name": "country",
         "type": "\"string\""
        },
        {
         "metadata": "{}",
         "name": "rank",
         "type": "\"integer\""
        }
       ],
       "type": "table"
      }
     },
     "output_type": "display_data"
    }
   ],
   "source": [
    "%sql\n",
    "select country,rank() over(partition by productline order by sum(quantityordered) desc ) as rank from productsales group by country order by rank"
   ]
  },
  {
   "cell_type": "code",
   "execution_count": 0,
   "metadata": {
    "application/vnd.databricks.v1+cell": {
     "cellMetadata": {},
     "inputWidgets": {},
     "nuid": "8545aa8a-263c-4370-b5b1-047acfd4058d",
     "showTitle": false,
     "title": ""
    }
   },
   "outputs": [],
   "source": [
    "WITH ProductLineSales AS (\n",
    "  SELECT country, productline, SUM(quantityordered) AS total_quantity\n",
    "  FROM productsales\n",
    "  WHERE orderdate >= DATE_SUB(CURDATE(), INTERVAL 1 MONTH)\n",
    "  GROUP BY country, productline\n",
    ")\n",
    "SELECT country,\n",
    "       productline,\n",
    "       RANK() OVER (PARTITION BY country ORDER BY total_quantity DESC) AS rank\n",
    "FROM ProductLineSales\n",
    "ORDER BY country, rank;\n"
   ]
  },
  {
   "cell_type": "code",
   "execution_count": 0,
   "metadata": {
    "application/vnd.databricks.v1+cell": {
     "cellMetadata": {
      "byteLimit": 2048000,
      "rowLimit": 10000
     },
     "inputWidgets": {},
     "nuid": "2760d4d1-24fd-4780-ab05-d6fd432650b2",
     "showTitle": false,
     "title": ""
    }
   },
   "outputs": [],
   "source": [
    "#calculate the rank of products.show the rank of products in each quater"
   ]
  },
  {
   "cell_type": "code",
   "execution_count": 0,
   "metadata": {
    "application/vnd.databricks.v1+cell": {
     "cellMetadata": {
      "byteLimit": 2048000,
      "implicitDf": true,
      "rowLimit": 10000
     },
     "inputWidgets": {},
     "nuid": "700d2f4d-feb4-4188-a5ea-424d9f817669",
     "showTitle": false,
     "title": ""
    }
   },
   "outputs": [
    {
     "output_type": "display_data",
     "data": {
      "text/html": [
       "<style scoped>\n",
       "  .table-result-container {\n",
       "    max-height: 300px;\n",
       "    overflow: auto;\n",
       "  }\n",
       "  table, th, td {\n",
       "    border: 1px solid black;\n",
       "    border-collapse: collapse;\n",
       "  }\n",
       "  th, td {\n",
       "    padding: 5px;\n",
       "  }\n",
       "  th {\n",
       "    text-align: left;\n",
       "  }\n",
       "</style><div class='table-result-container'><table class='table-result'><thead style='background-color: white'><tr><th>qtr_id</th><th>hot_product</th><th>cold_product</th></tr></thead><tbody><tr><td>1</td><td>Classic Cars</td><td>Trains</td></tr><tr><td>2</td><td>Classic Cars</td><td>Trains</td></tr><tr><td>3</td><td>Classic Cars</td><td>Trains</td></tr><tr><td>4</td><td>Classic Cars</td><td>Trains</td></tr></tbody></table></div>"
      ]
     },
     "metadata": {
      "application/vnd.databricks.v1+output": {
       "addedWidgets": {},
       "aggData": [],
       "aggError": "",
       "aggOverflow": false,
       "aggSchema": [],
       "aggSeriesLimitReached": false,
       "aggType": "",
       "arguments": {},
       "columnCustomDisplayInfos": {},
       "data": [
        [
         "1",
         "Classic Cars",
         "Trains"
        ],
        [
         "2",
         "Classic Cars",
         "Trains"
        ],
        [
         "3",
         "Classic Cars",
         "Trains"
        ],
        [
         "4",
         "Classic Cars",
         "Trains"
        ]
       ],
       "datasetInfos": [],
       "dbfsResultPath": null,
       "isJsonSchema": true,
       "metadata": {},
       "overflow": false,
       "plotOptions": {
        "customPlotOptions": {},
        "displayType": "table",
        "pivotAggregation": null,
        "pivotColumns": null,
        "xColumns": null,
        "yColumns": null
       },
       "removedWidgets": [],
       "schema": [
        {
         "metadata": "{}",
         "name": "qtr_id",
         "type": "\"string\""
        },
        {
         "metadata": "{}",
         "name": "hot_product",
         "type": "\"string\""
        },
        {
         "metadata": "{}",
         "name": "cold_product",
         "type": "\"string\""
        }
       ],
       "type": "table"
      }
     },
     "output_type": "display_data"
    }
   ],
   "source": [
    "%sql\n",
    "WITH RankedProducts AS (\n",
    "  SELECT\n",
    "    qtr_id,\n",
    "    productline,\n",
    "    RANK() OVER (PARTITION BY qtr_id ORDER BY SUM(quantityordered) DESC) AS quantity_rank,\n",
    "    RANK() OVER (PARTITION BY qtr_id ORDER BY SUM(quantityordered) ASC) AS quantity_rank_asc\n",
    "  FROM productsales\n",
    "  GROUP BY qtr_id, productline\n",
    ")\n",
    "SELECT\n",
    "  DISTINCT qtr_id,\n",
    "  FIRST_VALUE(productline) OVER (PARTITION BY qtr_id ORDER BY quantity_rank) AS hot_product,\n",
    "  FIRST_VALUE(productline) OVER (PARTITION BY qtr_id ORDER BY quantity_rank_asc) AS cold_product\n",
    "FROM RankedProducts\n",
    "WHERE quantity_rank = 1 OR quantity_rank_asc = 1;\n"
   ]
  }
 ],
 "metadata": {
  "application/vnd.databricks.v1+notebook": {
   "dashboards": [
    {
     "elements": [
      {
       "dashboardResultIndex": null,
       "elementNUID": "3c40a9a8-c5ce-4bd0-b672-18ec6cf72a66",
       "elementType": "command",
       "guid": "0415c4fc-4dda-4b53-972d-192918ad6f30",
       "options": null,
       "position": {
        "height": 5,
        "width": 9,
        "x": 0,
        "y": 5,
        "z": null
       },
       "resultIndex": null
      },
      {
       "dashboardResultIndex": 0,
       "elementNUID": "5d14331e-6b8a-447d-a876-862132b92c86",
       "elementType": "command",
       "guid": "4c043d89-c87a-4b17-9d81-468f228965e1",
       "options": null,
       "position": {
        "height": 2,
        "width": 9,
        "x": 0,
        "y": 10,
        "z": null
       },
       "resultIndex": null
      },
      {
       "dashboardResultIndex": 0,
       "elementNUID": "e357254a-58f6-44b4-8c4c-19d58bbdecc8",
       "elementType": "command",
       "guid": "86c97d41-a3a2-4566-9fa1-68863462879f",
       "options": {
        "autoScaleImg": false,
        "scale": 0,
        "showTitle": true,
        "title": "Total Customers",
        "titleAlign": "center"
       },
       "position": {
        "height": 3,
        "width": 9,
        "x": 0,
        "y": 0,
        "z": null
       },
       "resultIndex": null
      },
      {
       "dashboardResultIndex": null,
       "elementNUID": "1157f9d6-2a82-4345-b161-4a478f0b0490",
       "elementType": "command",
       "guid": "897d16de-64e9-4cfd-bb4e-2accefcdccb3",
       "options": null,
       "position": {
        "height": 6,
        "width": 9,
        "x": 0,
        "y": 12,
        "z": null
       },
       "resultIndex": null
      },
      {
       "dashboardResultIndex": null,
       "elementNUID": "af56fe0b-14a0-4508-9b42-a3934d9d7908",
       "elementType": "command",
       "guid": "99e84207-015f-427f-8139-5005d98c283d",
       "options": {
        "autoScaleImg": false,
        "scale": 0,
        "showTitle": false,
        "titleAlign": "center"
       },
       "position": {
        "height": 7,
        "width": 10,
        "x": 9,
        "y": 0,
        "z": null
       },
       "resultIndex": null
      },
      {
       "dashboardResultIndex": 0,
       "elementNUID": "fd3f870f-7e6b-41da-bec7-711ba412c889",
       "elementType": "command",
       "guid": "fe5f5401-7206-4e3d-9bcf-bd4b9c100b96",
       "options": {
        "autoScaleImg": false,
        "scale": 0,
        "showTitle": true,
        "title": "Total Sales",
        "titleAlign": "center"
       },
       "position": {
        "height": 2,
        "width": 9,
        "x": 0,
        "y": 3,
        "z": null
       },
       "resultIndex": null
      }
     ],
     "globalVars": {},
     "guid": "",
     "layoutOption": {
      "grid": true,
      "stack": true
     },
     "nuid": "493d16ee-b73e-48ca-98db-177e6b3ebb31",
     "origId": 2020487724883783,
     "title": "Sales Dashboard",
     "version": "DashboardViewV1",
     "width": 1024
    }
   ],
   "environmentMetadata": null,
   "language": "python",
   "notebookMetadata": {
    "mostRecentlyExecutedCommandWithImplicitDF": {
     "commandId": 2020487724883805,
     "dataframes": [
      "_sqldf"
     ]
    },
    "pythonIndentUnit": 4
   },
   "notebookName": "Spark Datatypes",
   "widgets": {}
  }
 },
 "nbformat": 4,
 "nbformat_minor": 0
}
